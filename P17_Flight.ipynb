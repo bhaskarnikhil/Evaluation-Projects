{
 "cells": [
  {
   "cell_type": "markdown",
   "metadata": {},
   "source": [
    "# IMPORTING PYTHON PACKAGES"
   ]
  },
  {
   "cell_type": "code",
   "execution_count": 1,
   "metadata": {},
   "outputs": [
    {
     "name": "stderr",
     "output_type": "stream",
     "text": [
      "C:\\Anaconda\\lib\\site-packages\\sklearn\\externals\\joblib\\__init__.py:15: DeprecationWarning: sklearn.externals.joblib is deprecated in 0.21 and will be removed in 0.23. Please import this functionality directly from joblib, which can be installed with: pip install joblib. If this warning is raised when loading pickled models, you may need to re-serialize those models with scikit-learn 0.21+.\n",
      "  warnings.warn(msg, category=DeprecationWarning)\n"
     ]
    }
   ],
   "source": [
    "import numpy as np\n",
    "import pandas as pd\n",
    "import seaborn as sns\n",
    "import matplotlib.pyplot as plt\n",
    "from sklearn.preprocessing import LabelEncoder\n",
    "from scipy.stats import zscore\n",
    "from sklearn.model_selection import train_test_split\n",
    "from sklearn.metrics import mean_absolute_error,mean_squared_error\n",
    "from sklearn.metrics import r2_score\n",
    "from sklearn import linear_model\n",
    "from sklearn.model_selection import cross_val_score\n",
    "from sklearn.linear_model import LinearRegression\n",
    "from sklearn.model_selection import GridSearchCV\n",
    "from sklearn.neighbors import KNeighborsRegressor\n",
    "from sklearn.linear_model import Lasso\n",
    "from sklearn.linear_model import Ridge\n",
    "from sklearn.linear_model import ElasticNet\n",
    "from sklearn.ensemble import GradientBoostingRegressor\n",
    "from sklearn.externals import joblib\n",
    "import warnings\n",
    "warnings.filterwarnings('ignore')"
   ]
  },
  {
   "cell_type": "markdown",
   "metadata": {},
   "source": [
    "# IMPORTING DATASET"
   ]
  },
  {
   "cell_type": "code",
   "execution_count": 2,
   "metadata": {},
   "outputs": [
    {
     "data": {
      "text/html": [
       "<div>\n",
       "<style scoped>\n",
       "    .dataframe tbody tr th:only-of-type {\n",
       "        vertical-align: middle;\n",
       "    }\n",
       "\n",
       "    .dataframe tbody tr th {\n",
       "        vertical-align: top;\n",
       "    }\n",
       "\n",
       "    .dataframe thead th {\n",
       "        text-align: right;\n",
       "    }\n",
       "</style>\n",
       "<table border=\"1\" class=\"dataframe\">\n",
       "  <thead>\n",
       "    <tr style=\"text-align: right;\">\n",
       "      <th></th>\n",
       "      <th>Airline</th>\n",
       "      <th>Date_of_Journey</th>\n",
       "      <th>Source</th>\n",
       "      <th>Destination</th>\n",
       "      <th>Route</th>\n",
       "      <th>Dep_Time</th>\n",
       "      <th>Arrival_Time</th>\n",
       "      <th>Duration</th>\n",
       "      <th>Total_Stops</th>\n",
       "      <th>Additional_Info</th>\n",
       "      <th>Price</th>\n",
       "    </tr>\n",
       "  </thead>\n",
       "  <tbody>\n",
       "    <tr>\n",
       "      <td>0</td>\n",
       "      <td>IndiGo</td>\n",
       "      <td>24/03/2019</td>\n",
       "      <td>Banglore</td>\n",
       "      <td>New Delhi</td>\n",
       "      <td>BLR → DEL</td>\n",
       "      <td>22:20</td>\n",
       "      <td>01:10 22 Mar</td>\n",
       "      <td>2h 50m</td>\n",
       "      <td>non-stop</td>\n",
       "      <td>No info</td>\n",
       "      <td>3897</td>\n",
       "    </tr>\n",
       "    <tr>\n",
       "      <td>1</td>\n",
       "      <td>Air India</td>\n",
       "      <td>1/05/2019</td>\n",
       "      <td>Kolkata</td>\n",
       "      <td>Banglore</td>\n",
       "      <td>CCU → IXR → BBI → BLR</td>\n",
       "      <td>05:50</td>\n",
       "      <td>13:15</td>\n",
       "      <td>7h 25m</td>\n",
       "      <td>2 stops</td>\n",
       "      <td>No info</td>\n",
       "      <td>7662</td>\n",
       "    </tr>\n",
       "    <tr>\n",
       "      <td>2</td>\n",
       "      <td>Jet Airways</td>\n",
       "      <td>9/06/2019</td>\n",
       "      <td>Delhi</td>\n",
       "      <td>Cochin</td>\n",
       "      <td>DEL → LKO → BOM → COK</td>\n",
       "      <td>09:25</td>\n",
       "      <td>04:25 10 Jun</td>\n",
       "      <td>19h</td>\n",
       "      <td>2 stops</td>\n",
       "      <td>No info</td>\n",
       "      <td>13882</td>\n",
       "    </tr>\n",
       "    <tr>\n",
       "      <td>3</td>\n",
       "      <td>IndiGo</td>\n",
       "      <td>12/05/2019</td>\n",
       "      <td>Kolkata</td>\n",
       "      <td>Banglore</td>\n",
       "      <td>CCU → NAG → BLR</td>\n",
       "      <td>18:05</td>\n",
       "      <td>23:30</td>\n",
       "      <td>5h 25m</td>\n",
       "      <td>1 stop</td>\n",
       "      <td>No info</td>\n",
       "      <td>6218</td>\n",
       "    </tr>\n",
       "    <tr>\n",
       "      <td>4</td>\n",
       "      <td>IndiGo</td>\n",
       "      <td>01/03/2019</td>\n",
       "      <td>Banglore</td>\n",
       "      <td>New Delhi</td>\n",
       "      <td>BLR → NAG → DEL</td>\n",
       "      <td>16:50</td>\n",
       "      <td>21:35</td>\n",
       "      <td>4h 45m</td>\n",
       "      <td>1 stop</td>\n",
       "      <td>No info</td>\n",
       "      <td>13302</td>\n",
       "    </tr>\n",
       "    <tr>\n",
       "      <td>...</td>\n",
       "      <td>...</td>\n",
       "      <td>...</td>\n",
       "      <td>...</td>\n",
       "      <td>...</td>\n",
       "      <td>...</td>\n",
       "      <td>...</td>\n",
       "      <td>...</td>\n",
       "      <td>...</td>\n",
       "      <td>...</td>\n",
       "      <td>...</td>\n",
       "      <td>...</td>\n",
       "    </tr>\n",
       "    <tr>\n",
       "      <td>10678</td>\n",
       "      <td>Air Asia</td>\n",
       "      <td>9/04/2019</td>\n",
       "      <td>Kolkata</td>\n",
       "      <td>Banglore</td>\n",
       "      <td>CCU → BLR</td>\n",
       "      <td>19:55</td>\n",
       "      <td>22:25</td>\n",
       "      <td>2h 30m</td>\n",
       "      <td>non-stop</td>\n",
       "      <td>No info</td>\n",
       "      <td>4107</td>\n",
       "    </tr>\n",
       "    <tr>\n",
       "      <td>10679</td>\n",
       "      <td>Air India</td>\n",
       "      <td>27/04/2019</td>\n",
       "      <td>Kolkata</td>\n",
       "      <td>Banglore</td>\n",
       "      <td>CCU → BLR</td>\n",
       "      <td>20:45</td>\n",
       "      <td>23:20</td>\n",
       "      <td>2h 35m</td>\n",
       "      <td>non-stop</td>\n",
       "      <td>No info</td>\n",
       "      <td>4145</td>\n",
       "    </tr>\n",
       "    <tr>\n",
       "      <td>10680</td>\n",
       "      <td>Jet Airways</td>\n",
       "      <td>27/04/2019</td>\n",
       "      <td>Banglore</td>\n",
       "      <td>Delhi</td>\n",
       "      <td>BLR → DEL</td>\n",
       "      <td>08:20</td>\n",
       "      <td>11:20</td>\n",
       "      <td>3h</td>\n",
       "      <td>non-stop</td>\n",
       "      <td>No info</td>\n",
       "      <td>7229</td>\n",
       "    </tr>\n",
       "    <tr>\n",
       "      <td>10681</td>\n",
       "      <td>Vistara</td>\n",
       "      <td>01/03/2019</td>\n",
       "      <td>Banglore</td>\n",
       "      <td>New Delhi</td>\n",
       "      <td>BLR → DEL</td>\n",
       "      <td>11:30</td>\n",
       "      <td>14:10</td>\n",
       "      <td>2h 40m</td>\n",
       "      <td>non-stop</td>\n",
       "      <td>No info</td>\n",
       "      <td>12648</td>\n",
       "    </tr>\n",
       "    <tr>\n",
       "      <td>10682</td>\n",
       "      <td>Air India</td>\n",
       "      <td>9/05/2019</td>\n",
       "      <td>Delhi</td>\n",
       "      <td>Cochin</td>\n",
       "      <td>DEL → GOI → BOM → COK</td>\n",
       "      <td>10:55</td>\n",
       "      <td>19:15</td>\n",
       "      <td>8h 20m</td>\n",
       "      <td>2 stops</td>\n",
       "      <td>No info</td>\n",
       "      <td>11753</td>\n",
       "    </tr>\n",
       "  </tbody>\n",
       "</table>\n",
       "<p>10683 rows × 11 columns</p>\n",
       "</div>"
      ],
      "text/plain": [
       "           Airline Date_of_Journey    Source Destination  \\\n",
       "0           IndiGo      24/03/2019  Banglore   New Delhi   \n",
       "1        Air India       1/05/2019   Kolkata    Banglore   \n",
       "2      Jet Airways       9/06/2019     Delhi      Cochin   \n",
       "3           IndiGo      12/05/2019   Kolkata    Banglore   \n",
       "4           IndiGo      01/03/2019  Banglore   New Delhi   \n",
       "...            ...             ...       ...         ...   \n",
       "10678     Air Asia       9/04/2019   Kolkata    Banglore   \n",
       "10679    Air India      27/04/2019   Kolkata    Banglore   \n",
       "10680  Jet Airways      27/04/2019  Banglore       Delhi   \n",
       "10681      Vistara      01/03/2019  Banglore   New Delhi   \n",
       "10682    Air India       9/05/2019     Delhi      Cochin   \n",
       "\n",
       "                       Route Dep_Time  Arrival_Time Duration Total_Stops  \\\n",
       "0                  BLR → DEL    22:20  01:10 22 Mar   2h 50m    non-stop   \n",
       "1      CCU → IXR → BBI → BLR    05:50         13:15   7h 25m     2 stops   \n",
       "2      DEL → LKO → BOM → COK    09:25  04:25 10 Jun      19h     2 stops   \n",
       "3            CCU → NAG → BLR    18:05         23:30   5h 25m      1 stop   \n",
       "4            BLR → NAG → DEL    16:50         21:35   4h 45m      1 stop   \n",
       "...                      ...      ...           ...      ...         ...   \n",
       "10678              CCU → BLR    19:55         22:25   2h 30m    non-stop   \n",
       "10679              CCU → BLR    20:45         23:20   2h 35m    non-stop   \n",
       "10680              BLR → DEL    08:20         11:20       3h    non-stop   \n",
       "10681              BLR → DEL    11:30         14:10   2h 40m    non-stop   \n",
       "10682  DEL → GOI → BOM → COK    10:55         19:15   8h 20m     2 stops   \n",
       "\n",
       "      Additional_Info  Price  \n",
       "0             No info   3897  \n",
       "1             No info   7662  \n",
       "2             No info  13882  \n",
       "3             No info   6218  \n",
       "4             No info  13302  \n",
       "...               ...    ...  \n",
       "10678         No info   4107  \n",
       "10679         No info   4145  \n",
       "10680         No info   7229  \n",
       "10681         No info  12648  \n",
       "10682         No info  11753  \n",
       "\n",
       "[10683 rows x 11 columns]"
      ]
     },
     "execution_count": 2,
     "metadata": {},
     "output_type": "execute_result"
    }
   ],
   "source": [
    "df_flight=pd.read_excel('Data_Train.xlsx')\n",
    "df_flight"
   ]
  },
  {
   "cell_type": "markdown",
   "metadata": {},
   "source": [
    "LABEL ENCODING"
   ]
  },
  {
   "cell_type": "code",
   "execution_count": 3,
   "metadata": {},
   "outputs": [
    {
     "data": {
      "text/html": [
       "<div>\n",
       "<style scoped>\n",
       "    .dataframe tbody tr th:only-of-type {\n",
       "        vertical-align: middle;\n",
       "    }\n",
       "\n",
       "    .dataframe tbody tr th {\n",
       "        vertical-align: top;\n",
       "    }\n",
       "\n",
       "    .dataframe thead th {\n",
       "        text-align: right;\n",
       "    }\n",
       "</style>\n",
       "<table border=\"1\" class=\"dataframe\">\n",
       "  <thead>\n",
       "    <tr style=\"text-align: right;\">\n",
       "      <th></th>\n",
       "      <th>Airline</th>\n",
       "      <th>Date_of_Journey</th>\n",
       "      <th>Source</th>\n",
       "      <th>Destination</th>\n",
       "      <th>Route</th>\n",
       "      <th>Dep_Time</th>\n",
       "      <th>Arrival_Time</th>\n",
       "      <th>Duration</th>\n",
       "      <th>Total_Stops</th>\n",
       "      <th>Additional_Info</th>\n",
       "      <th>Price</th>\n",
       "    </tr>\n",
       "  </thead>\n",
       "  <tbody>\n",
       "    <tr>\n",
       "      <td>0</td>\n",
       "      <td>3</td>\n",
       "      <td>24/03/2019</td>\n",
       "      <td>0</td>\n",
       "      <td>5</td>\n",
       "      <td>18</td>\n",
       "      <td>22:20</td>\n",
       "      <td>01:10 22 Mar</td>\n",
       "      <td>2h 50m</td>\n",
       "      <td>5</td>\n",
       "      <td>8</td>\n",
       "      <td>3897</td>\n",
       "    </tr>\n",
       "    <tr>\n",
       "      <td>1</td>\n",
       "      <td>1</td>\n",
       "      <td>1/05/2019</td>\n",
       "      <td>3</td>\n",
       "      <td>0</td>\n",
       "      <td>84</td>\n",
       "      <td>05:50</td>\n",
       "      <td>13:15</td>\n",
       "      <td>7h 25m</td>\n",
       "      <td>1</td>\n",
       "      <td>8</td>\n",
       "      <td>7662</td>\n",
       "    </tr>\n",
       "    <tr>\n",
       "      <td>2</td>\n",
       "      <td>4</td>\n",
       "      <td>9/06/2019</td>\n",
       "      <td>2</td>\n",
       "      <td>1</td>\n",
       "      <td>118</td>\n",
       "      <td>09:25</td>\n",
       "      <td>04:25 10 Jun</td>\n",
       "      <td>19h</td>\n",
       "      <td>1</td>\n",
       "      <td>8</td>\n",
       "      <td>13882</td>\n",
       "    </tr>\n",
       "    <tr>\n",
       "      <td>3</td>\n",
       "      <td>3</td>\n",
       "      <td>12/05/2019</td>\n",
       "      <td>3</td>\n",
       "      <td>0</td>\n",
       "      <td>91</td>\n",
       "      <td>18:05</td>\n",
       "      <td>23:30</td>\n",
       "      <td>5h 25m</td>\n",
       "      <td>0</td>\n",
       "      <td>8</td>\n",
       "      <td>6218</td>\n",
       "    </tr>\n",
       "    <tr>\n",
       "      <td>4</td>\n",
       "      <td>3</td>\n",
       "      <td>01/03/2019</td>\n",
       "      <td>0</td>\n",
       "      <td>5</td>\n",
       "      <td>29</td>\n",
       "      <td>16:50</td>\n",
       "      <td>21:35</td>\n",
       "      <td>4h 45m</td>\n",
       "      <td>0</td>\n",
       "      <td>8</td>\n",
       "      <td>13302</td>\n",
       "    </tr>\n",
       "    <tr>\n",
       "      <td>...</td>\n",
       "      <td>...</td>\n",
       "      <td>...</td>\n",
       "      <td>...</td>\n",
       "      <td>...</td>\n",
       "      <td>...</td>\n",
       "      <td>...</td>\n",
       "      <td>...</td>\n",
       "      <td>...</td>\n",
       "      <td>...</td>\n",
       "      <td>...</td>\n",
       "      <td>...</td>\n",
       "    </tr>\n",
       "    <tr>\n",
       "      <td>10678</td>\n",
       "      <td>0</td>\n",
       "      <td>9/04/2019</td>\n",
       "      <td>3</td>\n",
       "      <td>0</td>\n",
       "      <td>64</td>\n",
       "      <td>19:55</td>\n",
       "      <td>22:25</td>\n",
       "      <td>2h 30m</td>\n",
       "      <td>5</td>\n",
       "      <td>8</td>\n",
       "      <td>4107</td>\n",
       "    </tr>\n",
       "    <tr>\n",
       "      <td>10679</td>\n",
       "      <td>1</td>\n",
       "      <td>27/04/2019</td>\n",
       "      <td>3</td>\n",
       "      <td>0</td>\n",
       "      <td>64</td>\n",
       "      <td>20:45</td>\n",
       "      <td>23:20</td>\n",
       "      <td>2h 35m</td>\n",
       "      <td>5</td>\n",
       "      <td>8</td>\n",
       "      <td>4145</td>\n",
       "    </tr>\n",
       "    <tr>\n",
       "      <td>10680</td>\n",
       "      <td>4</td>\n",
       "      <td>27/04/2019</td>\n",
       "      <td>0</td>\n",
       "      <td>2</td>\n",
       "      <td>18</td>\n",
       "      <td>08:20</td>\n",
       "      <td>11:20</td>\n",
       "      <td>3h</td>\n",
       "      <td>5</td>\n",
       "      <td>8</td>\n",
       "      <td>7229</td>\n",
       "    </tr>\n",
       "    <tr>\n",
       "      <td>10681</td>\n",
       "      <td>10</td>\n",
       "      <td>01/03/2019</td>\n",
       "      <td>0</td>\n",
       "      <td>5</td>\n",
       "      <td>18</td>\n",
       "      <td>11:30</td>\n",
       "      <td>14:10</td>\n",
       "      <td>2h 40m</td>\n",
       "      <td>5</td>\n",
       "      <td>8</td>\n",
       "      <td>12648</td>\n",
       "    </tr>\n",
       "    <tr>\n",
       "      <td>10682</td>\n",
       "      <td>1</td>\n",
       "      <td>9/05/2019</td>\n",
       "      <td>2</td>\n",
       "      <td>1</td>\n",
       "      <td>108</td>\n",
       "      <td>10:55</td>\n",
       "      <td>19:15</td>\n",
       "      <td>8h 20m</td>\n",
       "      <td>1</td>\n",
       "      <td>8</td>\n",
       "      <td>11753</td>\n",
       "    </tr>\n",
       "  </tbody>\n",
       "</table>\n",
       "<p>10683 rows × 11 columns</p>\n",
       "</div>"
      ],
      "text/plain": [
       "       Airline Date_of_Journey  Source  Destination  Route Dep_Time  \\\n",
       "0            3      24/03/2019       0            5     18    22:20   \n",
       "1            1       1/05/2019       3            0     84    05:50   \n",
       "2            4       9/06/2019       2            1    118    09:25   \n",
       "3            3      12/05/2019       3            0     91    18:05   \n",
       "4            3      01/03/2019       0            5     29    16:50   \n",
       "...        ...             ...     ...          ...    ...      ...   \n",
       "10678        0       9/04/2019       3            0     64    19:55   \n",
       "10679        1      27/04/2019       3            0     64    20:45   \n",
       "10680        4      27/04/2019       0            2     18    08:20   \n",
       "10681       10      01/03/2019       0            5     18    11:30   \n",
       "10682        1       9/05/2019       2            1    108    10:55   \n",
       "\n",
       "       Arrival_Time Duration  Total_Stops  Additional_Info  Price  \n",
       "0      01:10 22 Mar   2h 50m            5                8   3897  \n",
       "1             13:15   7h 25m            1                8   7662  \n",
       "2      04:25 10 Jun      19h            1                8  13882  \n",
       "3             23:30   5h 25m            0                8   6218  \n",
       "4             21:35   4h 45m            0                8  13302  \n",
       "...             ...      ...          ...              ...    ...  \n",
       "10678         22:25   2h 30m            5                8   4107  \n",
       "10679         23:20   2h 35m            5                8   4145  \n",
       "10680         11:20       3h            5                8   7229  \n",
       "10681         14:10   2h 40m            5                8  12648  \n",
       "10682         19:15   8h 20m            1                8  11753  \n",
       "\n",
       "[10683 rows x 11 columns]"
      ]
     },
     "execution_count": 3,
     "metadata": {},
     "output_type": "execute_result"
    }
   ],
   "source": [
    "le=LabelEncoder()\n",
    "list=['Airline','Source','Destination','Route','Total_Stops','Additional_Info']\n",
    "for val in list:\n",
    "    df_flight[val]=le.fit_transform(df_flight[val].astype(str))\n",
    "df_flight"
   ]
  },
  {
   "cell_type": "markdown",
   "metadata": {},
   "source": [
    "# EXPLORATORY DATA ANALYSIS "
   ]
  },
  {
   "cell_type": "code",
   "execution_count": 4,
   "metadata": {},
   "outputs": [
    {
     "data": {
      "text/html": [
       "<div>\n",
       "<style scoped>\n",
       "    .dataframe tbody tr th:only-of-type {\n",
       "        vertical-align: middle;\n",
       "    }\n",
       "\n",
       "    .dataframe tbody tr th {\n",
       "        vertical-align: top;\n",
       "    }\n",
       "\n",
       "    .dataframe thead th {\n",
       "        text-align: right;\n",
       "    }\n",
       "</style>\n",
       "<table border=\"1\" class=\"dataframe\">\n",
       "  <thead>\n",
       "    <tr style=\"text-align: right;\">\n",
       "      <th></th>\n",
       "      <th>Airline</th>\n",
       "      <th>Date_of_Journey</th>\n",
       "      <th>Source</th>\n",
       "      <th>Destination</th>\n",
       "      <th>Route</th>\n",
       "      <th>Dep_Time</th>\n",
       "      <th>Arrival_Time</th>\n",
       "      <th>Duration</th>\n",
       "      <th>Total_Stops</th>\n",
       "      <th>Additional_Info</th>\n",
       "      <th>Price</th>\n",
       "    </tr>\n",
       "  </thead>\n",
       "  <tbody>\n",
       "    <tr>\n",
       "      <td>0</td>\n",
       "      <td>3</td>\n",
       "      <td>24/03/2019</td>\n",
       "      <td>0</td>\n",
       "      <td>5</td>\n",
       "      <td>18</td>\n",
       "      <td>22:20</td>\n",
       "      <td>01:10 22 Mar</td>\n",
       "      <td>2h 50m</td>\n",
       "      <td>5</td>\n",
       "      <td>8</td>\n",
       "      <td>3897</td>\n",
       "    </tr>\n",
       "    <tr>\n",
       "      <td>1</td>\n",
       "      <td>1</td>\n",
       "      <td>1/05/2019</td>\n",
       "      <td>3</td>\n",
       "      <td>0</td>\n",
       "      <td>84</td>\n",
       "      <td>05:50</td>\n",
       "      <td>13:15</td>\n",
       "      <td>7h 25m</td>\n",
       "      <td>1</td>\n",
       "      <td>8</td>\n",
       "      <td>7662</td>\n",
       "    </tr>\n",
       "    <tr>\n",
       "      <td>2</td>\n",
       "      <td>4</td>\n",
       "      <td>9/06/2019</td>\n",
       "      <td>2</td>\n",
       "      <td>1</td>\n",
       "      <td>118</td>\n",
       "      <td>09:25</td>\n",
       "      <td>04:25 10 Jun</td>\n",
       "      <td>19h</td>\n",
       "      <td>1</td>\n",
       "      <td>8</td>\n",
       "      <td>13882</td>\n",
       "    </tr>\n",
       "    <tr>\n",
       "      <td>3</td>\n",
       "      <td>3</td>\n",
       "      <td>12/05/2019</td>\n",
       "      <td>3</td>\n",
       "      <td>0</td>\n",
       "      <td>91</td>\n",
       "      <td>18:05</td>\n",
       "      <td>23:30</td>\n",
       "      <td>5h 25m</td>\n",
       "      <td>0</td>\n",
       "      <td>8</td>\n",
       "      <td>6218</td>\n",
       "    </tr>\n",
       "    <tr>\n",
       "      <td>4</td>\n",
       "      <td>3</td>\n",
       "      <td>01/03/2019</td>\n",
       "      <td>0</td>\n",
       "      <td>5</td>\n",
       "      <td>29</td>\n",
       "      <td>16:50</td>\n",
       "      <td>21:35</td>\n",
       "      <td>4h 45m</td>\n",
       "      <td>0</td>\n",
       "      <td>8</td>\n",
       "      <td>13302</td>\n",
       "    </tr>\n",
       "  </tbody>\n",
       "</table>\n",
       "</div>"
      ],
      "text/plain": [
       "   Airline Date_of_Journey  Source  Destination  Route Dep_Time  Arrival_Time  \\\n",
       "0        3      24/03/2019       0            5     18    22:20  01:10 22 Mar   \n",
       "1        1       1/05/2019       3            0     84    05:50         13:15   \n",
       "2        4       9/06/2019       2            1    118    09:25  04:25 10 Jun   \n",
       "3        3      12/05/2019       3            0     91    18:05         23:30   \n",
       "4        3      01/03/2019       0            5     29    16:50         21:35   \n",
       "\n",
       "  Duration  Total_Stops  Additional_Info  Price  \n",
       "0   2h 50m            5                8   3897  \n",
       "1   7h 25m            1                8   7662  \n",
       "2      19h            1                8  13882  \n",
       "3   5h 25m            0                8   6218  \n",
       "4   4h 45m            0                8  13302  "
      ]
     },
     "execution_count": 4,
     "metadata": {},
     "output_type": "execute_result"
    }
   ],
   "source": [
    "df_flight.head()"
   ]
  },
  {
   "cell_type": "code",
   "execution_count": 5,
   "metadata": {},
   "outputs": [
    {
     "data": {
      "text/html": [
       "<div>\n",
       "<style scoped>\n",
       "    .dataframe tbody tr th:only-of-type {\n",
       "        vertical-align: middle;\n",
       "    }\n",
       "\n",
       "    .dataframe tbody tr th {\n",
       "        vertical-align: top;\n",
       "    }\n",
       "\n",
       "    .dataframe thead th {\n",
       "        text-align: right;\n",
       "    }\n",
       "</style>\n",
       "<table border=\"1\" class=\"dataframe\">\n",
       "  <thead>\n",
       "    <tr style=\"text-align: right;\">\n",
       "      <th></th>\n",
       "      <th>Airline</th>\n",
       "      <th>Date_of_Journey</th>\n",
       "      <th>Source</th>\n",
       "      <th>Destination</th>\n",
       "      <th>Route</th>\n",
       "      <th>Dep_Time</th>\n",
       "      <th>Arrival_Time</th>\n",
       "      <th>Duration</th>\n",
       "      <th>Total_Stops</th>\n",
       "      <th>Additional_Info</th>\n",
       "      <th>Price</th>\n",
       "    </tr>\n",
       "  </thead>\n",
       "  <tbody>\n",
       "    <tr>\n",
       "      <td>10678</td>\n",
       "      <td>0</td>\n",
       "      <td>9/04/2019</td>\n",
       "      <td>3</td>\n",
       "      <td>0</td>\n",
       "      <td>64</td>\n",
       "      <td>19:55</td>\n",
       "      <td>22:25</td>\n",
       "      <td>2h 30m</td>\n",
       "      <td>5</td>\n",
       "      <td>8</td>\n",
       "      <td>4107</td>\n",
       "    </tr>\n",
       "    <tr>\n",
       "      <td>10679</td>\n",
       "      <td>1</td>\n",
       "      <td>27/04/2019</td>\n",
       "      <td>3</td>\n",
       "      <td>0</td>\n",
       "      <td>64</td>\n",
       "      <td>20:45</td>\n",
       "      <td>23:20</td>\n",
       "      <td>2h 35m</td>\n",
       "      <td>5</td>\n",
       "      <td>8</td>\n",
       "      <td>4145</td>\n",
       "    </tr>\n",
       "    <tr>\n",
       "      <td>10680</td>\n",
       "      <td>4</td>\n",
       "      <td>27/04/2019</td>\n",
       "      <td>0</td>\n",
       "      <td>2</td>\n",
       "      <td>18</td>\n",
       "      <td>08:20</td>\n",
       "      <td>11:20</td>\n",
       "      <td>3h</td>\n",
       "      <td>5</td>\n",
       "      <td>8</td>\n",
       "      <td>7229</td>\n",
       "    </tr>\n",
       "    <tr>\n",
       "      <td>10681</td>\n",
       "      <td>10</td>\n",
       "      <td>01/03/2019</td>\n",
       "      <td>0</td>\n",
       "      <td>5</td>\n",
       "      <td>18</td>\n",
       "      <td>11:30</td>\n",
       "      <td>14:10</td>\n",
       "      <td>2h 40m</td>\n",
       "      <td>5</td>\n",
       "      <td>8</td>\n",
       "      <td>12648</td>\n",
       "    </tr>\n",
       "    <tr>\n",
       "      <td>10682</td>\n",
       "      <td>1</td>\n",
       "      <td>9/05/2019</td>\n",
       "      <td>2</td>\n",
       "      <td>1</td>\n",
       "      <td>108</td>\n",
       "      <td>10:55</td>\n",
       "      <td>19:15</td>\n",
       "      <td>8h 20m</td>\n",
       "      <td>1</td>\n",
       "      <td>8</td>\n",
       "      <td>11753</td>\n",
       "    </tr>\n",
       "  </tbody>\n",
       "</table>\n",
       "</div>"
      ],
      "text/plain": [
       "       Airline Date_of_Journey  Source  Destination  Route Dep_Time  \\\n",
       "10678        0       9/04/2019       3            0     64    19:55   \n",
       "10679        1      27/04/2019       3            0     64    20:45   \n",
       "10680        4      27/04/2019       0            2     18    08:20   \n",
       "10681       10      01/03/2019       0            5     18    11:30   \n",
       "10682        1       9/05/2019       2            1    108    10:55   \n",
       "\n",
       "      Arrival_Time Duration  Total_Stops  Additional_Info  Price  \n",
       "10678        22:25   2h 30m            5                8   4107  \n",
       "10679        23:20   2h 35m            5                8   4145  \n",
       "10680        11:20       3h            5                8   7229  \n",
       "10681        14:10   2h 40m            5                8  12648  \n",
       "10682        19:15   8h 20m            1                8  11753  "
      ]
     },
     "execution_count": 5,
     "metadata": {},
     "output_type": "execute_result"
    }
   ],
   "source": [
    "df_flight.tail()"
   ]
  },
  {
   "cell_type": "code",
   "execution_count": 6,
   "metadata": {},
   "outputs": [
    {
     "data": {
      "text/plain": [
       "(10683, 11)"
      ]
     },
     "execution_count": 6,
     "metadata": {},
     "output_type": "execute_result"
    }
   ],
   "source": [
    "df_flight.shape"
   ]
  },
  {
   "cell_type": "code",
   "execution_count": 7,
   "metadata": {},
   "outputs": [
    {
     "data": {
      "text/plain": [
       "Airline             int32\n",
       "Date_of_Journey    object\n",
       "Source              int32\n",
       "Destination         int32\n",
       "Route               int32\n",
       "Dep_Time           object\n",
       "Arrival_Time       object\n",
       "Duration           object\n",
       "Total_Stops         int32\n",
       "Additional_Info     int32\n",
       "Price               int64\n",
       "dtype: object"
      ]
     },
     "execution_count": 7,
     "metadata": {},
     "output_type": "execute_result"
    }
   ],
   "source": [
    "df_flight.dtypes"
   ]
  },
  {
   "cell_type": "code",
   "execution_count": 8,
   "metadata": {},
   "outputs": [
    {
     "data": {
      "text/html": [
       "<div>\n",
       "<style scoped>\n",
       "    .dataframe tbody tr th:only-of-type {\n",
       "        vertical-align: middle;\n",
       "    }\n",
       "\n",
       "    .dataframe tbody tr th {\n",
       "        vertical-align: top;\n",
       "    }\n",
       "\n",
       "    .dataframe thead th {\n",
       "        text-align: right;\n",
       "    }\n",
       "</style>\n",
       "<table border=\"1\" class=\"dataframe\">\n",
       "  <thead>\n",
       "    <tr style=\"text-align: right;\">\n",
       "      <th></th>\n",
       "      <th>Airline</th>\n",
       "      <th>Source</th>\n",
       "      <th>Destination</th>\n",
       "      <th>Route</th>\n",
       "      <th>Duration</th>\n",
       "      <th>Total_Stops</th>\n",
       "      <th>Additional_Info</th>\n",
       "      <th>Price</th>\n",
       "    </tr>\n",
       "  </thead>\n",
       "  <tbody>\n",
       "    <tr>\n",
       "      <td>0</td>\n",
       "      <td>3</td>\n",
       "      <td>0</td>\n",
       "      <td>5</td>\n",
       "      <td>18</td>\n",
       "      <td>10200.0</td>\n",
       "      <td>5</td>\n",
       "      <td>8</td>\n",
       "      <td>3897</td>\n",
       "    </tr>\n",
       "    <tr>\n",
       "      <td>1</td>\n",
       "      <td>1</td>\n",
       "      <td>3</td>\n",
       "      <td>0</td>\n",
       "      <td>84</td>\n",
       "      <td>26700.0</td>\n",
       "      <td>1</td>\n",
       "      <td>8</td>\n",
       "      <td>7662</td>\n",
       "    </tr>\n",
       "    <tr>\n",
       "      <td>2</td>\n",
       "      <td>4</td>\n",
       "      <td>2</td>\n",
       "      <td>1</td>\n",
       "      <td>118</td>\n",
       "      <td>68400.0</td>\n",
       "      <td>1</td>\n",
       "      <td>8</td>\n",
       "      <td>13882</td>\n",
       "    </tr>\n",
       "    <tr>\n",
       "      <td>3</td>\n",
       "      <td>3</td>\n",
       "      <td>3</td>\n",
       "      <td>0</td>\n",
       "      <td>91</td>\n",
       "      <td>19500.0</td>\n",
       "      <td>0</td>\n",
       "      <td>8</td>\n",
       "      <td>6218</td>\n",
       "    </tr>\n",
       "    <tr>\n",
       "      <td>4</td>\n",
       "      <td>3</td>\n",
       "      <td>0</td>\n",
       "      <td>5</td>\n",
       "      <td>29</td>\n",
       "      <td>17100.0</td>\n",
       "      <td>0</td>\n",
       "      <td>8</td>\n",
       "      <td>13302</td>\n",
       "    </tr>\n",
       "    <tr>\n",
       "      <td>...</td>\n",
       "      <td>...</td>\n",
       "      <td>...</td>\n",
       "      <td>...</td>\n",
       "      <td>...</td>\n",
       "      <td>...</td>\n",
       "      <td>...</td>\n",
       "      <td>...</td>\n",
       "      <td>...</td>\n",
       "    </tr>\n",
       "    <tr>\n",
       "      <td>10678</td>\n",
       "      <td>0</td>\n",
       "      <td>3</td>\n",
       "      <td>0</td>\n",
       "      <td>64</td>\n",
       "      <td>9000.0</td>\n",
       "      <td>5</td>\n",
       "      <td>8</td>\n",
       "      <td>4107</td>\n",
       "    </tr>\n",
       "    <tr>\n",
       "      <td>10679</td>\n",
       "      <td>1</td>\n",
       "      <td>3</td>\n",
       "      <td>0</td>\n",
       "      <td>64</td>\n",
       "      <td>9300.0</td>\n",
       "      <td>5</td>\n",
       "      <td>8</td>\n",
       "      <td>4145</td>\n",
       "    </tr>\n",
       "    <tr>\n",
       "      <td>10680</td>\n",
       "      <td>4</td>\n",
       "      <td>0</td>\n",
       "      <td>2</td>\n",
       "      <td>18</td>\n",
       "      <td>10800.0</td>\n",
       "      <td>5</td>\n",
       "      <td>8</td>\n",
       "      <td>7229</td>\n",
       "    </tr>\n",
       "    <tr>\n",
       "      <td>10681</td>\n",
       "      <td>10</td>\n",
       "      <td>0</td>\n",
       "      <td>5</td>\n",
       "      <td>18</td>\n",
       "      <td>9600.0</td>\n",
       "      <td>5</td>\n",
       "      <td>8</td>\n",
       "      <td>12648</td>\n",
       "    </tr>\n",
       "    <tr>\n",
       "      <td>10682</td>\n",
       "      <td>1</td>\n",
       "      <td>2</td>\n",
       "      <td>1</td>\n",
       "      <td>108</td>\n",
       "      <td>30000.0</td>\n",
       "      <td>1</td>\n",
       "      <td>8</td>\n",
       "      <td>11753</td>\n",
       "    </tr>\n",
       "  </tbody>\n",
       "</table>\n",
       "<p>10683 rows × 8 columns</p>\n",
       "</div>"
      ],
      "text/plain": [
       "       Airline  Source  Destination  Route  Duration  Total_Stops  \\\n",
       "0            3       0            5     18   10200.0            5   \n",
       "1            1       3            0     84   26700.0            1   \n",
       "2            4       2            1    118   68400.0            1   \n",
       "3            3       3            0     91   19500.0            0   \n",
       "4            3       0            5     29   17100.0            0   \n",
       "...        ...     ...          ...    ...       ...          ...   \n",
       "10678        0       3            0     64    9000.0            5   \n",
       "10679        1       3            0     64    9300.0            5   \n",
       "10680        4       0            2     18   10800.0            5   \n",
       "10681       10       0            5     18    9600.0            5   \n",
       "10682        1       2            1    108   30000.0            1   \n",
       "\n",
       "       Additional_Info  Price  \n",
       "0                    8   3897  \n",
       "1                    8   7662  \n",
       "2                    8  13882  \n",
       "3                    8   6218  \n",
       "4                    8  13302  \n",
       "...                ...    ...  \n",
       "10678                8   4107  \n",
       "10679                8   4145  \n",
       "10680                8   7229  \n",
       "10681                8  12648  \n",
       "10682                8  11753  \n",
       "\n",
       "[10683 rows x 8 columns]"
      ]
     },
     "execution_count": 8,
     "metadata": {},
     "output_type": "execute_result"
    }
   ],
   "source": [
    "df_flight.drop(df_flight.columns[[1,5,6]],axis=1,inplace=True)\n",
    "df_flight['Duration']=pd.to_timedelta(df_flight['Duration'])\n",
    "df_flight['Duration']=df_flight.Duration.dt.total_seconds()\n",
    "df_flight"
   ]
  },
  {
   "cell_type": "code",
   "execution_count": 9,
   "metadata": {},
   "outputs": [
    {
     "data": {
      "text/plain": [
       "Index(['Airline', 'Source', 'Destination', 'Route', 'Duration', 'Total_Stops',\n",
       "       'Additional_Info', 'Price'],\n",
       "      dtype='object')"
      ]
     },
     "execution_count": 9,
     "metadata": {},
     "output_type": "execute_result"
    }
   ],
   "source": [
    "df_flight.columns"
   ]
  },
  {
   "cell_type": "code",
   "execution_count": 10,
   "metadata": {},
   "outputs": [
    {
     "name": "stdout",
     "output_type": "stream",
     "text": [
      "<class 'pandas.core.frame.DataFrame'>\n",
      "RangeIndex: 10683 entries, 0 to 10682\n",
      "Data columns (total 8 columns):\n",
      "Airline            10683 non-null int32\n",
      "Source             10683 non-null int32\n",
      "Destination        10683 non-null int32\n",
      "Route              10683 non-null int32\n",
      "Duration           10683 non-null float64\n",
      "Total_Stops        10683 non-null int32\n",
      "Additional_Info    10683 non-null int32\n",
      "Price              10683 non-null int64\n",
      "dtypes: float64(1), int32(6), int64(1)\n",
      "memory usage: 417.4 KB\n"
     ]
    }
   ],
   "source": [
    "df_flight.info()"
   ]
  },
  {
   "cell_type": "code",
   "execution_count": 11,
   "metadata": {},
   "outputs": [
    {
     "data": {
      "text/html": [
       "<div>\n",
       "<style scoped>\n",
       "    .dataframe tbody tr th:only-of-type {\n",
       "        vertical-align: middle;\n",
       "    }\n",
       "\n",
       "    .dataframe tbody tr th {\n",
       "        vertical-align: top;\n",
       "    }\n",
       "\n",
       "    .dataframe thead th {\n",
       "        text-align: right;\n",
       "    }\n",
       "</style>\n",
       "<table border=\"1\" class=\"dataframe\">\n",
       "  <thead>\n",
       "    <tr style=\"text-align: right;\">\n",
       "      <th></th>\n",
       "      <th>Airline</th>\n",
       "      <th>Source</th>\n",
       "      <th>Destination</th>\n",
       "      <th>Route</th>\n",
       "      <th>Duration</th>\n",
       "      <th>Total_Stops</th>\n",
       "      <th>Additional_Info</th>\n",
       "      <th>Price</th>\n",
       "    </tr>\n",
       "  </thead>\n",
       "  <tbody>\n",
       "    <tr>\n",
       "      <td>count</td>\n",
       "      <td>10683.000000</td>\n",
       "      <td>10683.000000</td>\n",
       "      <td>10683.000000</td>\n",
       "      <td>10683.000000</td>\n",
       "      <td>10683.000000</td>\n",
       "      <td>10683.000000</td>\n",
       "      <td>10683.000000</td>\n",
       "      <td>10683.000000</td>\n",
       "    </tr>\n",
       "    <tr>\n",
       "      <td>mean</td>\n",
       "      <td>3.965927</td>\n",
       "      <td>1.952261</td>\n",
       "      <td>1.436113</td>\n",
       "      <td>74.825143</td>\n",
       "      <td>38585.593934</td>\n",
       "      <td>1.785266</td>\n",
       "      <td>7.393054</td>\n",
       "      <td>9087.064121</td>\n",
       "    </tr>\n",
       "    <tr>\n",
       "      <td>std</td>\n",
       "      <td>2.352155</td>\n",
       "      <td>1.177221</td>\n",
       "      <td>1.474782</td>\n",
       "      <td>36.730924</td>\n",
       "      <td>30471.720053</td>\n",
       "      <td>2.268105</td>\n",
       "      <td>1.214211</td>\n",
       "      <td>4611.359167</td>\n",
       "    </tr>\n",
       "    <tr>\n",
       "      <td>min</td>\n",
       "      <td>0.000000</td>\n",
       "      <td>0.000000</td>\n",
       "      <td>0.000000</td>\n",
       "      <td>0.000000</td>\n",
       "      <td>300.000000</td>\n",
       "      <td>0.000000</td>\n",
       "      <td>0.000000</td>\n",
       "      <td>1759.000000</td>\n",
       "    </tr>\n",
       "    <tr>\n",
       "      <td>25%</td>\n",
       "      <td>3.000000</td>\n",
       "      <td>2.000000</td>\n",
       "      <td>0.000000</td>\n",
       "      <td>48.000000</td>\n",
       "      <td>10200.000000</td>\n",
       "      <td>0.000000</td>\n",
       "      <td>8.000000</td>\n",
       "      <td>5277.000000</td>\n",
       "    </tr>\n",
       "    <tr>\n",
       "      <td>50%</td>\n",
       "      <td>4.000000</td>\n",
       "      <td>2.000000</td>\n",
       "      <td>1.000000</td>\n",
       "      <td>73.000000</td>\n",
       "      <td>31200.000000</td>\n",
       "      <td>0.000000</td>\n",
       "      <td>8.000000</td>\n",
       "      <td>8372.000000</td>\n",
       "    </tr>\n",
       "    <tr>\n",
       "      <td>75%</td>\n",
       "      <td>4.000000</td>\n",
       "      <td>3.000000</td>\n",
       "      <td>2.000000</td>\n",
       "      <td>104.000000</td>\n",
       "      <td>55800.000000</td>\n",
       "      <td>5.000000</td>\n",
       "      <td>8.000000</td>\n",
       "      <td>12373.000000</td>\n",
       "    </tr>\n",
       "    <tr>\n",
       "      <td>max</td>\n",
       "      <td>11.000000</td>\n",
       "      <td>4.000000</td>\n",
       "      <td>5.000000</td>\n",
       "      <td>128.000000</td>\n",
       "      <td>171600.000000</td>\n",
       "      <td>5.000000</td>\n",
       "      <td>9.000000</td>\n",
       "      <td>79512.000000</td>\n",
       "    </tr>\n",
       "  </tbody>\n",
       "</table>\n",
       "</div>"
      ],
      "text/plain": [
       "            Airline        Source   Destination         Route       Duration  \\\n",
       "count  10683.000000  10683.000000  10683.000000  10683.000000   10683.000000   \n",
       "mean       3.965927      1.952261      1.436113     74.825143   38585.593934   \n",
       "std        2.352155      1.177221      1.474782     36.730924   30471.720053   \n",
       "min        0.000000      0.000000      0.000000      0.000000     300.000000   \n",
       "25%        3.000000      2.000000      0.000000     48.000000   10200.000000   \n",
       "50%        4.000000      2.000000      1.000000     73.000000   31200.000000   \n",
       "75%        4.000000      3.000000      2.000000    104.000000   55800.000000   \n",
       "max       11.000000      4.000000      5.000000    128.000000  171600.000000   \n",
       "\n",
       "        Total_Stops  Additional_Info         Price  \n",
       "count  10683.000000     10683.000000  10683.000000  \n",
       "mean       1.785266         7.393054   9087.064121  \n",
       "std        2.268105         1.214211   4611.359167  \n",
       "min        0.000000         0.000000   1759.000000  \n",
       "25%        0.000000         8.000000   5277.000000  \n",
       "50%        0.000000         8.000000   8372.000000  \n",
       "75%        5.000000         8.000000  12373.000000  \n",
       "max        5.000000         9.000000  79512.000000  "
      ]
     },
     "execution_count": 11,
     "metadata": {},
     "output_type": "execute_result"
    }
   ],
   "source": [
    "df_flight.describe()"
   ]
  },
  {
   "cell_type": "markdown",
   "metadata": {},
   "source": [
    "Data in the column 'Total_Stops' does not appear to have normal distribution. Data in all other columns appear to have normal distribution (mean very close to 50th percentile)."
   ]
  },
  {
   "cell_type": "code",
   "execution_count": 12,
   "metadata": {},
   "outputs": [],
   "source": [
    "#sns.heatmap(df_flight.isnull(),annot=True)"
   ]
  },
  {
   "cell_type": "code",
   "execution_count": 13,
   "metadata": {},
   "outputs": [
    {
     "data": {
      "text/plain": [
       "Airline            0\n",
       "Source             0\n",
       "Destination        0\n",
       "Route              0\n",
       "Duration           0\n",
       "Total_Stops        0\n",
       "Additional_Info    0\n",
       "Price              0\n",
       "dtype: int64"
      ]
     },
     "execution_count": 13,
     "metadata": {},
     "output_type": "execute_result"
    }
   ],
   "source": [
    "df_flight.isnull().sum()"
   ]
  },
  {
   "cell_type": "markdown",
   "metadata": {},
   "source": [
    "CHECKING DATA SKEWNESS"
   ]
  },
  {
   "cell_type": "code",
   "execution_count": 14,
   "metadata": {},
   "outputs": [
    {
     "data": {
      "text/plain": [
       "Airline            0.731095\n",
       "Source            -0.424054\n",
       "Destination        1.244169\n",
       "Route             -0.501909\n",
       "Duration           0.861074\n",
       "Total_Stops        0.668085\n",
       "Additional_Info   -1.779838\n",
       "Price              1.812552\n",
       "dtype: float64"
      ]
     },
     "execution_count": 14,
     "metadata": {},
     "output_type": "execute_result"
    }
   ],
   "source": [
    "df_flight.skew()"
   ]
  },
  {
   "cell_type": "markdown",
   "metadata": {},
   "source": [
    "REMOVING DATA SKEWNESS"
   ]
  },
  {
   "cell_type": "code",
   "execution_count": 15,
   "metadata": {},
   "outputs": [
    {
     "data": {
      "text/plain": [
       "Airline           -0.679875\n",
       "Source            -0.424054\n",
       "Destination        0.283084\n",
       "Route             -0.501909\n",
       "Duration          -0.173977\n",
       "Total_Stops        0.510400\n",
       "Additional_Info   -1.779838\n",
       "Price             -0.254565\n",
       "dtype: float64"
      ]
     },
     "execution_count": 15,
     "metadata": {},
     "output_type": "execute_result"
    }
   ],
   "source": [
    "for col in df_flight.columns:\n",
    "    if df_flight.skew().loc[col]>0.55:\n",
    "        df_flight[col]=np.log1p(df_flight[col])\n",
    "df_flight.skew()"
   ]
  },
  {
   "cell_type": "markdown",
   "metadata": {},
   "source": [
    "CHECKING OUTLIERS"
   ]
  },
  {
   "cell_type": "code",
   "execution_count": 16,
   "metadata": {},
   "outputs": [
    {
     "name": "stdout",
     "output_type": "stream",
     "text": [
      "(10683, 8)\n",
      "(array([  657,   785,  1043,  1478,  2079,  2405,  2481,  2495,  2556,\n",
      "        2618,  2924,  2924,  3032,  3111,  3700,  3788,  4521,  5013,\n",
      "        5372,  5372,  5439,  5628,  6024,  6336,  6474,  6576,  7351,\n",
      "        7724,  8957,  9019,  9657,  9715, 10364, 10364, 10511],\n",
      "      dtype=int64), array([7, 6, 6, 7, 6, 6, 6, 6, 6, 7, 6, 7, 6, 6, 6, 6, 6, 6, 6, 7, 7, 6,\n",
      "       6, 6, 4, 6, 7, 6, 6, 6, 6, 7, 6, 7, 6], dtype=int64))\n"
     ]
    }
   ],
   "source": [
    "z=np.abs(zscore(df_flight))\n",
    "print(z.shape)\n",
    "print(np.where(z>3))"
   ]
  },
  {
   "cell_type": "markdown",
   "metadata": {},
   "source": [
    "REMOVING OUTLIERS"
   ]
  },
  {
   "cell_type": "code",
   "execution_count": 17,
   "metadata": {},
   "outputs": [
    {
     "name": "stdout",
     "output_type": "stream",
     "text": [
      "(10651, 8)\n"
     ]
    }
   ],
   "source": [
    "df_final=df_flight.loc[(z<3).all(axis=1)]\n",
    "print(df_final.shape)"
   ]
  },
  {
   "cell_type": "markdown",
   "metadata": {},
   "source": [
    "CORRELATION"
   ]
  },
  {
   "cell_type": "code",
   "execution_count": 18,
   "metadata": {},
   "outputs": [
    {
     "data": {
      "text/html": [
       "<div>\n",
       "<style scoped>\n",
       "    .dataframe tbody tr th:only-of-type {\n",
       "        vertical-align: middle;\n",
       "    }\n",
       "\n",
       "    .dataframe tbody tr th {\n",
       "        vertical-align: top;\n",
       "    }\n",
       "\n",
       "    .dataframe thead th {\n",
       "        text-align: right;\n",
       "    }\n",
       "</style>\n",
       "<table border=\"1\" class=\"dataframe\">\n",
       "  <thead>\n",
       "    <tr style=\"text-align: right;\">\n",
       "      <th></th>\n",
       "      <th>Airline</th>\n",
       "      <th>Source</th>\n",
       "      <th>Destination</th>\n",
       "      <th>Route</th>\n",
       "      <th>Duration</th>\n",
       "      <th>Total_Stops</th>\n",
       "      <th>Additional_Info</th>\n",
       "      <th>Price</th>\n",
       "    </tr>\n",
       "  </thead>\n",
       "  <tbody>\n",
       "    <tr>\n",
       "      <td>Airline</td>\n",
       "      <td>1.000000</td>\n",
       "      <td>-0.009049</td>\n",
       "      <td>0.033502</td>\n",
       "      <td>0.045648</td>\n",
       "      <td>-0.088580</td>\n",
       "      <td>-0.056448</td>\n",
       "      <td>-0.164934</td>\n",
       "      <td>0.010654</td>\n",
       "    </tr>\n",
       "    <tr>\n",
       "      <td>Source</td>\n",
       "      <td>-0.009049</td>\n",
       "      <td>1.000000</td>\n",
       "      <td>-0.625785</td>\n",
       "      <td>0.398909</td>\n",
       "      <td>0.124356</td>\n",
       "      <td>-0.224271</td>\n",
       "      <td>-0.044559</td>\n",
       "      <td>0.028164</td>\n",
       "    </tr>\n",
       "    <tr>\n",
       "      <td>Destination</td>\n",
       "      <td>0.033502</td>\n",
       "      <td>-0.625785</td>\n",
       "      <td>1.000000</td>\n",
       "      <td>-0.343340</td>\n",
       "      <td>-0.351384</td>\n",
       "      <td>0.348342</td>\n",
       "      <td>0.067399</td>\n",
       "      <td>-0.206534</td>\n",
       "    </tr>\n",
       "    <tr>\n",
       "      <td>Route</td>\n",
       "      <td>0.045648</td>\n",
       "      <td>0.398909</td>\n",
       "      <td>-0.343340</td>\n",
       "      <td>1.000000</td>\n",
       "      <td>0.375659</td>\n",
       "      <td>-0.419361</td>\n",
       "      <td>0.014204</td>\n",
       "      <td>0.259007</td>\n",
       "    </tr>\n",
       "    <tr>\n",
       "      <td>Duration</td>\n",
       "      <td>-0.088580</td>\n",
       "      <td>0.124356</td>\n",
       "      <td>-0.351384</td>\n",
       "      <td>0.375659</td>\n",
       "      <td>1.000000</td>\n",
       "      <td>-0.762643</td>\n",
       "      <td>-0.176732</td>\n",
       "      <td>0.732259</td>\n",
       "    </tr>\n",
       "    <tr>\n",
       "      <td>Total_Stops</td>\n",
       "      <td>-0.056448</td>\n",
       "      <td>-0.224271</td>\n",
       "      <td>0.348342</td>\n",
       "      <td>-0.419361</td>\n",
       "      <td>-0.762643</td>\n",
       "      <td>1.000000</td>\n",
       "      <td>0.165090</td>\n",
       "      <td>-0.648473</td>\n",
       "    </tr>\n",
       "    <tr>\n",
       "      <td>Additional_Info</td>\n",
       "      <td>-0.164934</td>\n",
       "      <td>-0.044559</td>\n",
       "      <td>0.067399</td>\n",
       "      <td>0.014204</td>\n",
       "      <td>-0.176732</td>\n",
       "      <td>0.165090</td>\n",
       "      <td>1.000000</td>\n",
       "      <td>-0.069317</td>\n",
       "    </tr>\n",
       "    <tr>\n",
       "      <td>Price</td>\n",
       "      <td>0.010654</td>\n",
       "      <td>0.028164</td>\n",
       "      <td>-0.206534</td>\n",
       "      <td>0.259007</td>\n",
       "      <td>0.732259</td>\n",
       "      <td>-0.648473</td>\n",
       "      <td>-0.069317</td>\n",
       "      <td>1.000000</td>\n",
       "    </tr>\n",
       "  </tbody>\n",
       "</table>\n",
       "</div>"
      ],
      "text/plain": [
       "                  Airline    Source  Destination     Route  Duration  \\\n",
       "Airline          1.000000 -0.009049     0.033502  0.045648 -0.088580   \n",
       "Source          -0.009049  1.000000    -0.625785  0.398909  0.124356   \n",
       "Destination      0.033502 -0.625785     1.000000 -0.343340 -0.351384   \n",
       "Route            0.045648  0.398909    -0.343340  1.000000  0.375659   \n",
       "Duration        -0.088580  0.124356    -0.351384  0.375659  1.000000   \n",
       "Total_Stops     -0.056448 -0.224271     0.348342 -0.419361 -0.762643   \n",
       "Additional_Info -0.164934 -0.044559     0.067399  0.014204 -0.176732   \n",
       "Price            0.010654  0.028164    -0.206534  0.259007  0.732259   \n",
       "\n",
       "                 Total_Stops  Additional_Info     Price  \n",
       "Airline            -0.056448        -0.164934  0.010654  \n",
       "Source             -0.224271        -0.044559  0.028164  \n",
       "Destination         0.348342         0.067399 -0.206534  \n",
       "Route              -0.419361         0.014204  0.259007  \n",
       "Duration           -0.762643        -0.176732  0.732259  \n",
       "Total_Stops         1.000000         0.165090 -0.648473  \n",
       "Additional_Info     0.165090         1.000000 -0.069317  \n",
       "Price              -0.648473        -0.069317  1.000000  "
      ]
     },
     "execution_count": 18,
     "metadata": {},
     "output_type": "execute_result"
    }
   ],
   "source": [
    "df_final.corr()"
   ]
  },
  {
   "cell_type": "markdown",
   "metadata": {},
   "source": [
    "PAIRPLOT"
   ]
  },
  {
   "cell_type": "code",
   "execution_count": 19,
   "metadata": {},
   "outputs": [
    {
     "data": {
      "text/plain": [
       "<seaborn.axisgrid.PairGrid at 0x293fedcdf48>"
      ]
     },
     "execution_count": 19,
     "metadata": {},
     "output_type": "execute_result"
    },
    {
     "data": {
      "image/png": "[encoded data removed]",
      "text/plain": [
       "<Figure size 1440x1440 with 72 Axes>"
      ]
     },
     "metadata": {
      "needs_background": "light"
     },
     "output_type": "display_data"
    }
   ],
   "source": [
    "sns.pairplot(df_final)"
   ]
  },
  {
   "cell_type": "markdown",
   "metadata": {},
   "source": [
    "# TRAIN AND TEST DATA"
   ]
  },
  {
   "cell_type": "code",
   "execution_count": 20,
   "metadata": {},
   "outputs": [
    {
     "name": "stdout",
     "output_type": "stream",
     "text": [
      "        Airline  Source  Destination  Route   Duration  Total_Stops  \\\n",
      "0      1.386294       0     1.791759     18   9.230241     1.791759   \n",
      "1      0.693147       3     0.000000     84  10.192456     0.693147   \n",
      "2      1.609438       2     0.693147    118  11.133143     0.693147   \n",
      "3      1.386294       3     0.000000     91   9.878221     0.000000   \n",
      "4      1.386294       0     1.791759     29   9.746892     0.000000   \n",
      "...         ...     ...          ...    ...        ...          ...   \n",
      "10678  0.000000       3     0.000000     64   9.105091     1.791759   \n",
      "10679  0.693147       3     0.000000     64   9.137877     1.791759   \n",
      "10680  1.609438       0     1.098612     18   9.287394     1.791759   \n",
      "10681  2.397895       0     1.791759     18   9.169623     1.791759   \n",
      "10682  0.693147       2     0.693147    108  10.308986     0.693147   \n",
      "\n",
      "       Additional_Info  \n",
      "0                    8  \n",
      "1                    8  \n",
      "2                    8  \n",
      "3                    8  \n",
      "4                    8  \n",
      "...                ...  \n",
      "10678                8  \n",
      "10679                8  \n",
      "10680                8  \n",
      "10681                8  \n",
      "10682                8  \n",
      "\n",
      "[10651 rows x 7 columns]\n",
      "0        8.268219\n",
      "1        8.944159\n",
      "2        9.538420\n",
      "3        8.735364\n",
      "4        9.495745\n",
      "           ...   \n",
      "10678    8.320692\n",
      "10679    8.329899\n",
      "10680    8.885994\n",
      "10681    9.445333\n",
      "10682    9.371949\n",
      "Name: Price, Length: 10651, dtype: float64\n",
      "\n",
      "(10651, 7)\n",
      "(10651,)\n"
     ]
    }
   ],
   "source": [
    "df_x=df_final.iloc[:,:-1]\n",
    "print(df_x)\n",
    "y=df_final.iloc[:,-1]\n",
    "print(y)\n",
    "print()\n",
    "print(df_x.shape)\n",
    "print(y.shape)"
   ]
  },
  {
   "cell_type": "code",
   "execution_count": 21,
   "metadata": {},
   "outputs": [],
   "source": [
    "x=df_x"
   ]
  },
  {
   "cell_type": "markdown",
   "metadata": {},
   "source": [
    "# TRAINING AND TESTING - VARIOUS MODELS"
   ]
  },
  {
   "cell_type": "markdown",
   "metadata": {},
   "source": [
    "FUNCTION DECLARATION"
   ]
  },
  {
   "cell_type": "code",
   "execution_count": 22,
   "metadata": {},
   "outputs": [],
   "source": [
    "def maxr2_score(regr,x,y):\n",
    "    max_r_score=0\n",
    "    for r_state in range(42,101):\n",
    "        x_train,x_test,y_train,y_test=train_test_split(x,y,random_state=r_state,test_size=0.20)\n",
    "        regr.fit(x_train,y_train)\n",
    "        y_pred=regr.predict(x_test)\n",
    "        r2_scr=r2_score(y_test,y_pred)\n",
    "        print(\"R2 Score corresponding to \",r_state,\" is \",r2_scr)\n",
    "        if r2_scr>max_r_score:\n",
    "            max_r_score=r2_scr\n",
    "            final_r_state=r_state\n",
    "    print(\"Maximum R2 Score corresponds to \",final_r_state,\" is \",max_r_score)\n",
    "    return(final_r_state)"
   ]
  },
  {
   "cell_type": "markdown",
   "metadata": {},
   "source": [
    "LOGISTIC REGRESSION"
   ]
  },
  {
   "cell_type": "code",
   "execution_count": 23,
   "metadata": {},
   "outputs": [
    {
     "name": "stdout",
     "output_type": "stream",
     "text": [
      "R2 Score corresponding to  42  is  0.5678854316084214\n",
      "R2 Score corresponding to  43  is  0.5743871009779316\n",
      "R2 Score corresponding to  44  is  0.5505735579124931\n",
      "R2 Score corresponding to  45  is  0.5589750340498065\n",
      "R2 Score corresponding to  46  is  0.5696100120133873\n",
      "R2 Score corresponding to  47  is  0.6029521802952506\n",
      "R2 Score corresponding to  48  is  0.5693447024045135\n",
      "R2 Score corresponding to  49  is  0.5794277284968217\n",
      "R2 Score corresponding to  50  is  0.5807208342818744\n",
      "R2 Score corresponding to  51  is  0.5737607002716589\n",
      "R2 Score corresponding to  52  is  0.5880739003124507\n",
      "R2 Score corresponding to  53  is  0.5462326273510176\n",
      "R2 Score corresponding to  54  is  0.5457532700297089\n",
      "R2 Score corresponding to  55  is  0.5903289499308849\n",
      "R2 Score corresponding to  56  is  0.5973043846424704\n",
      "R2 Score corresponding to  57  is  0.5582251804283329\n",
      "R2 Score corresponding to  58  is  0.5706167784348859\n",
      "R2 Score corresponding to  59  is  0.5683624077159447\n",
      "R2 Score corresponding to  60  is  0.5836960656991246\n",
      "R2 Score corresponding to  61  is  0.5409213437712235\n",
      "R2 Score corresponding to  62  is  0.5725179492134226\n",
      "R2 Score corresponding to  63  is  0.5706456700640972\n",
      "R2 Score corresponding to  64  is  0.5813072790764433\n",
      "R2 Score corresponding to  65  is  0.5685104484838437\n",
      "R2 Score corresponding to  66  is  0.5590345801656031\n",
      "R2 Score corresponding to  67  is  0.5719516932643909\n",
      "R2 Score corresponding to  68  is  0.5828692846605086\n",
      "R2 Score corresponding to  69  is  0.5801573322279256\n",
      "R2 Score corresponding to  70  is  0.5599900382432694\n",
      "R2 Score corresponding to  71  is  0.5820832630536381\n",
      "R2 Score corresponding to  72  is  0.5586196508679975\n",
      "R2 Score corresponding to  73  is  0.588356150989356\n",
      "R2 Score corresponding to  74  is  0.5619044021658774\n",
      "R2 Score corresponding to  75  is  0.5799494737067676\n",
      "R2 Score corresponding to  76  is  0.5759051600028706\n",
      "R2 Score corresponding to  77  is  0.5606001293876305\n",
      "R2 Score corresponding to  78  is  0.5638982767823377\n",
      "R2 Score corresponding to  79  is  0.5774659182969665\n",
      "R2 Score corresponding to  80  is  0.5808409182404415\n",
      "R2 Score corresponding to  81  is  0.5740355807652433\n",
      "R2 Score corresponding to  82  is  0.5912897795942587\n",
      "R2 Score corresponding to  83  is  0.5540705434771214\n",
      "R2 Score corresponding to  84  is  0.5669354165230569\n",
      "R2 Score corresponding to  85  is  0.5543615814955216\n",
      "R2 Score corresponding to  86  is  0.5673319699373158\n",
      "R2 Score corresponding to  87  is  0.5636524175023672\n",
      "R2 Score corresponding to  88  is  0.5647451760953399\n",
      "R2 Score corresponding to  89  is  0.568524922757907\n",
      "R2 Score corresponding to  90  is  0.5821646156549547\n",
      "R2 Score corresponding to  91  is  0.567659101827834\n",
      "R2 Score corresponding to  92  is  0.5750456383979359\n",
      "R2 Score corresponding to  93  is  0.5914587904371438\n",
      "R2 Score corresponding to  94  is  0.572890082830251\n",
      "R2 Score corresponding to  95  is  0.5761502055213928\n",
      "R2 Score corresponding to  96  is  0.5720565553905668\n",
      "R2 Score corresponding to  97  is  0.585296642409644\n",
      "R2 Score corresponding to  98  is  0.5851700891195273\n",
      "R2 Score corresponding to  99  is  0.5776295395059077\n",
      "R2 Score corresponding to  100  is  0.5688066469544427\n",
      "Maximum R2 Score corresponds to  47  is  0.6029521802952506\n"
     ]
    }
   ],
   "source": [
    "lr=LinearRegression()\n",
    "r_state=maxr2_score(lr,x,y)"
   ]
  },
  {
   "cell_type": "code",
   "execution_count": 24,
   "metadata": {},
   "outputs": [
    {
     "name": "stdout",
     "output_type": "stream",
     "text": [
      "Mean R2 Score for Linear Regression is  0.5724742082888941\n",
      "Standard Deviation in R2 Score for Linear Regression is  0.019073546447872923\n"
     ]
    }
   ],
   "source": [
    "print(\"Mean R2 Score for Linear Regression is \",cross_val_score(linear_model.LinearRegression(),x,y,cv=5,scoring='r2').mean())\n",
    "print(\"Standard Deviation in R2 Score for Linear Regression is \",cross_val_score(linear_model.LinearRegression(),x,y,cv=5,scoring='r2').std())"
   ]
  },
  {
   "cell_type": "markdown",
   "metadata": {},
   "source": [
    "KNEIGHBORS REGRESSOR"
   ]
  },
  {
   "cell_type": "code",
   "execution_count": 25,
   "metadata": {},
   "outputs": [
    {
     "data": {
      "text/plain": [
       "{'n_neighbors': 9}"
      ]
     },
     "execution_count": 25,
     "metadata": {},
     "output_type": "execute_result"
    }
   ],
   "source": [
    "neighbors={\"n_neighbors\":range(1,10)}\n",
    "knr=KNeighborsRegressor()\n",
    "gknr=GridSearchCV(knr,neighbors,cv=5)\n",
    "gknr.fit(x,y)\n",
    "gknr.best_params_"
   ]
  },
  {
   "cell_type": "code",
   "execution_count": 26,
   "metadata": {},
   "outputs": [
    {
     "name": "stdout",
     "output_type": "stream",
     "text": [
      "R2 Score corresponding to  42  is  0.8295685838390287\n",
      "R2 Score corresponding to  43  is  0.8069729868175797\n",
      "R2 Score corresponding to  44  is  0.818822012160146\n",
      "R2 Score corresponding to  45  is  0.8079848070028499\n",
      "R2 Score corresponding to  46  is  0.8196452647176664\n",
      "R2 Score corresponding to  47  is  0.8409048890081323\n",
      "R2 Score corresponding to  48  is  0.8189586952134715\n",
      "R2 Score corresponding to  49  is  0.8273334354050148\n",
      "R2 Score corresponding to  50  is  0.8377626841383212\n",
      "R2 Score corresponding to  51  is  0.8235442191461795\n",
      "R2 Score corresponding to  52  is  0.8234691178294417\n",
      "R2 Score corresponding to  53  is  0.8242505723623914\n",
      "R2 Score corresponding to  54  is  0.8032006116543972\n",
      "R2 Score corresponding to  55  is  0.8409651468032469\n",
      "R2 Score corresponding to  56  is  0.8267701093484082\n",
      "R2 Score corresponding to  57  is  0.8296591894335773\n",
      "R2 Score corresponding to  58  is  0.825358968053781\n",
      "R2 Score corresponding to  59  is  0.8127734413342476\n",
      "R2 Score corresponding to  60  is  0.8384754938901979\n",
      "R2 Score corresponding to  61  is  0.8041714995870786\n",
      "R2 Score corresponding to  62  is  0.8178124328293759\n",
      "R2 Score corresponding to  63  is  0.8288318397254397\n",
      "R2 Score corresponding to  64  is  0.8158187772718424\n",
      "R2 Score corresponding to  65  is  0.8172417192623043\n",
      "R2 Score corresponding to  66  is  0.8138967000790214\n",
      "R2 Score corresponding to  67  is  0.8229422625289647\n",
      "R2 Score corresponding to  68  is  0.8132594147901309\n",
      "R2 Score corresponding to  69  is  0.8237683213978197\n",
      "R2 Score corresponding to  70  is  0.8135469157100712\n",
      "R2 Score corresponding to  71  is  0.8363758787872624\n",
      "R2 Score corresponding to  72  is  0.8133227216922607\n",
      "R2 Score corresponding to  73  is  0.832109493645295\n",
      "R2 Score corresponding to  74  is  0.8182613414797275\n",
      "R2 Score corresponding to  75  is  0.8275632723892115\n",
      "R2 Score corresponding to  76  is  0.8194669987893958\n",
      "R2 Score corresponding to  77  is  0.812938833273985\n",
      "R2 Score corresponding to  78  is  0.8085821751080721\n",
      "R2 Score corresponding to  79  is  0.8143366785116721\n",
      "R2 Score corresponding to  80  is  0.8392826450723863\n",
      "R2 Score corresponding to  81  is  0.8290445716694774\n",
      "R2 Score corresponding to  82  is  0.8317652786736962\n",
      "R2 Score corresponding to  83  is  0.81077908022321\n",
      "R2 Score corresponding to  84  is  0.8319934399092692\n",
      "R2 Score corresponding to  85  is  0.8129048774009006\n",
      "R2 Score corresponding to  86  is  0.8156691786572304\n",
      "R2 Score corresponding to  87  is  0.8158720166684481\n",
      "R2 Score corresponding to  88  is  0.8090309243967275\n",
      "R2 Score corresponding to  89  is  0.8057022389554531\n",
      "R2 Score corresponding to  90  is  0.8287611409676081\n",
      "R2 Score corresponding to  91  is  0.826064021075176\n",
      "R2 Score corresponding to  92  is  0.8131073185193516\n",
      "R2 Score corresponding to  93  is  0.8320812091693988\n",
      "R2 Score corresponding to  94  is  0.8240068712630628\n",
      "R2 Score corresponding to  95  is  0.8345778978709548\n",
      "R2 Score corresponding to  96  is  0.8207540716366941\n",
      "R2 Score corresponding to  97  is  0.8437375695566947\n",
      "R2 Score corresponding to  98  is  0.831348639220714\n",
      "R2 Score corresponding to  99  is  0.8330518668882656\n",
      "R2 Score corresponding to  100  is  0.8046628232512794\n",
      "Maximum R2 Score corresponds to  97  is  0.8437375695566947\n"
     ]
    }
   ],
   "source": [
    "knr=KNeighborsRegressor(n_neighbors=9)\n",
    "r_state=maxr2_score(knr,x,y)"
   ]
  },
  {
   "cell_type": "code",
   "execution_count": 27,
   "metadata": {},
   "outputs": [
    {
     "name": "stdout",
     "output_type": "stream",
     "text": [
      "Mean R2 Score for KNN Regression is  0.8216388211181102\n",
      "Standard Deviation in R2 Score for KNN Regression is  0.009051272059378982\n"
     ]
    }
   ],
   "source": [
    "print(\"Mean R2 Score for KNN Regression is \",cross_val_score(knr,x,y,cv=5,scoring=\"r2\").mean())\n",
    "print(\"Standard Deviation in R2 Score for KNN Regression is \",cross_val_score(knr,x,y,cv=5,scoring='r2').std())"
   ]
  },
  {
   "cell_type": "markdown",
   "metadata": {},
   "source": [
    "LASSO REGRESSION"
   ]
  },
  {
   "cell_type": "code",
   "execution_count": 28,
   "metadata": {},
   "outputs": [
    {
     "data": {
      "text/plain": [
       "{'alpha': 0.001}"
      ]
     },
     "execution_count": 28,
     "metadata": {},
     "output_type": "execute_result"
    }
   ],
   "source": [
    "ls=Lasso()\n",
    "parameters={\"alpha\":[0.001,0.01,0.1,1]}\n",
    "clf=GridSearchCV(ls,parameters,cv=5)\n",
    "clf.fit(x,y)\n",
    "clf.best_params_"
   ]
  },
  {
   "cell_type": "code",
   "execution_count": 29,
   "metadata": {},
   "outputs": [
    {
     "name": "stdout",
     "output_type": "stream",
     "text": [
      "R2 Score corresponding to  42  is  0.567428007673872\n",
      "R2 Score corresponding to  43  is  0.574472906327075\n",
      "R2 Score corresponding to  44  is  0.5507250949045757\n",
      "R2 Score corresponding to  45  is  0.5587303845575422\n",
      "R2 Score corresponding to  46  is  0.569508158581472\n",
      "R2 Score corresponding to  47  is  0.602837670371299\n",
      "R2 Score corresponding to  48  is  0.5692781093689712\n",
      "R2 Score corresponding to  49  is  0.5791249347202404\n",
      "R2 Score corresponding to  50  is  0.5805803800397813\n",
      "R2 Score corresponding to  51  is  0.5736552985295659\n",
      "R2 Score corresponding to  52  is  0.5878518425225655\n",
      "R2 Score corresponding to  53  is  0.5463367936181263\n",
      "R2 Score corresponding to  54  is  0.5462103881192644\n",
      "R2 Score corresponding to  55  is  0.5901064078139872\n",
      "R2 Score corresponding to  56  is  0.5969943185781984\n",
      "R2 Score corresponding to  57  is  0.5577963127232699\n",
      "R2 Score corresponding to  58  is  0.5705007836388025\n",
      "R2 Score corresponding to  59  is  0.5680824395601736\n",
      "R2 Score corresponding to  60  is  0.5837223634182301\n",
      "R2 Score corresponding to  61  is  0.5408123034028315\n",
      "R2 Score corresponding to  62  is  0.5727297690559355\n",
      "R2 Score corresponding to  63  is  0.5708896642051255\n",
      "R2 Score corresponding to  64  is  0.5811277254518781\n",
      "R2 Score corresponding to  65  is  0.5683971252352183\n",
      "R2 Score corresponding to  66  is  0.5586083338702448\n",
      "R2 Score corresponding to  67  is  0.5716625341984045\n",
      "R2 Score corresponding to  68  is  0.5826617150462592\n",
      "R2 Score corresponding to  69  is  0.5802438568753081\n",
      "R2 Score corresponding to  70  is  0.5599277103429017\n",
      "R2 Score corresponding to  71  is  0.582087720611679\n",
      "R2 Score corresponding to  72  is  0.5586090191080602\n",
      "R2 Score corresponding to  73  is  0.5879831213045545\n",
      "R2 Score corresponding to  74  is  0.5619833358261317\n",
      "R2 Score corresponding to  75  is  0.5796404810371942\n",
      "R2 Score corresponding to  76  is  0.5759643797674527\n",
      "R2 Score corresponding to  77  is  0.5605497006875505\n",
      "R2 Score corresponding to  78  is  0.5633697712500236\n",
      "R2 Score corresponding to  79  is  0.5775016033627023\n",
      "R2 Score corresponding to  80  is  0.5808133204553809\n",
      "R2 Score corresponding to  81  is  0.5741495702138812\n",
      "R2 Score corresponding to  82  is  0.5910312778501643\n",
      "R2 Score corresponding to  83  is  0.553735669877478\n",
      "R2 Score corresponding to  84  is  0.5667764536868365\n",
      "R2 Score corresponding to  85  is  0.5542360312800152\n",
      "R2 Score corresponding to  86  is  0.5671395209940518\n",
      "R2 Score corresponding to  87  is  0.563593214710123\n",
      "R2 Score corresponding to  88  is  0.5642798997393952\n",
      "R2 Score corresponding to  89  is  0.5686680355754905\n",
      "R2 Score corresponding to  90  is  0.5822185818523702\n",
      "R2 Score corresponding to  91  is  0.5674213579939877\n",
      "R2 Score corresponding to  92  is  0.5756383046816825\n",
      "R2 Score corresponding to  93  is  0.591229727783722\n",
      "R2 Score corresponding to  94  is  0.5725762731574777\n",
      "R2 Score corresponding to  95  is  0.5760999511006123\n",
      "R2 Score corresponding to  96  is  0.5720822199121006\n",
      "R2 Score corresponding to  97  is  0.5853588241607715\n",
      "R2 Score corresponding to  98  is  0.584924359509841\n",
      "R2 Score corresponding to  99  is  0.577780175475614\n",
      "R2 Score corresponding to  100  is  0.5686857158728618\n",
      "Maximum R2 Score corresponds to  47  is  0.602837670371299\n"
     ]
    }
   ],
   "source": [
    "ls=Lasso(alpha=0.001)\n",
    "r_state=maxr2_score(ls,x,y)"
   ]
  },
  {
   "cell_type": "code",
   "execution_count": 30,
   "metadata": {},
   "outputs": [
    {
     "name": "stdout",
     "output_type": "stream",
     "text": [
      "Mean R2 Score for Lasso Regression is  0.5724221494136833\n",
      "Standard Deviation in R2 Score for Lasso Regression is  0.01916313347569494\n"
     ]
    }
   ],
   "source": [
    "print(\"Mean R2 Score for Lasso Regression is \",cross_val_score(ls,x,y,cv=5,scoring=\"r2\").mean())\n",
    "print(\"Standard Deviation in R2 Score for Lasso Regression is \",cross_val_score(ls,x,y,cv=5,scoring=\"r2\").std())"
   ]
  },
  {
   "cell_type": "markdown",
   "metadata": {},
   "source": [
    "RIDGE REGRESSION"
   ]
  },
  {
   "cell_type": "code",
   "execution_count": 31,
   "metadata": {},
   "outputs": [
    {
     "data": {
      "text/plain": [
       "{'alpha': 1}"
      ]
     },
     "execution_count": 31,
     "metadata": {},
     "output_type": "execute_result"
    }
   ],
   "source": [
    "rd=Ridge()\n",
    "parameters={\"alpha\":[0.001,0.01,0.1,1]}\n",
    "clf=GridSearchCV(rd,parameters,cv=5)\n",
    "clf.fit(x,y)\n",
    "clf.best_params_"
   ]
  },
  {
   "cell_type": "code",
   "execution_count": 32,
   "metadata": {},
   "outputs": [
    {
     "name": "stdout",
     "output_type": "stream",
     "text": [
      "R2 Score corresponding to  42  is  0.5678849792649865\n",
      "R2 Score corresponding to  43  is  0.5743889290083483\n",
      "R2 Score corresponding to  44  is  0.5505777900895753\n",
      "R2 Score corresponding to  45  is  0.5589740643569276\n",
      "R2 Score corresponding to  46  is  0.5696121321162297\n",
      "R2 Score corresponding to  47  is  0.6029494370196489\n",
      "R2 Score corresponding to  48  is  0.5693425767212739\n",
      "R2 Score corresponding to  49  is  0.579427133376721\n",
      "R2 Score corresponding to  50  is  0.5807182433026299\n",
      "R2 Score corresponding to  51  is  0.5737582254878391\n",
      "R2 Score corresponding to  52  is  0.5880689560467487\n",
      "R2 Score corresponding to  53  is  0.546237329942991\n",
      "R2 Score corresponding to  54  is  0.545761623570184\n",
      "R2 Score corresponding to  55  is  0.59032225568945\n",
      "R2 Score corresponding to  56  is  0.5972991025924366\n",
      "R2 Score corresponding to  57  is  0.5582226238211019\n",
      "R2 Score corresponding to  58  is  0.570616516846109\n",
      "R2 Score corresponding to  59  is  0.568363811060846\n",
      "R2 Score corresponding to  60  is  0.5836916627133484\n",
      "R2 Score corresponding to  61  is  0.5409203218074046\n",
      "R2 Score corresponding to  62  is  0.5725206028652805\n",
      "R2 Score corresponding to  63  is  0.5706504577455825\n",
      "R2 Score corresponding to  64  is  0.581303834531457\n",
      "R2 Score corresponding to  65  is  0.5685101474563841\n",
      "R2 Score corresponding to  66  is  0.5590301575227089\n",
      "R2 Score corresponding to  67  is  0.5719480850026721\n",
      "R2 Score corresponding to  68  is  0.5828677667001446\n",
      "R2 Score corresponding to  69  is  0.5801583523475914\n",
      "R2 Score corresponding to  70  is  0.5599943318283662\n",
      "R2 Score corresponding to  71  is  0.5820852499995091\n",
      "R2 Score corresponding to  72  is  0.558620019044465\n",
      "R2 Score corresponding to  73  is  0.5883506099513296\n",
      "R2 Score corresponding to  74  is  0.5619037823998655\n",
      "R2 Score corresponding to  75  is  0.5799463139997378\n",
      "R2 Score corresponding to  76  is  0.5759061757909311\n",
      "R2 Score corresponding to  77  is  0.5606026239426684\n",
      "R2 Score corresponding to  78  is  0.5638929736736835\n",
      "R2 Score corresponding to  79  is  0.5774647273512243\n",
      "R2 Score corresponding to  80  is  0.5808333343221848\n",
      "R2 Score corresponding to  81  is  0.5740378414962167\n",
      "R2 Score corresponding to  82  is  0.5912866846431396\n",
      "R2 Score corresponding to  83  is  0.5540698217793651\n",
      "R2 Score corresponding to  84  is  0.566934505963856\n",
      "R2 Score corresponding to  85  is  0.5543625822699323\n",
      "R2 Score corresponding to  86  is  0.5673292218751358\n",
      "R2 Score corresponding to  87  is  0.5636546865659635\n",
      "R2 Score corresponding to  88  is  0.5647441078938094\n",
      "R2 Score corresponding to  89  is  0.5685271559174951\n",
      "R2 Score corresponding to  90  is  0.5821665171448313\n",
      "R2 Score corresponding to  91  is  0.5676549024400462\n",
      "R2 Score corresponding to  92  is  0.5750541293622538\n",
      "R2 Score corresponding to  93  is  0.5914562646915242\n",
      "R2 Score corresponding to  94  is  0.5728846412934376\n",
      "R2 Score corresponding to  95  is  0.576151718969409\n",
      "R2 Score corresponding to  96  is  0.5720582821664434\n",
      "R2 Score corresponding to  97  is  0.5852952157355602\n",
      "R2 Score corresponding to  98  is  0.5851680974126094\n",
      "R2 Score corresponding to  99  is  0.5776316827500931\n",
      "R2 Score corresponding to  100  is  0.5688081851879888\n",
      "Maximum R2 Score corresponds to  47  is  0.6029494370196489\n"
     ]
    }
   ],
   "source": [
    "rd=Ridge(alpha=1)\n",
    "r_state=maxr2_score(rd,x,y)"
   ]
  },
  {
   "cell_type": "code",
   "execution_count": 33,
   "metadata": {},
   "outputs": [
    {
     "name": "stdout",
     "output_type": "stream",
     "text": [
      "Mean R2 Score for Ridge Regression is  0.5724745078646601\n",
      "Standard Deviation in R2 Score for Ridge Regression is  0.019071505114163483\n"
     ]
    }
   ],
   "source": [
    "print(\"Mean R2 Score for Ridge Regression is \",cross_val_score(rd,x,y,cv=5,scoring=\"r2\").mean())\n",
    "print(\"Standard Deviation in R2 Score for Ridge Regression is \",cross_val_score(rd,x,y,cv=5,scoring=\"r2\").std())"
   ]
  },
  {
   "cell_type": "markdown",
   "metadata": {},
   "source": [
    "ELASTIC NET REGRESSION"
   ]
  },
  {
   "cell_type": "code",
   "execution_count": 34,
   "metadata": {},
   "outputs": [
    {
     "data": {
      "text/plain": [
       "{'alpha': 0.001}"
      ]
     },
     "execution_count": 34,
     "metadata": {},
     "output_type": "execute_result"
    }
   ],
   "source": [
    "enr=ElasticNet()\n",
    "parameters={\"alpha\":[0.001,0.01,0.1,1]}\n",
    "clf=GridSearchCV(enr,parameters,cv=5)\n",
    "clf.fit(x,y)\n",
    "clf.best_params_"
   ]
  },
  {
   "cell_type": "code",
   "execution_count": 35,
   "metadata": {},
   "outputs": [
    {
     "name": "stdout",
     "output_type": "stream",
     "text": [
      "R2 Score corresponding to  42  is  0.5676662221456272\n",
      "R2 Score corresponding to  43  is  0.5744476560494863\n",
      "R2 Score corresponding to  44  is  0.5506780962310949\n",
      "R2 Score corresponding to  45  is  0.5588598347426512\n",
      "R2 Score corresponding to  46  is  0.5695781061022189\n",
      "R2 Score corresponding to  47  is  0.6028929099807374\n",
      "R2 Score corresponding to  48  is  0.5693130214739928\n",
      "R2 Score corresponding to  49  is  0.5792838205786786\n",
      "R2 Score corresponding to  50  is  0.5806498733754613\n",
      "R2 Score corresponding to  51  is  0.573707763237911\n",
      "R2 Score corresponding to  52  is  0.5879533642245554\n",
      "R2 Score corresponding to  53  is  0.5463150726799599\n",
      "R2 Score corresponding to  54  is  0.5460274800908935\n",
      "R2 Score corresponding to  55  is  0.5901990238864465\n",
      "R2 Score corresponding to  56  is  0.5971368681091791\n",
      "R2 Score corresponding to  57  is  0.558010457407735\n",
      "R2 Score corresponding to  58  is  0.5705681922477752\n",
      "R2 Score corresponding to  59  is  0.5682391264321596\n",
      "R2 Score corresponding to  60  is  0.583700930259776\n",
      "R2 Score corresponding to  61  is  0.5408739368114575\n",
      "R2 Score corresponding to  62  is  0.5726449817541103\n",
      "R2 Score corresponding to  63  is  0.5707987979587652\n",
      "R2 Score corresponding to  64  is  0.5812132991981187\n",
      "R2 Score corresponding to  65  is  0.5684628153186989\n",
      "R2 Score corresponding to  66  is  0.558815741850748\n",
      "R2 Score corresponding to  67  is  0.5718028631477191\n",
      "R2 Score corresponding to  68  is  0.5827701986747759\n",
      "R2 Score corresponding to  69  is  0.5802148211574789\n",
      "R2 Score corresponding to  70  is  0.5599870552385187\n",
      "R2 Score corresponding to  71  is  0.58210367997959\n",
      "R2 Score corresponding to  72  is  0.5586266429396578\n",
      "R2 Score corresponding to  73  is  0.5881574369683669\n",
      "R2 Score corresponding to  74  is  0.5619513834114886\n",
      "R2 Score corresponding to  75  is  0.5797918058108062\n",
      "R2 Score corresponding to  76  is  0.575948973875511\n",
      "R2 Score corresponding to  77  is  0.5605960813660387\n",
      "R2 Score corresponding to  78  is  0.5636232117100961\n",
      "R2 Score corresponding to  79  is  0.5774888256236355\n",
      "R2 Score corresponding to  80  is  0.5808058228511743\n",
      "R2 Score corresponding to  81  is  0.5741116152824335\n",
      "R2 Score corresponding to  82  is  0.5911592195729201\n",
      "R2 Score corresponding to  83  is  0.5539097501167174\n",
      "R2 Score corresponding to  84  is  0.5668631187776423\n",
      "R2 Score corresponding to  85  is  0.5543139300747038\n",
      "R2 Score corresponding to  86  is  0.5672353692294247\n",
      "R2 Score corresponding to  87  is  0.563644395136941\n",
      "R2 Score corresponding to  88  is  0.5645210472673694\n",
      "R2 Score corresponding to  89  is  0.5686156372410361\n",
      "R2 Score corresponding to  90  is  0.5822101240261391\n",
      "R2 Score corresponding to  91  is  0.5675328190469087\n",
      "R2 Score corresponding to  92  is  0.5753866901961929\n",
      "R2 Score corresponding to  93  is  0.5913433567052064\n",
      "R2 Score corresponding to  94  is  0.572719530824042\n",
      "R2 Score corresponding to  95  is  0.5761413877261352\n",
      "R2 Score corresponding to  96  is  0.57208850863754\n",
      "R2 Score corresponding to  97  is  0.5853329687115397\n",
      "R2 Score corresponding to  98  is  0.5850487014478035\n",
      "R2 Score corresponding to  99  is  0.5777238597605068\n",
      "R2 Score corresponding to  100  is  0.5687637375039395\n",
      "Maximum R2 Score corresponds to  47  is  0.6028929099807374\n"
     ]
    }
   ],
   "source": [
    "enr=ElasticNet(alpha=0.001)\n",
    "r_state=maxr2_score(enr,x,y)"
   ]
  },
  {
   "cell_type": "code",
   "execution_count": 36,
   "metadata": {},
   "outputs": [
    {
     "name": "stdout",
     "output_type": "stream",
     "text": [
      "Mean R2 Score for Elastic Net Regression is  0.5724598089478936\n",
      "Standard Deviation in R2 Score for Elastic Net Regression is  0.019108978389761368\n"
     ]
    }
   ],
   "source": [
    "print(\"Mean R2 Score for Elastic Net Regression is \",cross_val_score(enr,x,y,cv=5,scoring=\"r2\").mean())\n",
    "print(\"Standard Deviation in R2 Score for Elastic Net Regression is \",cross_val_score(enr,x,y,cv=5,scoring=\"r2\").std())"
   ]
  },
  {
   "cell_type": "markdown",
   "metadata": {},
   "source": [
    "GRADIENT BOOSTING REGRESSOR"
   ]
  },
  {
   "cell_type": "code",
   "execution_count": 37,
   "metadata": {},
   "outputs": [
    {
     "data": {
      "text/plain": [
       "{'learning_rate': 0.1, 'n_estimators': 1000}"
      ]
     },
     "execution_count": 37,
     "metadata": {},
     "output_type": "execute_result"
    }
   ],
   "source": [
    "gbr=GradientBoostingRegressor()\n",
    "parameters={\"learning_rate\":[0.001,0.01,0.1,1],\"n_estimators\":[10,100,500,1000]}\n",
    "clf=GridSearchCV(gbr,parameters,cv=5)\n",
    "clf.fit(x,y)\n",
    "clf.best_params_"
   ]
  },
  {
   "cell_type": "code",
   "execution_count": 38,
   "metadata": {},
   "outputs": [
    {
     "name": "stdout",
     "output_type": "stream",
     "text": [
      "R2 Score corresponding to  42  is  0.8409211149369946\n",
      "R2 Score corresponding to  43  is  0.8199389980231264\n",
      "R2 Score corresponding to  44  is  0.8271815364550088\n",
      "R2 Score corresponding to  45  is  0.8204650246386704\n",
      "R2 Score corresponding to  46  is  0.8251844558959585\n",
      "R2 Score corresponding to  47  is  0.8571374348560612\n",
      "R2 Score corresponding to  48  is  0.8294751413412278\n",
      "R2 Score corresponding to  49  is  0.8413409488647833\n",
      "R2 Score corresponding to  50  is  0.8436117578102834\n",
      "R2 Score corresponding to  51  is  0.834298601094145\n",
      "R2 Score corresponding to  52  is  0.8372483364161712\n",
      "R2 Score corresponding to  53  is  0.8348915825876255\n",
      "R2 Score corresponding to  54  is  0.8079236249848752\n",
      "R2 Score corresponding to  55  is  0.8500725884762574\n",
      "R2 Score corresponding to  56  is  0.8401998760547273\n",
      "R2 Score corresponding to  57  is  0.8361152852908202\n",
      "R2 Score corresponding to  58  is  0.8303970117324255\n",
      "R2 Score corresponding to  59  is  0.8137290368211545\n",
      "R2 Score corresponding to  60  is  0.842245788487751\n",
      "R2 Score corresponding to  61  is  0.8126308643855129\n",
      "R2 Score corresponding to  62  is  0.8285234746926912\n",
      "R2 Score corresponding to  63  is  0.8330310956441779\n",
      "R2 Score corresponding to  64  is  0.828402059208431\n",
      "R2 Score corresponding to  65  is  0.8301231530204913\n",
      "R2 Score corresponding to  66  is  0.8276588323746492\n",
      "R2 Score corresponding to  67  is  0.8375798896644086\n",
      "R2 Score corresponding to  68  is  0.8216467896666342\n",
      "R2 Score corresponding to  69  is  0.8351611139856199\n",
      "R2 Score corresponding to  70  is  0.8252521669180021\n",
      "R2 Score corresponding to  71  is  0.8478578711234885\n",
      "R2 Score corresponding to  72  is  0.8203145000898067\n",
      "R2 Score corresponding to  73  is  0.8404090509314449\n",
      "R2 Score corresponding to  74  is  0.8272210415575452\n",
      "R2 Score corresponding to  75  is  0.8350120328991382\n",
      "R2 Score corresponding to  76  is  0.8331919203854385\n",
      "R2 Score corresponding to  77  is  0.8283102132786178\n",
      "R2 Score corresponding to  78  is  0.8178574323246031\n",
      "R2 Score corresponding to  79  is  0.8335786246152107\n",
      "R2 Score corresponding to  80  is  0.841610639026177\n",
      "R2 Score corresponding to  81  is  0.8380917930879612\n",
      "R2 Score corresponding to  82  is  0.8489527501432166\n",
      "R2 Score corresponding to  83  is  0.8197224112888252\n",
      "R2 Score corresponding to  84  is  0.843082466152899\n",
      "R2 Score corresponding to  85  is  0.8272684221648569\n",
      "R2 Score corresponding to  86  is  0.8271074055620442\n",
      "R2 Score corresponding to  87  is  0.8303241637015686\n",
      "R2 Score corresponding to  88  is  0.8246530196355468\n",
      "R2 Score corresponding to  89  is  0.8187647882655105\n",
      "R2 Score corresponding to  90  is  0.83801420018146\n",
      "R2 Score corresponding to  91  is  0.8310246807361823\n",
      "R2 Score corresponding to  92  is  0.8291066603405695\n",
      "R2 Score corresponding to  93  is  0.8430120076032963\n",
      "R2 Score corresponding to  94  is  0.8385817697977866\n",
      "R2 Score corresponding to  95  is  0.8361634035064107\n",
      "R2 Score corresponding to  96  is  0.8310993005621152\n",
      "R2 Score corresponding to  97  is  0.8471030704589377\n",
      "R2 Score corresponding to  98  is  0.8440010707821087\n",
      "R2 Score corresponding to  99  is  0.8375348795887992\n",
      "R2 Score corresponding to  100  is  0.8127222884667042\n",
      "Maximum R2 Score corresponds to  47  is  0.8571374348560612\n"
     ]
    }
   ],
   "source": [
    "gbr=GradientBoostingRegressor(learning_rate=0.1,n_estimators=1000)\n",
    "r_state=maxr2_score(gbr,x,y)"
   ]
  },
  {
   "cell_type": "code",
   "execution_count": 39,
   "metadata": {},
   "outputs": [
    {
     "name": "stdout",
     "output_type": "stream",
     "text": [
      "Mean R2 Score for Gradient Boosting Regressor is  0.8290051453886939\n",
      "Standard Deviation in R2 Score for Gradient Boosting Regressor is  0.008089988722974084\n"
     ]
    }
   ],
   "source": [
    "print(\"Mean R2 Score for Gradient Boosting Regressor is \",cross_val_score(gbr,x,y,cv=5,scoring=\"r2\").mean())\n",
    "print(\"Standard Deviation in R2 Score for Gradient Boosting Regressor is \",cross_val_score(gbr,x,y,cv=5,scoring=\"r2\").std())"
   ]
  },
  {
   "cell_type": "markdown",
   "metadata": {},
   "source": [
    "# BEST MODEL"
   ]
  },
  {
   "cell_type": "markdown",
   "metadata": {},
   "source": [
    "R2 SCORE AND RMSE"
   ]
  },
  {
   "cell_type": "code",
   "execution_count": 40,
   "metadata": {},
   "outputs": [
    {
     "name": "stdout",
     "output_type": "stream",
     "text": [
      "R2 Score is  0.8243634562587324\n",
      "RMSE is  0.2175872689140197\n"
     ]
    }
   ],
   "source": [
    "x_train,x_test,y_train,y_test=train_test_split(x,y,random_state=47,test_size=0.20)\n",
    "gbr=GradientBoostingRegressor()\n",
    "gbr.fit(x_train,y_train)\n",
    "y_pred=gbr.predict(x_test)\n",
    "print(\"R2 Score is \",r2_score(y_test,y_pred))\n",
    "print(\"RMSE is \",np.sqrt(mean_squared_error(y_test,y_pred)))"
   ]
  },
  {
   "cell_type": "markdown",
   "metadata": {},
   "source": [
    "CROSS VALIDATION"
   ]
  },
  {
   "cell_type": "code",
   "execution_count": 41,
   "metadata": {},
   "outputs": [
    {
     "name": "stdout",
     "output_type": "stream",
     "text": [
      "Score is  [0.80083952 0.81382292 0.80363163 0.77914591 0.80964266]\n",
      "Mean Score is  0.8014165268458999\n",
      "Standard Deviation is  0.012023377900929133\n"
     ]
    }
   ],
   "source": [
    "score=cross_val_score(gbr,x,y,cv=5)\n",
    "print('Score is ',score)\n",
    "print('Mean Score is ', score.mean())\n",
    "print('Standard Deviation is ',score.std())"
   ]
  },
  {
   "cell_type": "markdown",
   "metadata": {},
   "source": [
    "# PICKLE "
   ]
  },
  {
   "cell_type": "code",
   "execution_count": 42,
   "metadata": {},
   "outputs": [
    {
     "data": {
      "text/plain": [
       "['flight.pkl']"
      ]
     },
     "execution_count": 42,
     "metadata": {},
     "output_type": "execute_result"
    }
   ],
   "source": [
    "joblib.dump(gbr,'flight.pkl')"
   ]
  },
  {
   "cell_type": "code",
   "execution_count": null,
   "metadata": {},
   "outputs": [],
   "source": []
  }
 ],
 "metadata": {
  "kernelspec": {
   "display_name": "Python 3",
   "language": "python",
   "name": "python3"
  },
  "language_info": {
   "codemirror_mode": {
    "name": "ipython",
    "version": 3
   },
   "file_extension": ".py",
   "mimetype": "text/x-python",
   "name": "python",
   "nbconvert_exporter": "python",
   "pygments_lexer": "ipython3",
   "version": "3.7.4"
  }
 },
 "nbformat": 4,
 "nbformat_minor": 2
}
