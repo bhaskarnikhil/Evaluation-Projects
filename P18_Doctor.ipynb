{
 "cells": [
  {
   "cell_type": "markdown",
   "metadata": {},
   "source": [
    "# IMPORTING PYTHON PACKAGES"
   ]
  },
  {
   "cell_type": "code",
   "execution_count": 1,
   "metadata": {},
   "outputs": [
    {
     "name": "stderr",
     "output_type": "stream",
     "text": [
      "C:\\Anaconda\\lib\\site-packages\\sklearn\\externals\\joblib\\__init__.py:15: DeprecationWarning: sklearn.externals.joblib is deprecated in 0.21 and will be removed in 0.23. Please import this functionality directly from joblib, which can be installed with: pip install joblib. If this warning is raised when loading pickled models, you may need to re-serialize those models with scikit-learn 0.21+.\n",
      "  warnings.warn(msg, category=DeprecationWarning)\n"
     ]
    }
   ],
   "source": [
    "import numpy as np\n",
    "import pandas as pd\n",
    "import seaborn as sns\n",
    "import matplotlib.pyplot as plt\n",
    "from sklearn.preprocessing import LabelEncoder\n",
    "from sklearn.impute import SimpleImputer\n",
    "from scipy.stats import zscore\n",
    "from sklearn.model_selection import train_test_split\n",
    "from sklearn.metrics import mean_absolute_error,mean_squared_error\n",
    "from sklearn.metrics import r2_score\n",
    "from sklearn import linear_model\n",
    "from sklearn.model_selection import cross_val_score\n",
    "from sklearn.linear_model import LinearRegression\n",
    "from sklearn.model_selection import GridSearchCV\n",
    "from sklearn.neighbors import KNeighborsRegressor\n",
    "from sklearn.linear_model import Lasso\n",
    "from sklearn.linear_model import Ridge\n",
    "from sklearn.linear_model import ElasticNet\n",
    "from sklearn.ensemble import GradientBoostingRegressor\n",
    "from sklearn.ensemble import AdaBoostRegressor\n",
    "from sklearn.externals import joblib\n",
    "import warnings\n",
    "warnings.filterwarnings('ignore')"
   ]
  },
  {
   "cell_type": "markdown",
   "metadata": {},
   "source": [
    "# IMPORTING DATASET"
   ]
  },
  {
   "cell_type": "code",
   "execution_count": 2,
   "metadata": {},
   "outputs": [
    {
     "data": {
      "text/html": [
       "<div>\n",
       "<style scoped>\n",
       "    .dataframe tbody tr th:only-of-type {\n",
       "        vertical-align: middle;\n",
       "    }\n",
       "\n",
       "    .dataframe tbody tr th {\n",
       "        vertical-align: top;\n",
       "    }\n",
       "\n",
       "    .dataframe thead th {\n",
       "        text-align: right;\n",
       "    }\n",
       "</style>\n",
       "<table border=\"1\" class=\"dataframe\">\n",
       "  <thead>\n",
       "    <tr style=\"text-align: right;\">\n",
       "      <th></th>\n",
       "      <th>Qualification</th>\n",
       "      <th>Experience</th>\n",
       "      <th>Rating</th>\n",
       "      <th>Place</th>\n",
       "      <th>Profile</th>\n",
       "      <th>Miscellaneous_Info</th>\n",
       "      <th>Fees</th>\n",
       "    </tr>\n",
       "  </thead>\n",
       "  <tbody>\n",
       "    <tr>\n",
       "      <td>0</td>\n",
       "      <td>BHMS, MD - Homeopathy</td>\n",
       "      <td>24 years experience</td>\n",
       "      <td>100%</td>\n",
       "      <td>Kakkanad, Ernakulam</td>\n",
       "      <td>Homeopath</td>\n",
       "      <td>100% 16 Feedback Kakkanad, Ernakulam</td>\n",
       "      <td>100</td>\n",
       "    </tr>\n",
       "    <tr>\n",
       "      <td>1</td>\n",
       "      <td>BAMS, MD - Ayurveda Medicine</td>\n",
       "      <td>12 years experience</td>\n",
       "      <td>98%</td>\n",
       "      <td>Whitefield, Bangalore</td>\n",
       "      <td>Ayurveda</td>\n",
       "      <td>98% 76 Feedback Whitefield, Bangalore</td>\n",
       "      <td>350</td>\n",
       "    </tr>\n",
       "    <tr>\n",
       "      <td>2</td>\n",
       "      <td>MBBS, MS - Otorhinolaryngology</td>\n",
       "      <td>9 years experience</td>\n",
       "      <td>NaN</td>\n",
       "      <td>Mathikere - BEL, Bangalore</td>\n",
       "      <td>ENT Specialist</td>\n",
       "      <td>NaN</td>\n",
       "      <td>300</td>\n",
       "    </tr>\n",
       "    <tr>\n",
       "      <td>3</td>\n",
       "      <td>BSc - Zoology, BAMS</td>\n",
       "      <td>12 years experience</td>\n",
       "      <td>NaN</td>\n",
       "      <td>Bannerghatta Road, Bangalore</td>\n",
       "      <td>Ayurveda</td>\n",
       "      <td>Bannerghatta Road, Bangalore ₹250 Available on...</td>\n",
       "      <td>250</td>\n",
       "    </tr>\n",
       "    <tr>\n",
       "      <td>4</td>\n",
       "      <td>BAMS</td>\n",
       "      <td>20 years experience</td>\n",
       "      <td>100%</td>\n",
       "      <td>Keelkattalai, Chennai</td>\n",
       "      <td>Ayurveda</td>\n",
       "      <td>100% 4 Feedback Keelkattalai, Chennai</td>\n",
       "      <td>250</td>\n",
       "    </tr>\n",
       "    <tr>\n",
       "      <td>...</td>\n",
       "      <td>...</td>\n",
       "      <td>...</td>\n",
       "      <td>...</td>\n",
       "      <td>...</td>\n",
       "      <td>...</td>\n",
       "      <td>...</td>\n",
       "      <td>...</td>\n",
       "    </tr>\n",
       "    <tr>\n",
       "      <td>5932</td>\n",
       "      <td>MBBS, MS - ENT</td>\n",
       "      <td>19 years experience</td>\n",
       "      <td>98%</td>\n",
       "      <td>Basavanagudi, Bangalore</td>\n",
       "      <td>ENT Specialist</td>\n",
       "      <td>98% 45 Feedback Basavanagudi, Bangalore</td>\n",
       "      <td>300</td>\n",
       "    </tr>\n",
       "    <tr>\n",
       "      <td>5933</td>\n",
       "      <td>MBBS</td>\n",
       "      <td>33 years experience</td>\n",
       "      <td>NaN</td>\n",
       "      <td>Nungambakkam, Chennai</td>\n",
       "      <td>General Medicine</td>\n",
       "      <td>NaN</td>\n",
       "      <td>100</td>\n",
       "    </tr>\n",
       "    <tr>\n",
       "      <td>5934</td>\n",
       "      <td>MBBS</td>\n",
       "      <td>41 years experience</td>\n",
       "      <td>97%</td>\n",
       "      <td>Greater Kailash Part 2, Delhi</td>\n",
       "      <td>General Medicine</td>\n",
       "      <td>97% 11 Feedback Greater Kailash Part 2, Delhi</td>\n",
       "      <td>600</td>\n",
       "    </tr>\n",
       "    <tr>\n",
       "      <td>5935</td>\n",
       "      <td>MBBS, MD - General Medicine</td>\n",
       "      <td>15 years experience</td>\n",
       "      <td>90%</td>\n",
       "      <td>Vileparle West, Mumbai</td>\n",
       "      <td>General Medicine</td>\n",
       "      <td>General Medical Consultation Viral Fever Treat...</td>\n",
       "      <td>100</td>\n",
       "    </tr>\n",
       "    <tr>\n",
       "      <td>5936</td>\n",
       "      <td>BDS, MDS - Orthodontics</td>\n",
       "      <td>17 years experience</td>\n",
       "      <td>100%</td>\n",
       "      <td>Pitampura, Delhi</td>\n",
       "      <td>Dentist</td>\n",
       "      <td>Acrylic Partial Denture Crowns and Bridges Fix...</td>\n",
       "      <td>200</td>\n",
       "    </tr>\n",
       "  </tbody>\n",
       "</table>\n",
       "<p>5937 rows × 7 columns</p>\n",
       "</div>"
      ],
      "text/plain": [
       "                       Qualification           Experience Rating  \\\n",
       "0              BHMS, MD - Homeopathy  24 years experience   100%   \n",
       "1       BAMS, MD - Ayurveda Medicine  12 years experience    98%   \n",
       "2     MBBS, MS - Otorhinolaryngology   9 years experience    NaN   \n",
       "3                BSc - Zoology, BAMS  12 years experience    NaN   \n",
       "4                               BAMS  20 years experience   100%   \n",
       "...                              ...                  ...    ...   \n",
       "5932                  MBBS, MS - ENT  19 years experience    98%   \n",
       "5933                            MBBS  33 years experience    NaN   \n",
       "5934                            MBBS  41 years experience    97%   \n",
       "5935     MBBS, MD - General Medicine  15 years experience    90%   \n",
       "5936         BDS, MDS - Orthodontics  17 years experience   100%   \n",
       "\n",
       "                              Place           Profile  \\\n",
       "0               Kakkanad, Ernakulam         Homeopath   \n",
       "1             Whitefield, Bangalore          Ayurveda   \n",
       "2        Mathikere - BEL, Bangalore    ENT Specialist   \n",
       "3      Bannerghatta Road, Bangalore          Ayurveda   \n",
       "4             Keelkattalai, Chennai          Ayurveda   \n",
       "...                             ...               ...   \n",
       "5932        Basavanagudi, Bangalore    ENT Specialist   \n",
       "5933          Nungambakkam, Chennai  General Medicine   \n",
       "5934  Greater Kailash Part 2, Delhi  General Medicine   \n",
       "5935         Vileparle West, Mumbai  General Medicine   \n",
       "5936               Pitampura, Delhi           Dentist   \n",
       "\n",
       "                                     Miscellaneous_Info  Fees  \n",
       "0                  100% 16 Feedback Kakkanad, Ernakulam   100  \n",
       "1                 98% 76 Feedback Whitefield, Bangalore   350  \n",
       "2                                                   NaN   300  \n",
       "3     Bannerghatta Road, Bangalore ₹250 Available on...   250  \n",
       "4                 100% 4 Feedback Keelkattalai, Chennai   250  \n",
       "...                                                 ...   ...  \n",
       "5932            98% 45 Feedback Basavanagudi, Bangalore   300  \n",
       "5933                                                NaN   100  \n",
       "5934      97% 11 Feedback Greater Kailash Part 2, Delhi   600  \n",
       "5935  General Medical Consultation Viral Fever Treat...   100  \n",
       "5936  Acrylic Partial Denture Crowns and Bridges Fix...   200  \n",
       "\n",
       "[5937 rows x 7 columns]"
      ]
     },
     "execution_count": 2,
     "metadata": {},
     "output_type": "execute_result"
    }
   ],
   "source": [
    "df_fee=pd.read_excel('Final_Train.xlsx')\n",
    "df_fee"
   ]
  },
  {
   "cell_type": "code",
   "execution_count": 3,
   "metadata": {},
   "outputs": [
    {
     "data": {
      "text/html": [
       "<div>\n",
       "<style scoped>\n",
       "    .dataframe tbody tr th:only-of-type {\n",
       "        vertical-align: middle;\n",
       "    }\n",
       "\n",
       "    .dataframe tbody tr th {\n",
       "        vertical-align: top;\n",
       "    }\n",
       "\n",
       "    .dataframe thead th {\n",
       "        text-align: right;\n",
       "    }\n",
       "</style>\n",
       "<table border=\"1\" class=\"dataframe\">\n",
       "  <thead>\n",
       "    <tr style=\"text-align: right;\">\n",
       "      <th></th>\n",
       "      <th>Qualification</th>\n",
       "      <th>Experience</th>\n",
       "      <th>Rating</th>\n",
       "      <th>Place</th>\n",
       "      <th>Profile</th>\n",
       "      <th>Fees</th>\n",
       "    </tr>\n",
       "  </thead>\n",
       "  <tbody>\n",
       "    <tr>\n",
       "      <td>0</td>\n",
       "      <td>2</td>\n",
       "      <td>24</td>\n",
       "      <td>100</td>\n",
       "      <td>Ernakulam</td>\n",
       "      <td>Homeopath</td>\n",
       "      <td>100</td>\n",
       "    </tr>\n",
       "    <tr>\n",
       "      <td>1</td>\n",
       "      <td>2</td>\n",
       "      <td>12</td>\n",
       "      <td>98</td>\n",
       "      <td>Bangalore</td>\n",
       "      <td>Ayurveda</td>\n",
       "      <td>350</td>\n",
       "    </tr>\n",
       "    <tr>\n",
       "      <td>2</td>\n",
       "      <td>2</td>\n",
       "      <td>9</td>\n",
       "      <td>NaN</td>\n",
       "      <td>Bangalore</td>\n",
       "      <td>ENT Specialist</td>\n",
       "      <td>300</td>\n",
       "    </tr>\n",
       "    <tr>\n",
       "      <td>3</td>\n",
       "      <td>2</td>\n",
       "      <td>12</td>\n",
       "      <td>NaN</td>\n",
       "      <td>Bangalore</td>\n",
       "      <td>Ayurveda</td>\n",
       "      <td>250</td>\n",
       "    </tr>\n",
       "    <tr>\n",
       "      <td>4</td>\n",
       "      <td>1</td>\n",
       "      <td>20</td>\n",
       "      <td>100</td>\n",
       "      <td>Chennai</td>\n",
       "      <td>Ayurveda</td>\n",
       "      <td>250</td>\n",
       "    </tr>\n",
       "    <tr>\n",
       "      <td>...</td>\n",
       "      <td>...</td>\n",
       "      <td>...</td>\n",
       "      <td>...</td>\n",
       "      <td>...</td>\n",
       "      <td>...</td>\n",
       "      <td>...</td>\n",
       "    </tr>\n",
       "    <tr>\n",
       "      <td>5932</td>\n",
       "      <td>2</td>\n",
       "      <td>19</td>\n",
       "      <td>98</td>\n",
       "      <td>Bangalore</td>\n",
       "      <td>ENT Specialist</td>\n",
       "      <td>300</td>\n",
       "    </tr>\n",
       "    <tr>\n",
       "      <td>5933</td>\n",
       "      <td>1</td>\n",
       "      <td>33</td>\n",
       "      <td>NaN</td>\n",
       "      <td>Chennai</td>\n",
       "      <td>General Medicine</td>\n",
       "      <td>100</td>\n",
       "    </tr>\n",
       "    <tr>\n",
       "      <td>5934</td>\n",
       "      <td>1</td>\n",
       "      <td>41</td>\n",
       "      <td>97</td>\n",
       "      <td>Delhi</td>\n",
       "      <td>General Medicine</td>\n",
       "      <td>600</td>\n",
       "    </tr>\n",
       "    <tr>\n",
       "      <td>5935</td>\n",
       "      <td>2</td>\n",
       "      <td>15</td>\n",
       "      <td>90</td>\n",
       "      <td>Mumbai</td>\n",
       "      <td>General Medicine</td>\n",
       "      <td>100</td>\n",
       "    </tr>\n",
       "    <tr>\n",
       "      <td>5936</td>\n",
       "      <td>2</td>\n",
       "      <td>17</td>\n",
       "      <td>100</td>\n",
       "      <td>Delhi</td>\n",
       "      <td>Dentist</td>\n",
       "      <td>200</td>\n",
       "    </tr>\n",
       "  </tbody>\n",
       "</table>\n",
       "<p>5937 rows × 6 columns</p>\n",
       "</div>"
      ],
      "text/plain": [
       "      Qualification Experience Rating       Place           Profile  Fees\n",
       "0                 2         24    100   Ernakulam         Homeopath   100\n",
       "1                 2         12     98   Bangalore          Ayurveda   350\n",
       "2                 2          9    NaN   Bangalore    ENT Specialist   300\n",
       "3                 2         12    NaN   Bangalore          Ayurveda   250\n",
       "4                 1         20    100     Chennai          Ayurveda   250\n",
       "...             ...        ...    ...         ...               ...   ...\n",
       "5932              2         19     98   Bangalore    ENT Specialist   300\n",
       "5933              1         33    NaN     Chennai  General Medicine   100\n",
       "5934              1         41     97       Delhi  General Medicine   600\n",
       "5935              2         15     90      Mumbai  General Medicine   100\n",
       "5936              2         17    100       Delhi           Dentist   200\n",
       "\n",
       "[5937 rows x 6 columns]"
      ]
     },
     "execution_count": 3,
     "metadata": {},
     "output_type": "execute_result"
    }
   ],
   "source": [
    "df_fee['Qualification']=df_fee.Qualification.str.count(',') + 1\n",
    "df_fee['Experience']=df_fee.Experience.str.replace(\"( ).*\",\"\")\n",
    "df_fee['Rating']=df_fee.Rating.str.replace(\"%\",\"\")\n",
    "df_fee['Place']=df_fee.Place.str.partition(\",\")[2]\n",
    "df_fee.drop(df_fee.columns[[5]],axis=1,inplace=True)\n",
    "df_fee"
   ]
  },
  {
   "cell_type": "markdown",
   "metadata": {},
   "source": [
    "LABEL ENCODING"
   ]
  },
  {
   "cell_type": "code",
   "execution_count": 4,
   "metadata": {},
   "outputs": [
    {
     "data": {
      "text/html": [
       "<div>\n",
       "<style scoped>\n",
       "    .dataframe tbody tr th:only-of-type {\n",
       "        vertical-align: middle;\n",
       "    }\n",
       "\n",
       "    .dataframe tbody tr th {\n",
       "        vertical-align: top;\n",
       "    }\n",
       "\n",
       "    .dataframe thead th {\n",
       "        text-align: right;\n",
       "    }\n",
       "</style>\n",
       "<table border=\"1\" class=\"dataframe\">\n",
       "  <thead>\n",
       "    <tr style=\"text-align: right;\">\n",
       "      <th></th>\n",
       "      <th>Qualification</th>\n",
       "      <th>Experience</th>\n",
       "      <th>Rating</th>\n",
       "      <th>Place</th>\n",
       "      <th>Profile</th>\n",
       "      <th>Fees</th>\n",
       "    </tr>\n",
       "  </thead>\n",
       "  <tbody>\n",
       "    <tr>\n",
       "      <td>0</td>\n",
       "      <td>2</td>\n",
       "      <td>24</td>\n",
       "      <td>100</td>\n",
       "      <td>4</td>\n",
       "      <td>5</td>\n",
       "      <td>100</td>\n",
       "    </tr>\n",
       "    <tr>\n",
       "      <td>1</td>\n",
       "      <td>2</td>\n",
       "      <td>12</td>\n",
       "      <td>98</td>\n",
       "      <td>0</td>\n",
       "      <td>0</td>\n",
       "      <td>350</td>\n",
       "    </tr>\n",
       "    <tr>\n",
       "      <td>2</td>\n",
       "      <td>2</td>\n",
       "      <td>9</td>\n",
       "      <td>NaN</td>\n",
       "      <td>0</td>\n",
       "      <td>3</td>\n",
       "      <td>300</td>\n",
       "    </tr>\n",
       "    <tr>\n",
       "      <td>3</td>\n",
       "      <td>2</td>\n",
       "      <td>12</td>\n",
       "      <td>NaN</td>\n",
       "      <td>0</td>\n",
       "      <td>0</td>\n",
       "      <td>250</td>\n",
       "    </tr>\n",
       "    <tr>\n",
       "      <td>4</td>\n",
       "      <td>1</td>\n",
       "      <td>20</td>\n",
       "      <td>100</td>\n",
       "      <td>1</td>\n",
       "      <td>0</td>\n",
       "      <td>250</td>\n",
       "    </tr>\n",
       "    <tr>\n",
       "      <td>...</td>\n",
       "      <td>...</td>\n",
       "      <td>...</td>\n",
       "      <td>...</td>\n",
       "      <td>...</td>\n",
       "      <td>...</td>\n",
       "      <td>...</td>\n",
       "    </tr>\n",
       "    <tr>\n",
       "      <td>5932</td>\n",
       "      <td>2</td>\n",
       "      <td>19</td>\n",
       "      <td>98</td>\n",
       "      <td>0</td>\n",
       "      <td>3</td>\n",
       "      <td>300</td>\n",
       "    </tr>\n",
       "    <tr>\n",
       "      <td>5933</td>\n",
       "      <td>1</td>\n",
       "      <td>33</td>\n",
       "      <td>NaN</td>\n",
       "      <td>1</td>\n",
       "      <td>4</td>\n",
       "      <td>100</td>\n",
       "    </tr>\n",
       "    <tr>\n",
       "      <td>5934</td>\n",
       "      <td>1</td>\n",
       "      <td>41</td>\n",
       "      <td>97</td>\n",
       "      <td>3</td>\n",
       "      <td>4</td>\n",
       "      <td>600</td>\n",
       "    </tr>\n",
       "    <tr>\n",
       "      <td>5935</td>\n",
       "      <td>2</td>\n",
       "      <td>15</td>\n",
       "      <td>90</td>\n",
       "      <td>6</td>\n",
       "      <td>4</td>\n",
       "      <td>100</td>\n",
       "    </tr>\n",
       "    <tr>\n",
       "      <td>5936</td>\n",
       "      <td>2</td>\n",
       "      <td>17</td>\n",
       "      <td>100</td>\n",
       "      <td>3</td>\n",
       "      <td>1</td>\n",
       "      <td>200</td>\n",
       "    </tr>\n",
       "  </tbody>\n",
       "</table>\n",
       "<p>5937 rows × 6 columns</p>\n",
       "</div>"
      ],
      "text/plain": [
       "      Qualification Experience Rating  Place  Profile  Fees\n",
       "0                 2         24    100      4        5   100\n",
       "1                 2         12     98      0        0   350\n",
       "2                 2          9    NaN      0        3   300\n",
       "3                 2         12    NaN      0        0   250\n",
       "4                 1         20    100      1        0   250\n",
       "...             ...        ...    ...    ...      ...   ...\n",
       "5932              2         19     98      0        3   300\n",
       "5933              1         33    NaN      1        4   100\n",
       "5934              1         41     97      3        4   600\n",
       "5935              2         15     90      6        4   100\n",
       "5936              2         17    100      3        1   200\n",
       "\n",
       "[5937 rows x 6 columns]"
      ]
     },
     "execution_count": 4,
     "metadata": {},
     "output_type": "execute_result"
    }
   ],
   "source": [
    "le=LabelEncoder()\n",
    "list=['Place','Profile']\n",
    "for val in list:\n",
    "    df_fee[val]=le.fit_transform(df_fee[val].astype(str))\n",
    "df_fee"
   ]
  },
  {
   "cell_type": "markdown",
   "metadata": {},
   "source": [
    "# EXPLORATORY DATA ANALYSIS "
   ]
  },
  {
   "cell_type": "code",
   "execution_count": 5,
   "metadata": {},
   "outputs": [
    {
     "data": {
      "text/html": [
       "<div>\n",
       "<style scoped>\n",
       "    .dataframe tbody tr th:only-of-type {\n",
       "        vertical-align: middle;\n",
       "    }\n",
       "\n",
       "    .dataframe tbody tr th {\n",
       "        vertical-align: top;\n",
       "    }\n",
       "\n",
       "    .dataframe thead th {\n",
       "        text-align: right;\n",
       "    }\n",
       "</style>\n",
       "<table border=\"1\" class=\"dataframe\">\n",
       "  <thead>\n",
       "    <tr style=\"text-align: right;\">\n",
       "      <th></th>\n",
       "      <th>Qualification</th>\n",
       "      <th>Experience</th>\n",
       "      <th>Rating</th>\n",
       "      <th>Place</th>\n",
       "      <th>Profile</th>\n",
       "      <th>Fees</th>\n",
       "    </tr>\n",
       "  </thead>\n",
       "  <tbody>\n",
       "    <tr>\n",
       "      <td>0</td>\n",
       "      <td>2</td>\n",
       "      <td>24</td>\n",
       "      <td>100</td>\n",
       "      <td>4</td>\n",
       "      <td>5</td>\n",
       "      <td>100</td>\n",
       "    </tr>\n",
       "    <tr>\n",
       "      <td>1</td>\n",
       "      <td>2</td>\n",
       "      <td>12</td>\n",
       "      <td>98</td>\n",
       "      <td>0</td>\n",
       "      <td>0</td>\n",
       "      <td>350</td>\n",
       "    </tr>\n",
       "    <tr>\n",
       "      <td>2</td>\n",
       "      <td>2</td>\n",
       "      <td>9</td>\n",
       "      <td>NaN</td>\n",
       "      <td>0</td>\n",
       "      <td>3</td>\n",
       "      <td>300</td>\n",
       "    </tr>\n",
       "    <tr>\n",
       "      <td>3</td>\n",
       "      <td>2</td>\n",
       "      <td>12</td>\n",
       "      <td>NaN</td>\n",
       "      <td>0</td>\n",
       "      <td>0</td>\n",
       "      <td>250</td>\n",
       "    </tr>\n",
       "    <tr>\n",
       "      <td>4</td>\n",
       "      <td>1</td>\n",
       "      <td>20</td>\n",
       "      <td>100</td>\n",
       "      <td>1</td>\n",
       "      <td>0</td>\n",
       "      <td>250</td>\n",
       "    </tr>\n",
       "  </tbody>\n",
       "</table>\n",
       "</div>"
      ],
      "text/plain": [
       "   Qualification Experience Rating  Place  Profile  Fees\n",
       "0              2         24    100      4        5   100\n",
       "1              2         12     98      0        0   350\n",
       "2              2          9    NaN      0        3   300\n",
       "3              2         12    NaN      0        0   250\n",
       "4              1         20    100      1        0   250"
      ]
     },
     "execution_count": 5,
     "metadata": {},
     "output_type": "execute_result"
    }
   ],
   "source": [
    "df_fee.head()"
   ]
  },
  {
   "cell_type": "code",
   "execution_count": 6,
   "metadata": {},
   "outputs": [
    {
     "data": {
      "text/html": [
       "<div>\n",
       "<style scoped>\n",
       "    .dataframe tbody tr th:only-of-type {\n",
       "        vertical-align: middle;\n",
       "    }\n",
       "\n",
       "    .dataframe tbody tr th {\n",
       "        vertical-align: top;\n",
       "    }\n",
       "\n",
       "    .dataframe thead th {\n",
       "        text-align: right;\n",
       "    }\n",
       "</style>\n",
       "<table border=\"1\" class=\"dataframe\">\n",
       "  <thead>\n",
       "    <tr style=\"text-align: right;\">\n",
       "      <th></th>\n",
       "      <th>Qualification</th>\n",
       "      <th>Experience</th>\n",
       "      <th>Rating</th>\n",
       "      <th>Place</th>\n",
       "      <th>Profile</th>\n",
       "      <th>Fees</th>\n",
       "    </tr>\n",
       "  </thead>\n",
       "  <tbody>\n",
       "    <tr>\n",
       "      <td>5932</td>\n",
       "      <td>2</td>\n",
       "      <td>19</td>\n",
       "      <td>98</td>\n",
       "      <td>0</td>\n",
       "      <td>3</td>\n",
       "      <td>300</td>\n",
       "    </tr>\n",
       "    <tr>\n",
       "      <td>5933</td>\n",
       "      <td>1</td>\n",
       "      <td>33</td>\n",
       "      <td>NaN</td>\n",
       "      <td>1</td>\n",
       "      <td>4</td>\n",
       "      <td>100</td>\n",
       "    </tr>\n",
       "    <tr>\n",
       "      <td>5934</td>\n",
       "      <td>1</td>\n",
       "      <td>41</td>\n",
       "      <td>97</td>\n",
       "      <td>3</td>\n",
       "      <td>4</td>\n",
       "      <td>600</td>\n",
       "    </tr>\n",
       "    <tr>\n",
       "      <td>5935</td>\n",
       "      <td>2</td>\n",
       "      <td>15</td>\n",
       "      <td>90</td>\n",
       "      <td>6</td>\n",
       "      <td>4</td>\n",
       "      <td>100</td>\n",
       "    </tr>\n",
       "    <tr>\n",
       "      <td>5936</td>\n",
       "      <td>2</td>\n",
       "      <td>17</td>\n",
       "      <td>100</td>\n",
       "      <td>3</td>\n",
       "      <td>1</td>\n",
       "      <td>200</td>\n",
       "    </tr>\n",
       "  </tbody>\n",
       "</table>\n",
       "</div>"
      ],
      "text/plain": [
       "      Qualification Experience Rating  Place  Profile  Fees\n",
       "5932              2         19     98      0        3   300\n",
       "5933              1         33    NaN      1        4   100\n",
       "5934              1         41     97      3        4   600\n",
       "5935              2         15     90      6        4   100\n",
       "5936              2         17    100      3        1   200"
      ]
     },
     "execution_count": 6,
     "metadata": {},
     "output_type": "execute_result"
    }
   ],
   "source": [
    "df_fee.tail()"
   ]
  },
  {
   "cell_type": "code",
   "execution_count": 7,
   "metadata": {},
   "outputs": [
    {
     "data": {
      "text/plain": [
       "Qualification       0\n",
       "Experience          0\n",
       "Rating           3278\n",
       "Place               0\n",
       "Profile             0\n",
       "Fees                0\n",
       "dtype: int64"
      ]
     },
     "execution_count": 7,
     "metadata": {},
     "output_type": "execute_result"
    }
   ],
   "source": [
    "df_fee.isnull().sum()"
   ]
  },
  {
   "cell_type": "markdown",
   "metadata": {},
   "source": [
    "IMPUTER"
   ]
  },
  {
   "cell_type": "code",
   "execution_count": 8,
   "metadata": {},
   "outputs": [
    {
     "data": {
      "text/html": [
       "<div>\n",
       "<style scoped>\n",
       "    .dataframe tbody tr th:only-of-type {\n",
       "        vertical-align: middle;\n",
       "    }\n",
       "\n",
       "    .dataframe tbody tr th {\n",
       "        vertical-align: top;\n",
       "    }\n",
       "\n",
       "    .dataframe thead th {\n",
       "        text-align: right;\n",
       "    }\n",
       "</style>\n",
       "<table border=\"1\" class=\"dataframe\">\n",
       "  <thead>\n",
       "    <tr style=\"text-align: right;\">\n",
       "      <th></th>\n",
       "      <th>0</th>\n",
       "      <th>1</th>\n",
       "      <th>2</th>\n",
       "      <th>3</th>\n",
       "      <th>4</th>\n",
       "      <th>5</th>\n",
       "    </tr>\n",
       "  </thead>\n",
       "  <tbody>\n",
       "    <tr>\n",
       "      <td>0</td>\n",
       "      <td>2</td>\n",
       "      <td>24</td>\n",
       "      <td>100</td>\n",
       "      <td>4</td>\n",
       "      <td>5</td>\n",
       "      <td>100</td>\n",
       "    </tr>\n",
       "    <tr>\n",
       "      <td>1</td>\n",
       "      <td>2</td>\n",
       "      <td>12</td>\n",
       "      <td>98</td>\n",
       "      <td>0</td>\n",
       "      <td>0</td>\n",
       "      <td>350</td>\n",
       "    </tr>\n",
       "    <tr>\n",
       "      <td>2</td>\n",
       "      <td>2</td>\n",
       "      <td>9</td>\n",
       "      <td>100</td>\n",
       "      <td>0</td>\n",
       "      <td>3</td>\n",
       "      <td>300</td>\n",
       "    </tr>\n",
       "    <tr>\n",
       "      <td>3</td>\n",
       "      <td>2</td>\n",
       "      <td>12</td>\n",
       "      <td>100</td>\n",
       "      <td>0</td>\n",
       "      <td>0</td>\n",
       "      <td>250</td>\n",
       "    </tr>\n",
       "    <tr>\n",
       "      <td>4</td>\n",
       "      <td>1</td>\n",
       "      <td>20</td>\n",
       "      <td>100</td>\n",
       "      <td>1</td>\n",
       "      <td>0</td>\n",
       "      <td>250</td>\n",
       "    </tr>\n",
       "    <tr>\n",
       "      <td>...</td>\n",
       "      <td>...</td>\n",
       "      <td>...</td>\n",
       "      <td>...</td>\n",
       "      <td>...</td>\n",
       "      <td>...</td>\n",
       "      <td>...</td>\n",
       "    </tr>\n",
       "    <tr>\n",
       "      <td>5932</td>\n",
       "      <td>2</td>\n",
       "      <td>19</td>\n",
       "      <td>98</td>\n",
       "      <td>0</td>\n",
       "      <td>3</td>\n",
       "      <td>300</td>\n",
       "    </tr>\n",
       "    <tr>\n",
       "      <td>5933</td>\n",
       "      <td>1</td>\n",
       "      <td>33</td>\n",
       "      <td>100</td>\n",
       "      <td>1</td>\n",
       "      <td>4</td>\n",
       "      <td>100</td>\n",
       "    </tr>\n",
       "    <tr>\n",
       "      <td>5934</td>\n",
       "      <td>1</td>\n",
       "      <td>41</td>\n",
       "      <td>97</td>\n",
       "      <td>3</td>\n",
       "      <td>4</td>\n",
       "      <td>600</td>\n",
       "    </tr>\n",
       "    <tr>\n",
       "      <td>5935</td>\n",
       "      <td>2</td>\n",
       "      <td>15</td>\n",
       "      <td>90</td>\n",
       "      <td>6</td>\n",
       "      <td>4</td>\n",
       "      <td>100</td>\n",
       "    </tr>\n",
       "    <tr>\n",
       "      <td>5936</td>\n",
       "      <td>2</td>\n",
       "      <td>17</td>\n",
       "      <td>100</td>\n",
       "      <td>3</td>\n",
       "      <td>1</td>\n",
       "      <td>200</td>\n",
       "    </tr>\n",
       "  </tbody>\n",
       "</table>\n",
       "<p>5937 rows × 6 columns</p>\n",
       "</div>"
      ],
      "text/plain": [
       "      0   1    2  3  4    5\n",
       "0     2  24  100  4  5  100\n",
       "1     2  12   98  0  0  350\n",
       "2     2   9  100  0  3  300\n",
       "3     2  12  100  0  0  250\n",
       "4     1  20  100  1  0  250\n",
       "...  ..  ..  ... .. ..  ...\n",
       "5932  2  19   98  0  3  300\n",
       "5933  1  33  100  1  4  100\n",
       "5934  1  41   97  3  4  600\n",
       "5935  2  15   90  6  4  100\n",
       "5936  2  17  100  3  1  200\n",
       "\n",
       "[5937 rows x 6 columns]"
      ]
     },
     "execution_count": 8,
     "metadata": {},
     "output_type": "execute_result"
    }
   ],
   "source": [
    "imp = SimpleImputer(missing_values=np.nan, strategy='most_frequent')\n",
    "imp = imp.fit(df_fee.values)\n",
    "df=imp.transform(df_fee)\n",
    "df_fee=pd.DataFrame(df)\n",
    "df_fee"
   ]
  },
  {
   "cell_type": "code",
   "execution_count": 9,
   "metadata": {},
   "outputs": [
    {
     "data": {
      "text/plain": [
       "(5937, 6)"
      ]
     },
     "execution_count": 9,
     "metadata": {},
     "output_type": "execute_result"
    }
   ],
   "source": [
    "df_fee.shape"
   ]
  },
  {
   "cell_type": "code",
   "execution_count": 10,
   "metadata": {},
   "outputs": [
    {
     "data": {
      "text/plain": [
       "0    object\n",
       "1    object\n",
       "2    object\n",
       "3    object\n",
       "4    object\n",
       "5    object\n",
       "dtype: object"
      ]
     },
     "execution_count": 10,
     "metadata": {},
     "output_type": "execute_result"
    }
   ],
   "source": [
    "df_fee.dtypes"
   ]
  },
  {
   "cell_type": "code",
   "execution_count": 11,
   "metadata": {},
   "outputs": [
    {
     "data": {
      "text/plain": [
       "0    float64\n",
       "1    float64\n",
       "2    float64\n",
       "3    float64\n",
       "4    float64\n",
       "5    float64\n",
       "dtype: object"
      ]
     },
     "execution_count": 11,
     "metadata": {},
     "output_type": "execute_result"
    }
   ],
   "source": [
    "df_fee[0] = df_fee[0].astype(float)\n",
    "df_fee[1] = df_fee[1].astype(float)\n",
    "df_fee[2] = df_fee[2].astype(float)\n",
    "df_fee[3] = df_fee[3].astype(float)\n",
    "df_fee[4] = df_fee[4].astype(float)\n",
    "df_fee[5] = df_fee[5].astype(float)\n",
    "df_fee.dtypes"
   ]
  },
  {
   "cell_type": "code",
   "execution_count": 12,
   "metadata": {},
   "outputs": [
    {
     "data": {
      "text/plain": [
       "RangeIndex(start=0, stop=6, step=1)"
      ]
     },
     "execution_count": 12,
     "metadata": {},
     "output_type": "execute_result"
    }
   ],
   "source": [
    "df_fee.columns"
   ]
  },
  {
   "cell_type": "code",
   "execution_count": 13,
   "metadata": {},
   "outputs": [
    {
     "name": "stdout",
     "output_type": "stream",
     "text": [
      "<class 'pandas.core.frame.DataFrame'>\n",
      "RangeIndex: 5937 entries, 0 to 5936\n",
      "Data columns (total 6 columns):\n",
      "0    5937 non-null float64\n",
      "1    5937 non-null float64\n",
      "2    5937 non-null float64\n",
      "3    5937 non-null float64\n",
      "4    5937 non-null float64\n",
      "5    5937 non-null float64\n",
      "dtypes: float64(6)\n",
      "memory usage: 278.4 KB\n"
     ]
    }
   ],
   "source": [
    "df_fee.info()"
   ]
  },
  {
   "cell_type": "code",
   "execution_count": 14,
   "metadata": {},
   "outputs": [
    {
     "data": {
      "text/html": [
       "<div>\n",
       "<style scoped>\n",
       "    .dataframe tbody tr th:only-of-type {\n",
       "        vertical-align: middle;\n",
       "    }\n",
       "\n",
       "    .dataframe tbody tr th {\n",
       "        vertical-align: top;\n",
       "    }\n",
       "\n",
       "    .dataframe thead th {\n",
       "        text-align: right;\n",
       "    }\n",
       "</style>\n",
       "<table border=\"1\" class=\"dataframe\">\n",
       "  <thead>\n",
       "    <tr style=\"text-align: right;\">\n",
       "      <th></th>\n",
       "      <th>0</th>\n",
       "      <th>1</th>\n",
       "      <th>2</th>\n",
       "      <th>3</th>\n",
       "      <th>4</th>\n",
       "      <th>5</th>\n",
       "    </tr>\n",
       "  </thead>\n",
       "  <tbody>\n",
       "    <tr>\n",
       "      <td>count</td>\n",
       "      <td>5937.000000</td>\n",
       "      <td>5937.000000</td>\n",
       "      <td>5937.000000</td>\n",
       "      <td>5937.000000</td>\n",
       "      <td>5937.000000</td>\n",
       "      <td>5937.000000</td>\n",
       "    </tr>\n",
       "    <tr>\n",
       "      <td>mean</td>\n",
       "      <td>1.997642</td>\n",
       "      <td>17.373926</td>\n",
       "      <td>97.600977</td>\n",
       "      <td>3.059626</td>\n",
       "      <td>2.443658</td>\n",
       "      <td>308.785245</td>\n",
       "    </tr>\n",
       "    <tr>\n",
       "      <td>std</td>\n",
       "      <td>0.964146</td>\n",
       "      <td>11.110735</td>\n",
       "      <td>5.891450</td>\n",
       "      <td>2.296388</td>\n",
       "      <td>1.661124</td>\n",
       "      <td>190.846608</td>\n",
       "    </tr>\n",
       "    <tr>\n",
       "      <td>min</td>\n",
       "      <td>1.000000</td>\n",
       "      <td>0.000000</td>\n",
       "      <td>7.000000</td>\n",
       "      <td>0.000000</td>\n",
       "      <td>0.000000</td>\n",
       "      <td>5.000000</td>\n",
       "    </tr>\n",
       "    <tr>\n",
       "      <td>25%</td>\n",
       "      <td>1.000000</td>\n",
       "      <td>9.000000</td>\n",
       "      <td>98.000000</td>\n",
       "      <td>1.000000</td>\n",
       "      <td>1.000000</td>\n",
       "      <td>150.000000</td>\n",
       "    </tr>\n",
       "    <tr>\n",
       "      <td>50%</td>\n",
       "      <td>2.000000</td>\n",
       "      <td>15.000000</td>\n",
       "      <td>100.000000</td>\n",
       "      <td>3.000000</td>\n",
       "      <td>2.000000</td>\n",
       "      <td>300.000000</td>\n",
       "    </tr>\n",
       "    <tr>\n",
       "      <td>75%</td>\n",
       "      <td>2.000000</td>\n",
       "      <td>23.000000</td>\n",
       "      <td>100.000000</td>\n",
       "      <td>5.000000</td>\n",
       "      <td>4.000000</td>\n",
       "      <td>500.000000</td>\n",
       "    </tr>\n",
       "    <tr>\n",
       "      <td>max</td>\n",
       "      <td>10.000000</td>\n",
       "      <td>66.000000</td>\n",
       "      <td>100.000000</td>\n",
       "      <td>8.000000</td>\n",
       "      <td>5.000000</td>\n",
       "      <td>950.000000</td>\n",
       "    </tr>\n",
       "  </tbody>\n",
       "</table>\n",
       "</div>"
      ],
      "text/plain": [
       "                 0            1            2            3            4  \\\n",
       "count  5937.000000  5937.000000  5937.000000  5937.000000  5937.000000   \n",
       "mean      1.997642    17.373926    97.600977     3.059626     2.443658   \n",
       "std       0.964146    11.110735     5.891450     2.296388     1.661124   \n",
       "min       1.000000     0.000000     7.000000     0.000000     0.000000   \n",
       "25%       1.000000     9.000000    98.000000     1.000000     1.000000   \n",
       "50%       2.000000    15.000000   100.000000     3.000000     2.000000   \n",
       "75%       2.000000    23.000000   100.000000     5.000000     4.000000   \n",
       "max      10.000000    66.000000   100.000000     8.000000     5.000000   \n",
       "\n",
       "                 5  \n",
       "count  5937.000000  \n",
       "mean    308.785245  \n",
       "std     190.846608  \n",
       "min       5.000000  \n",
       "25%     150.000000  \n",
       "50%     300.000000  \n",
       "75%     500.000000  \n",
       "max     950.000000  "
      ]
     },
     "execution_count": 14,
     "metadata": {},
     "output_type": "execute_result"
    }
   ],
   "source": [
    "df_fee.describe()"
   ]
  },
  {
   "cell_type": "markdown",
   "metadata": {},
   "source": [
    "Data in column 1 does not appear to have normal distribution. Data in all other columns appear to have normal distribution (mean very close to 50th percentile)."
   ]
  },
  {
   "cell_type": "code",
   "execution_count": 15,
   "metadata": {},
   "outputs": [],
   "source": [
    "#sns.heatmap(df_fee.isnull(),annot=True)"
   ]
  },
  {
   "cell_type": "code",
   "execution_count": 16,
   "metadata": {},
   "outputs": [
    {
     "data": {
      "text/plain": [
       "0    0\n",
       "1    0\n",
       "2    0\n",
       "3    0\n",
       "4    0\n",
       "5    0\n",
       "dtype: int64"
      ]
     },
     "execution_count": 16,
     "metadata": {},
     "output_type": "execute_result"
    }
   ],
   "source": [
    "df_fee.isnull().sum()"
   ]
  },
  {
   "cell_type": "markdown",
   "metadata": {},
   "source": [
    "CHECKING DATA SKEWNESS"
   ]
  },
  {
   "cell_type": "code",
   "execution_count": 17,
   "metadata": {},
   "outputs": [
    {
     "data": {
      "text/plain": [
       "0    1.431847\n",
       "1    1.000122\n",
       "2   -4.692227\n",
       "3   -0.002876\n",
       "4    0.105480\n",
       "5    0.747800\n",
       "dtype: float64"
      ]
     },
     "execution_count": 17,
     "metadata": {},
     "output_type": "execute_result"
    }
   ],
   "source": [
    "df_fee.skew()"
   ]
  },
  {
   "cell_type": "markdown",
   "metadata": {},
   "source": [
    "REMOVING DATA SKEWNESS"
   ]
  },
  {
   "cell_type": "code",
   "execution_count": 18,
   "metadata": {},
   "outputs": [
    {
     "data": {
      "text/plain": [
       "0    0.388712\n",
       "1   -0.768037\n",
       "2   -4.692227\n",
       "3   -0.002876\n",
       "4    0.105480\n",
       "5   -0.307388\n",
       "dtype: float64"
      ]
     },
     "execution_count": 18,
     "metadata": {},
     "output_type": "execute_result"
    }
   ],
   "source": [
    "for col in df_fee.columns:\n",
    "    if df_fee.skew().loc[col]>0.55:\n",
    "        df_fee[col]=np.log1p(df_fee[col])\n",
    "df_fee.skew()"
   ]
  },
  {
   "cell_type": "markdown",
   "metadata": {},
   "source": [
    "CHECKING OUTLIERS"
   ]
  },
  {
   "cell_type": "code",
   "execution_count": 19,
   "metadata": {},
   "outputs": [
    {
     "name": "stdout",
     "output_type": "stream",
     "text": [
      "(5937, 6)\n",
      "(array([  18,   55,   58,   67,  139,  167,  177,  208,  290,  308,  332,\n",
      "        376,  379,  382,  408,  457,  464,  583,  588,  599,  612,  628,\n",
      "        636,  688,  726,  782,  783,  805,  810,  846,  848,  865,  906,\n",
      "        913,  917,  940,  963,  968,  970,  974,  985,  993, 1010, 1012,\n",
      "       1115, 1135, 1163, 1168, 1232, 1246, 1295, 1308, 1371, 1384, 1411,\n",
      "       1417, 1425, 1429, 1436, 1462, 1467, 1539, 1545, 1552, 1584, 1585,\n",
      "       1586, 1597, 1606, 1612, 1627, 1640, 1651, 1709, 1719, 1720, 1733,\n",
      "       1735, 1735, 1739, 1770, 1788, 1817, 1844, 1861, 1869, 1871, 1902,\n",
      "       1922, 1929, 2027, 2080, 2082, 2134, 2152, 2193, 2267, 2273, 2299,\n",
      "       2313, 2380, 2467, 2489, 2537, 2552, 2574, 2608, 2626, 2630, 2635,\n",
      "       2659, 2671, 2703, 2704, 2715, 2727, 2747, 2762, 2818, 2822, 2833,\n",
      "       2839, 2935, 2951, 2957, 2980, 3079, 3082, 3108, 3113, 3114, 3132,\n",
      "       3165, 3210, 3241, 3257, 3282, 3290, 3320, 3331, 3354, 3371, 3448,\n",
      "       3453, 3484, 3487, 3511, 3522, 3538, 3547, 3565, 3578, 3589, 3600,\n",
      "       3605, 3612, 3646, 3661, 3675, 3705, 3750, 3767, 3803, 3844, 3879,\n",
      "       3946, 3992, 3994, 4027, 4034, 4037, 4040, 4049, 4117, 4156, 4156,\n",
      "       4194, 4201, 4221, 4230, 4264, 4272, 4277, 4320, 4373, 4409, 4441,\n",
      "       4456, 4460, 4491, 4518, 4528, 4590, 4591, 4594, 4637, 4730, 4789,\n",
      "       4806, 4824, 4831, 4860, 4893, 4906, 4928, 4951, 5007, 5008, 5018,\n",
      "       5074, 5106, 5137, 5150, 5177, 5222, 5227, 5240, 5245, 5249, 5276,\n",
      "       5294, 5329, 5400, 5439, 5480, 5484, 5501, 5505, 5509, 5511, 5589,\n",
      "       5592, 5613, 5624, 5640, 5644, 5680, 5797, 5816, 5838, 5868, 5905,\n",
      "       5906, 5907], dtype=int64), array([2, 2, 0, 2, 2, 1, 2, 2, 0, 2, 2, 2, 1, 1, 1, 2, 2, 2, 2, 1, 1, 2,\n",
      "       1, 2, 2, 2, 2, 2, 2, 2, 0, 1, 2, 2, 0, 1, 2, 1, 1, 2, 2, 2, 2, 2,\n",
      "       1, 1, 2, 1, 2, 1, 2, 5, 1, 2, 0, 2, 2, 2, 2, 1, 2, 0, 1, 1, 2, 0,\n",
      "       2, 1, 2, 0, 2, 2, 1, 2, 1, 0, 2, 1, 2, 2, 2, 2, 0, 2, 1, 2, 1, 1,\n",
      "       5, 2, 0, 2, 1, 0, 2, 0, 2, 1, 2, 2, 2, 2, 2, 2, 5, 2, 0, 1, 1, 2,\n",
      "       2, 1, 1, 2, 2, 2, 2, 1, 2, 2, 0, 1, 0, 2, 1, 2, 1, 2, 2, 1, 2, 2,\n",
      "       1, 2, 2, 2, 2, 5, 2, 1, 2, 0, 2, 1, 5, 1, 2, 2, 0, 0, 0, 2, 2, 2,\n",
      "       0, 2, 2, 2, 2, 1, 2, 2, 2, 2, 1, 1, 0, 1, 0, 2, 2, 2, 1, 2, 0, 2,\n",
      "       2, 2, 1, 1, 1, 5, 1, 1, 1, 1, 2, 2, 2, 2, 0, 1, 2, 2, 2, 0, 5, 2,\n",
      "       2, 2, 2, 2, 0, 0, 1, 2, 0, 2, 0, 1, 2, 0, 1, 0, 2, 2, 2, 1, 1, 2,\n",
      "       2, 2, 2, 2, 2, 0, 2, 1, 2, 1, 2, 2, 2, 2, 2, 0, 5, 1, 2, 2, 2, 2,\n",
      "       1, 0], dtype=int64))\n"
     ]
    }
   ],
   "source": [
    "z=np.abs(zscore(df_fee))\n",
    "print(z.shape)\n",
    "print(np.where(z>3))"
   ]
  },
  {
   "cell_type": "markdown",
   "metadata": {},
   "source": [
    "REMOVING OUTLIERS"
   ]
  },
  {
   "cell_type": "code",
   "execution_count": 20,
   "metadata": {},
   "outputs": [
    {
     "name": "stdout",
     "output_type": "stream",
     "text": [
      "(5695, 6)\n"
     ]
    }
   ],
   "source": [
    "df_final=df_fee.loc[(z<3).all(axis=1)]\n",
    "print(df_final.shape)"
   ]
  },
  {
   "cell_type": "markdown",
   "metadata": {},
   "source": [
    "BOXPLOT"
   ]
  },
  {
   "cell_type": "code",
   "execution_count": 21,
   "metadata": {},
   "outputs": [
    {
     "data": {
      "text/plain": [
       "<matplotlib.axes._subplots.AxesSubplot at 0x1cf3aaa58c8>"
      ]
     },
     "execution_count": 21,
     "metadata": {},
     "output_type": "execute_result"
    },
    {
     "data": {
      "image/png": "[encoded data removed]",
      "text/plain": [
       "<Figure size 432x288 with 1 Axes>"
      ]
     },
     "metadata": {
      "needs_background": "light"
     },
     "output_type": "display_data"
    }
   ],
   "source": [
    "df_final.plot.box()"
   ]
  },
  {
   "cell_type": "markdown",
   "metadata": {},
   "source": [
    "CORRELATION"
   ]
  },
  {
   "cell_type": "code",
   "execution_count": 22,
   "metadata": {},
   "outputs": [
    {
     "data": {
      "text/html": [
       "<div>\n",
       "<style scoped>\n",
       "    .dataframe tbody tr th:only-of-type {\n",
       "        vertical-align: middle;\n",
       "    }\n",
       "\n",
       "    .dataframe tbody tr th {\n",
       "        vertical-align: top;\n",
       "    }\n",
       "\n",
       "    .dataframe thead th {\n",
       "        text-align: right;\n",
       "    }\n",
       "</style>\n",
       "<table border=\"1\" class=\"dataframe\">\n",
       "  <thead>\n",
       "    <tr style=\"text-align: right;\">\n",
       "      <th></th>\n",
       "      <th>0</th>\n",
       "      <th>1</th>\n",
       "      <th>2</th>\n",
       "      <th>3</th>\n",
       "      <th>4</th>\n",
       "      <th>5</th>\n",
       "    </tr>\n",
       "  </thead>\n",
       "  <tbody>\n",
       "    <tr>\n",
       "      <td>0</td>\n",
       "      <td>1.000000</td>\n",
       "      <td>0.067140</td>\n",
       "      <td>-0.180659</td>\n",
       "      <td>-0.045666</td>\n",
       "      <td>0.015609</td>\n",
       "      <td>0.243716</td>\n",
       "    </tr>\n",
       "    <tr>\n",
       "      <td>1</td>\n",
       "      <td>0.067140</td>\n",
       "      <td>1.000000</td>\n",
       "      <td>-0.144480</td>\n",
       "      <td>0.036631</td>\n",
       "      <td>0.187392</td>\n",
       "      <td>-0.017479</td>\n",
       "    </tr>\n",
       "    <tr>\n",
       "      <td>2</td>\n",
       "      <td>-0.180659</td>\n",
       "      <td>-0.144480</td>\n",
       "      <td>1.000000</td>\n",
       "      <td>0.069292</td>\n",
       "      <td>-0.004673</td>\n",
       "      <td>-0.146836</td>\n",
       "    </tr>\n",
       "    <tr>\n",
       "      <td>3</td>\n",
       "      <td>-0.045666</td>\n",
       "      <td>0.036631</td>\n",
       "      <td>0.069292</td>\n",
       "      <td>1.000000</td>\n",
       "      <td>-0.009230</td>\n",
       "      <td>-0.083598</td>\n",
       "    </tr>\n",
       "    <tr>\n",
       "      <td>4</td>\n",
       "      <td>0.015609</td>\n",
       "      <td>0.187392</td>\n",
       "      <td>-0.004673</td>\n",
       "      <td>-0.009230</td>\n",
       "      <td>1.000000</td>\n",
       "      <td>0.133340</td>\n",
       "    </tr>\n",
       "    <tr>\n",
       "      <td>5</td>\n",
       "      <td>0.243716</td>\n",
       "      <td>-0.017479</td>\n",
       "      <td>-0.146836</td>\n",
       "      <td>-0.083598</td>\n",
       "      <td>0.133340</td>\n",
       "      <td>1.000000</td>\n",
       "    </tr>\n",
       "  </tbody>\n",
       "</table>\n",
       "</div>"
      ],
      "text/plain": [
       "          0         1         2         3         4         5\n",
       "0  1.000000  0.067140 -0.180659 -0.045666  0.015609  0.243716\n",
       "1  0.067140  1.000000 -0.144480  0.036631  0.187392 -0.017479\n",
       "2 -0.180659 -0.144480  1.000000  0.069292 -0.004673 -0.146836\n",
       "3 -0.045666  0.036631  0.069292  1.000000 -0.009230 -0.083598\n",
       "4  0.015609  0.187392 -0.004673 -0.009230  1.000000  0.133340\n",
       "5  0.243716 -0.017479 -0.146836 -0.083598  0.133340  1.000000"
      ]
     },
     "execution_count": 22,
     "metadata": {},
     "output_type": "execute_result"
    }
   ],
   "source": [
    "df_final.corr()"
   ]
  },
  {
   "cell_type": "markdown",
   "metadata": {},
   "source": [
    "PAIRPLOT"
   ]
  },
  {
   "cell_type": "code",
   "execution_count": 23,
   "metadata": {},
   "outputs": [
    {
     "data": {
      "text/plain": [
       "<seaborn.axisgrid.PairGrid at 0x1cf3aae4588>"
      ]
     },
     "execution_count": 23,
     "metadata": {},
     "output_type": "execute_result"
    },
    {
     "data": {
      "image/png": "[encoded data removed]",
      "text/plain": [
       "<Figure size 1080x1080 with 42 Axes>"
      ]
     },
     "metadata": {
      "needs_background": "light"
     },
     "output_type": "display_data"
    }
   ],
   "source": [
    "sns.pairplot(df_final)"
   ]
  },
  {
   "cell_type": "markdown",
   "metadata": {},
   "source": [
    "# TRAIN AND TEST DATA"
   ]
  },
  {
   "cell_type": "code",
   "execution_count": 24,
   "metadata": {},
   "outputs": [
    {
     "name": "stdout",
     "output_type": "stream",
     "text": [
      "             0         1      2    3    4\n",
      "0     1.098612  3.218876  100.0  4.0  5.0\n",
      "1     1.098612  2.564949   98.0  0.0  0.0\n",
      "2     1.098612  2.302585  100.0  0.0  3.0\n",
      "3     1.098612  2.564949  100.0  0.0  0.0\n",
      "4     0.693147  3.044522  100.0  1.0  0.0\n",
      "...        ...       ...    ...  ...  ...\n",
      "5932  1.098612  2.995732   98.0  0.0  3.0\n",
      "5933  0.693147  3.526361  100.0  1.0  4.0\n",
      "5934  0.693147  3.737670   97.0  3.0  4.0\n",
      "5935  1.098612  2.772589   90.0  6.0  4.0\n",
      "5936  1.098612  2.890372  100.0  3.0  1.0\n",
      "\n",
      "[5695 rows x 5 columns]\n",
      "0       4.615121\n",
      "1       5.860786\n",
      "2       5.707110\n",
      "3       5.525453\n",
      "4       5.525453\n",
      "          ...   \n",
      "5932    5.707110\n",
      "5933    4.615121\n",
      "5934    6.398595\n",
      "5935    4.615121\n",
      "5936    5.303305\n",
      "Name: 5, Length: 5695, dtype: float64\n",
      "\n",
      "(5695, 5)\n",
      "(5695,)\n"
     ]
    }
   ],
   "source": [
    "df_x=df_final.iloc[:,:-1]\n",
    "print(df_x)\n",
    "y=df_final.iloc[:,-1]\n",
    "print(y)\n",
    "print()\n",
    "print(df_x.shape)\n",
    "print(y.shape)"
   ]
  },
  {
   "cell_type": "code",
   "execution_count": 25,
   "metadata": {},
   "outputs": [],
   "source": [
    "x=df_x"
   ]
  },
  {
   "cell_type": "markdown",
   "metadata": {},
   "source": [
    "# TRAINING AND TESTING - VARIOUS MODELS"
   ]
  },
  {
   "cell_type": "markdown",
   "metadata": {},
   "source": [
    "FUNCTION DECLARATION"
   ]
  },
  {
   "cell_type": "code",
   "execution_count": 26,
   "metadata": {},
   "outputs": [],
   "source": [
    "def maxr2_score(regr,x,y):\n",
    "    max_r_score=0\n",
    "    for r_state in range(42,101):\n",
    "        x_train,x_test,y_train,y_test=train_test_split(x,y,random_state=r_state,test_size=0.30)\n",
    "        regr.fit(x_train,y_train)\n",
    "        y_pred=regr.predict(x_test)\n",
    "        r2_scr=r2_score(y_test,y_pred)\n",
    "        print(\"R2 Score corresponding to \",r_state,\" is \",r2_scr)\n",
    "        if r2_scr>max_r_score:\n",
    "            max_r_score=r2_scr\n",
    "            final_r_state=r_state\n",
    "    print(\"Maximum R2 Score corresponds to \",final_r_state,\" is \",max_r_score)\n",
    "    return(final_r_state)"
   ]
  },
  {
   "cell_type": "markdown",
   "metadata": {},
   "source": [
    "LOGISTIC REGRESSION"
   ]
  },
  {
   "cell_type": "code",
   "execution_count": 27,
   "metadata": {},
   "outputs": [
    {
     "name": "stdout",
     "output_type": "stream",
     "text": [
      "R2 Score corresponding to  42  is  0.08979223884147125\n",
      "R2 Score corresponding to  43  is  0.07027697954873247\n",
      "R2 Score corresponding to  44  is  0.09041235100472345\n",
      "R2 Score corresponding to  45  is  0.08402649715911548\n",
      "R2 Score corresponding to  46  is  0.08695285972186939\n",
      "R2 Score corresponding to  47  is  0.0673328478175349\n",
      "R2 Score corresponding to  48  is  0.09312019591367249\n",
      "R2 Score corresponding to  49  is  0.08884857202719931\n",
      "R2 Score corresponding to  50  is  0.09435664709495584\n",
      "R2 Score corresponding to  51  is  0.09208572004420268\n",
      "R2 Score corresponding to  52  is  0.08402902360036224\n",
      "R2 Score corresponding to  53  is  0.09597650565984839\n",
      "R2 Score corresponding to  54  is  0.08930919024088946\n",
      "R2 Score corresponding to  55  is  0.08914820124342648\n",
      "R2 Score corresponding to  56  is  0.08526926651095057\n",
      "R2 Score corresponding to  57  is  0.09296937987183662\n",
      "R2 Score corresponding to  58  is  0.08158594310378531\n",
      "R2 Score corresponding to  59  is  0.0918501390739287\n",
      "R2 Score corresponding to  60  is  0.10599392324965029\n",
      "R2 Score corresponding to  61  is  0.0958750496977544\n",
      "R2 Score corresponding to  62  is  0.08462006594327143\n",
      "R2 Score corresponding to  63  is  0.09751925951382523\n",
      "R2 Score corresponding to  64  is  0.10103577624848237\n",
      "R2 Score corresponding to  65  is  0.09662168325150344\n",
      "R2 Score corresponding to  66  is  0.106902896546762\n",
      "R2 Score corresponding to  67  is  0.08745213721576772\n",
      "R2 Score corresponding to  68  is  0.10506938026655621\n",
      "R2 Score corresponding to  69  is  0.10104713249895547\n",
      "R2 Score corresponding to  70  is  0.09132093850654688\n",
      "R2 Score corresponding to  71  is  0.09204661908447309\n",
      "R2 Score corresponding to  72  is  0.11451738770607278\n",
      "R2 Score corresponding to  73  is  0.10039139700244304\n",
      "R2 Score corresponding to  74  is  0.07904618596637392\n",
      "R2 Score corresponding to  75  is  0.06321870004288987\n",
      "R2 Score corresponding to  76  is  0.09397248265027525\n",
      "R2 Score corresponding to  77  is  0.07685215451521066\n",
      "R2 Score corresponding to  78  is  0.11183544450363903\n",
      "R2 Score corresponding to  79  is  0.09881234943658224\n",
      "R2 Score corresponding to  80  is  0.1036048564346096\n",
      "R2 Score corresponding to  81  is  0.08505194749416345\n",
      "R2 Score corresponding to  82  is  0.1018787784818379\n",
      "R2 Score corresponding to  83  is  0.09262822996660369\n",
      "R2 Score corresponding to  84  is  0.0922901767671771\n",
      "R2 Score corresponding to  85  is  0.08580899511686013\n",
      "R2 Score corresponding to  86  is  0.09099701823664019\n",
      "R2 Score corresponding to  87  is  0.10639689462182933\n",
      "R2 Score corresponding to  88  is  0.08974765989294853\n",
      "R2 Score corresponding to  89  is  0.08636600600706934\n",
      "R2 Score corresponding to  90  is  0.11609742117761324\n",
      "R2 Score corresponding to  91  is  0.09076869718262959\n",
      "R2 Score corresponding to  92  is  0.1095238497176122\n",
      "R2 Score corresponding to  93  is  0.09948264293921083\n",
      "R2 Score corresponding to  94  is  0.08270094959995944\n",
      "R2 Score corresponding to  95  is  0.090909603670419\n",
      "R2 Score corresponding to  96  is  0.08561574763288116\n",
      "R2 Score corresponding to  97  is  0.08972425341002599\n",
      "R2 Score corresponding to  98  is  0.10407065851717756\n",
      "R2 Score corresponding to  99  is  0.08438250920498558\n",
      "R2 Score corresponding to  100  is  0.09859610755863579\n",
      "Maximum R2 Score corresponds to  90  is  0.11609742117761324\n"
     ]
    }
   ],
   "source": [
    "lr=LinearRegression()\n",
    "r_state=maxr2_score(lr,x,y)"
   ]
  },
  {
   "cell_type": "code",
   "execution_count": 28,
   "metadata": {},
   "outputs": [
    {
     "name": "stdout",
     "output_type": "stream",
     "text": [
      "Mean R2 Score for Linear Regression is  0.09381436802349541\n",
      "Standard Deviation in R2 Score for Linear Regression is  0.009835489084171865\n"
     ]
    }
   ],
   "source": [
    "print(\"Mean R2 Score for Linear Regression is \",cross_val_score(linear_model.LinearRegression(),x,y,cv=5,scoring='r2').mean())\n",
    "print(\"Standard Deviation in R2 Score for Linear Regression is \",cross_val_score(linear_model.LinearRegression(),x,y,cv=5,scoring='r2').std())"
   ]
  },
  {
   "cell_type": "markdown",
   "metadata": {},
   "source": [
    "KNEIGHBORS REGRESSOR"
   ]
  },
  {
   "cell_type": "code",
   "execution_count": 29,
   "metadata": {},
   "outputs": [
    {
     "data": {
      "text/plain": [
       "{'n_neighbors': 29}"
      ]
     },
     "execution_count": 29,
     "metadata": {},
     "output_type": "execute_result"
    }
   ],
   "source": [
    "neighbors={\"n_neighbors\":range(1,30)}\n",
    "knr=KNeighborsRegressor()\n",
    "gknr=GridSearchCV(knr,neighbors,cv=5)\n",
    "gknr.fit(x,y)\n",
    "gknr.best_params_"
   ]
  },
  {
   "cell_type": "code",
   "execution_count": 30,
   "metadata": {},
   "outputs": [
    {
     "name": "stdout",
     "output_type": "stream",
     "text": [
      "R2 Score corresponding to  42  is  0.1526180237632061\n",
      "R2 Score corresponding to  43  is  0.12319324935910536\n",
      "R2 Score corresponding to  44  is  0.14258497358527789\n",
      "R2 Score corresponding to  45  is  0.15103404468116455\n",
      "R2 Score corresponding to  46  is  0.19174054057480605\n",
      "R2 Score corresponding to  47  is  0.15817821551026834\n",
      "R2 Score corresponding to  48  is  0.17340198035409715\n",
      "R2 Score corresponding to  49  is  0.16978242596798088\n",
      "R2 Score corresponding to  50  is  0.1764033801722571\n",
      "R2 Score corresponding to  51  is  0.14885633034505974\n",
      "R2 Score corresponding to  52  is  0.17668490033116824\n",
      "R2 Score corresponding to  53  is  0.15659924850897466\n",
      "R2 Score corresponding to  54  is  0.15086908208957894\n",
      "R2 Score corresponding to  55  is  0.16283291480464124\n",
      "R2 Score corresponding to  56  is  0.15497118692580802\n",
      "R2 Score corresponding to  57  is  0.17301214115422914\n",
      "R2 Score corresponding to  58  is  0.1375092578358853\n",
      "R2 Score corresponding to  59  is  0.188167429061753\n",
      "R2 Score corresponding to  60  is  0.18624665995161693\n",
      "R2 Score corresponding to  61  is  0.14300533450190922\n",
      "R2 Score corresponding to  62  is  0.17251437264427572\n",
      "R2 Score corresponding to  63  is  0.16802443751237406\n",
      "R2 Score corresponding to  64  is  0.18093496235348083\n",
      "R2 Score corresponding to  65  is  0.15452932220663296\n",
      "R2 Score corresponding to  66  is  0.18075750428597304\n",
      "R2 Score corresponding to  67  is  0.17411916950904904\n",
      "R2 Score corresponding to  68  is  0.17247830752100557\n",
      "R2 Score corresponding to  69  is  0.1665790640548137\n",
      "R2 Score corresponding to  70  is  0.15983919989744777\n",
      "R2 Score corresponding to  71  is  0.1578649446774688\n",
      "R2 Score corresponding to  72  is  0.1704709997188969\n",
      "R2 Score corresponding to  73  is  0.14313419893545343\n",
      "R2 Score corresponding to  74  is  0.1376289592198745\n",
      "R2 Score corresponding to  75  is  0.15682986575487767\n",
      "R2 Score corresponding to  76  is  0.18730573307615073\n",
      "R2 Score corresponding to  77  is  0.14989983396622675\n",
      "R2 Score corresponding to  78  is  0.17578485285995393\n",
      "R2 Score corresponding to  79  is  0.19407456550466473\n",
      "R2 Score corresponding to  80  is  0.18452121300053814\n",
      "R2 Score corresponding to  81  is  0.14667788949208083\n",
      "R2 Score corresponding to  82  is  0.1708272558409527\n",
      "R2 Score corresponding to  83  is  0.15093393668327737\n",
      "R2 Score corresponding to  84  is  0.14594874320075868\n",
      "R2 Score corresponding to  85  is  0.1663250146963483\n",
      "R2 Score corresponding to  86  is  0.15539217920037007\n",
      "R2 Score corresponding to  87  is  0.1629503709211536\n",
      "R2 Score corresponding to  88  is  0.17054182462732204\n",
      "R2 Score corresponding to  89  is  0.16052413895625217\n",
      "R2 Score corresponding to  90  is  0.1794326504572018\n",
      "R2 Score corresponding to  91  is  0.12126176303230773\n",
      "R2 Score corresponding to  92  is  0.18913697776517524\n",
      "R2 Score corresponding to  93  is  0.16647820204665464\n",
      "R2 Score corresponding to  94  is  0.18121300466132173\n",
      "R2 Score corresponding to  95  is  0.16694375917846893\n",
      "R2 Score corresponding to  96  is  0.16141673191846517\n",
      "R2 Score corresponding to  97  is  0.15576363639965252\n",
      "R2 Score corresponding to  98  is  0.16902771493919666\n",
      "R2 Score corresponding to  99  is  0.15275855637535707\n",
      "R2 Score corresponding to  100  is  0.17578233414631372\n",
      "Maximum R2 Score corresponds to  79  is  0.19407456550466473\n"
     ]
    }
   ],
   "source": [
    "knr=KNeighborsRegressor(n_neighbors=29)\n",
    "r_state=maxr2_score(knr,x,y)"
   ]
  },
  {
   "cell_type": "code",
   "execution_count": 31,
   "metadata": {},
   "outputs": [
    {
     "name": "stdout",
     "output_type": "stream",
     "text": [
      "Mean R2 Score for KNN Regression is  0.16371097270941026\n",
      "Standard Deviation in R2 Score for KNN Regression is  0.024202846464395758\n"
     ]
    }
   ],
   "source": [
    "print(\"Mean R2 Score for KNN Regression is \",cross_val_score(knr,x,y,cv=5,scoring=\"r2\").mean())\n",
    "print(\"Standard Deviation in R2 Score for KNN Regression is \",cross_val_score(knr,x,y,cv=5,scoring='r2').std())"
   ]
  },
  {
   "cell_type": "markdown",
   "metadata": {},
   "source": [
    "LASSO REGRESSION"
   ]
  },
  {
   "cell_type": "code",
   "execution_count": 32,
   "metadata": {},
   "outputs": [
    {
     "data": {
      "text/plain": [
       "{'alpha': 0.001}"
      ]
     },
     "execution_count": 32,
     "metadata": {},
     "output_type": "execute_result"
    }
   ],
   "source": [
    "ls=Lasso()\n",
    "parameters={\"alpha\":[0.001,0.01,0.1,1]}\n",
    "clf=GridSearchCV(ls,parameters,cv=5)\n",
    "clf.fit(x,y)\n",
    "clf.best_params_"
   ]
  },
  {
   "cell_type": "code",
   "execution_count": 33,
   "metadata": {},
   "outputs": [
    {
     "name": "stdout",
     "output_type": "stream",
     "text": [
      "R2 Score corresponding to  42  is  0.08968088972582511\n",
      "R2 Score corresponding to  43  is  0.07120433066765841\n",
      "R2 Score corresponding to  44  is  0.09057137769062396\n",
      "R2 Score corresponding to  45  is  0.08386224420417077\n",
      "R2 Score corresponding to  46  is  0.08711003805605766\n",
      "R2 Score corresponding to  47  is  0.06777981325457028\n",
      "R2 Score corresponding to  48  is  0.09349270271207577\n",
      "R2 Score corresponding to  49  is  0.08901942781631966\n",
      "R2 Score corresponding to  50  is  0.09408887336937533\n",
      "R2 Score corresponding to  51  is  0.09227894452318419\n",
      "R2 Score corresponding to  52  is  0.08429581804103736\n",
      "R2 Score corresponding to  53  is  0.09603376871439184\n",
      "R2 Score corresponding to  54  is  0.0896603499713845\n",
      "R2 Score corresponding to  55  is  0.08938121439053293\n",
      "R2 Score corresponding to  56  is  0.08523695352189886\n",
      "R2 Score corresponding to  57  is  0.09281486345306111\n",
      "R2 Score corresponding to  58  is  0.08158121361320025\n",
      "R2 Score corresponding to  59  is  0.0917955317872311\n",
      "R2 Score corresponding to  60  is  0.10540673160300318\n",
      "R2 Score corresponding to  61  is  0.09619233922284387\n",
      "R2 Score corresponding to  62  is  0.08505934914634794\n",
      "R2 Score corresponding to  63  is  0.09755934282217937\n",
      "R2 Score corresponding to  64  is  0.10089983331000818\n",
      "R2 Score corresponding to  65  is  0.09646581326866233\n",
      "R2 Score corresponding to  66  is  0.10656081369525816\n",
      "R2 Score corresponding to  67  is  0.08756881584671405\n",
      "R2 Score corresponding to  68  is  0.1047934025921502\n",
      "R2 Score corresponding to  69  is  0.1008149642486802\n",
      "R2 Score corresponding to  70  is  0.091221177053188\n",
      "R2 Score corresponding to  71  is  0.09196364575757221\n",
      "R2 Score corresponding to  72  is  0.11421404736730012\n",
      "R2 Score corresponding to  73  is  0.10020842271125685\n",
      "R2 Score corresponding to  74  is  0.079253690680125\n",
      "R2 Score corresponding to  75  is  0.06405680952923642\n",
      "R2 Score corresponding to  76  is  0.09400202038933614\n",
      "R2 Score corresponding to  77  is  0.07714040320422555\n",
      "R2 Score corresponding to  78  is  0.1114366667313833\n",
      "R2 Score corresponding to  79  is  0.09871127986809036\n",
      "R2 Score corresponding to  80  is  0.10342641490037052\n",
      "R2 Score corresponding to  81  is  0.08533859209976868\n",
      "R2 Score corresponding to  82  is  0.10133058664829142\n",
      "R2 Score corresponding to  83  is  0.09260421414795628\n",
      "R2 Score corresponding to  84  is  0.09233943115129883\n",
      "R2 Score corresponding to  85  is  0.08614871892426557\n",
      "R2 Score corresponding to  86  is  0.09117418840394886\n",
      "R2 Score corresponding to  87  is  0.106195886024253\n",
      "R2 Score corresponding to  88  is  0.08985908356683914\n",
      "R2 Score corresponding to  89  is  0.08642639222643633\n",
      "R2 Score corresponding to  90  is  0.115423469548115\n",
      "R2 Score corresponding to  91  is  0.09093384926818093\n",
      "R2 Score corresponding to  92  is  0.1088464523263476\n",
      "R2 Score corresponding to  93  is  0.09924884310923121\n",
      "R2 Score corresponding to  94  is  0.08295736379851215\n",
      "R2 Score corresponding to  95  is  0.09046180626657052\n",
      "R2 Score corresponding to  96  is  0.0861282490140719\n",
      "R2 Score corresponding to  97  is  0.09010453320162826\n",
      "R2 Score corresponding to  98  is  0.10383669990679933\n",
      "R2 Score corresponding to  99  is  0.08459025931774711\n",
      "R2 Score corresponding to  100  is  0.09850610833235962\n",
      "Maximum R2 Score corresponds to  90  is  0.115423469548115\n"
     ]
    }
   ],
   "source": [
    "ls=Lasso(alpha=0.001)\n",
    "r_state=maxr2_score(ls,x,y)"
   ]
  },
  {
   "cell_type": "code",
   "execution_count": 34,
   "metadata": {},
   "outputs": [
    {
     "name": "stdout",
     "output_type": "stream",
     "text": [
      "Mean R2 Score for Lasso Regression is  0.09378565039371327\n",
      "Standard Deviation in R2 Score for Lasso Regression is  0.009738683277298625\n"
     ]
    }
   ],
   "source": [
    "print(\"Mean R2 Score for Lasso Regression is \",cross_val_score(ls,x,y,cv=5,scoring=\"r2\").mean())\n",
    "print(\"Standard Deviation in R2 Score for Lasso Regression is \",cross_val_score(ls,x,y,cv=5,scoring=\"r2\").std())"
   ]
  },
  {
   "cell_type": "markdown",
   "metadata": {},
   "source": [
    "RIDGE REGRESSION"
   ]
  },
  {
   "cell_type": "code",
   "execution_count": 35,
   "metadata": {},
   "outputs": [
    {
     "data": {
      "text/plain": [
       "{'alpha': 1}"
      ]
     },
     "execution_count": 35,
     "metadata": {},
     "output_type": "execute_result"
    }
   ],
   "source": [
    "rd=Ridge()\n",
    "parameters={\"alpha\":[0.001,0.01,0.1,1]}\n",
    "clf=GridSearchCV(rd,parameters,cv=5)\n",
    "clf.fit(x,y)\n",
    "clf.best_params_"
   ]
  },
  {
   "cell_type": "code",
   "execution_count": 36,
   "metadata": {},
   "outputs": [
    {
     "name": "stdout",
     "output_type": "stream",
     "text": [
      "R2 Score corresponding to  42  is  0.08978417805300509\n",
      "R2 Score corresponding to  43  is  0.07038470130700414\n",
      "R2 Score corresponding to  44  is  0.09044221910797123\n",
      "R2 Score corresponding to  45  is  0.08402735601464184\n",
      "R2 Score corresponding to  46  is  0.08695462811676935\n",
      "R2 Score corresponding to  47  is  0.06740420175920603\n",
      "R2 Score corresponding to  48  is  0.09317127663897973\n",
      "R2 Score corresponding to  49  is  0.08889417294081292\n",
      "R2 Score corresponding to  50  is  0.09433923002195199\n",
      "R2 Score corresponding to  51  is  0.09207447697038096\n",
      "R2 Score corresponding to  52  is  0.08410278173049346\n",
      "R2 Score corresponding to  53  is  0.09599237843046082\n",
      "R2 Score corresponding to  54  is  0.0893638068059992\n",
      "R2 Score corresponding to  55  is  0.08918031987298958\n",
      "R2 Score corresponding to  56  is  0.08527455942103235\n",
      "R2 Score corresponding to  57  is  0.09296470466849727\n",
      "R2 Score corresponding to  58  is  0.08158662990366705\n",
      "R2 Score corresponding to  59  is  0.09184020518806157\n",
      "R2 Score corresponding to  60  is  0.10592732114913683\n",
      "R2 Score corresponding to  61  is  0.0959137892732026\n",
      "R2 Score corresponding to  62  is  0.08467498098088144\n",
      "R2 Score corresponding to  63  is  0.09754726505699207\n",
      "R2 Score corresponding to  64  is  0.10104163498530183\n",
      "R2 Score corresponding to  65  is  0.096608604826519\n",
      "R2 Score corresponding to  66  is  0.10687517222212772\n",
      "R2 Score corresponding to  67  is  0.08749554113481428\n",
      "R2 Score corresponding to  68  is  0.10503879111246606\n",
      "R2 Score corresponding to  69  is  0.10104601047562389\n",
      "R2 Score corresponding to  70  is  0.09133120526700189\n",
      "R2 Score corresponding to  71  is  0.09205031848573475\n",
      "R2 Score corresponding to  72  is  0.11449261561328017\n",
      "R2 Score corresponding to  73  is  0.10037484414388509\n",
      "R2 Score corresponding to  74  is  0.07909479085088778\n",
      "R2 Score corresponding to  75  is  0.0633148126030697\n",
      "R2 Score corresponding to  76  is  0.09397142923529722\n",
      "R2 Score corresponding to  77  is  0.07687563453771207\n",
      "R2 Score corresponding to  78  is  0.11177870646115373\n",
      "R2 Score corresponding to  79  is  0.09879241314309373\n",
      "R2 Score corresponding to  80  is  0.1036148005219667\n",
      "R2 Score corresponding to  81  is  0.08509875041205262\n",
      "R2 Score corresponding to  82  is  0.1018274664483344\n",
      "R2 Score corresponding to  83  is  0.09261407964950752\n",
      "R2 Score corresponding to  84  is  0.09228369103265932\n",
      "R2 Score corresponding to  85  is  0.08585607126329076\n",
      "R2 Score corresponding to  86  is  0.09102331425396093\n",
      "R2 Score corresponding to  87  is  0.10635348249159848\n",
      "R2 Score corresponding to  88  is  0.0897879420800134\n",
      "R2 Score corresponding to  89  is  0.08637227931716207\n",
      "R2 Score corresponding to  90  is  0.11604118713064093\n",
      "R2 Score corresponding to  91  is  0.09079880214282077\n",
      "R2 Score corresponding to  92  is  0.10948902159115548\n",
      "R2 Score corresponding to  93  is  0.09944706776539969\n",
      "R2 Score corresponding to  94  is  0.08276574625153055\n",
      "R2 Score corresponding to  95  is  0.09085625533286978\n",
      "R2 Score corresponding to  96  is  0.08566631048851459\n",
      "R2 Score corresponding to  97  is  0.08974838990880363\n",
      "R2 Score corresponding to  98  is  0.1040502039835528\n",
      "R2 Score corresponding to  99  is  0.08441545421803698\n",
      "R2 Score corresponding to  100  is  0.0985987985161435\n",
      "Maximum R2 Score corresponds to  90  is  0.11604118713064093\n"
     ]
    }
   ],
   "source": [
    "rd=Ridge(alpha=1)\n",
    "r_state=maxr2_score(rd,x,y)"
   ]
  },
  {
   "cell_type": "code",
   "execution_count": 37,
   "metadata": {},
   "outputs": [
    {
     "name": "stdout",
     "output_type": "stream",
     "text": [
      "Mean R2 Score for Ridge Regression is  0.09381451531380772\n",
      "Standard Deviation in R2 Score for Ridge Regression is  0.0098240279080698\n"
     ]
    }
   ],
   "source": [
    "print(\"Mean R2 Score for Ridge Regression is \",cross_val_score(rd,x,y,cv=5,scoring=\"r2\").mean())\n",
    "print(\"Standard Deviation in R2 Score for Ridge Regression is \",cross_val_score(rd,x,y,cv=5,scoring=\"r2\").std())"
   ]
  },
  {
   "cell_type": "markdown",
   "metadata": {},
   "source": [
    "ELASTIC NET REGRESSION"
   ]
  },
  {
   "cell_type": "code",
   "execution_count": 38,
   "metadata": {},
   "outputs": [
    {
     "data": {
      "text/plain": [
       "{'alpha': 0.001}"
      ]
     },
     "execution_count": 38,
     "metadata": {},
     "output_type": "execute_result"
    }
   ],
   "source": [
    "enr=ElasticNet()\n",
    "parameters={\"alpha\":[0.001,0.01,0.1,1]}\n",
    "clf=GridSearchCV(enr,parameters,cv=5)\n",
    "clf.fit(x,y)\n",
    "clf.best_params_"
   ]
  },
  {
   "cell_type": "code",
   "execution_count": 39,
   "metadata": {},
   "outputs": [
    {
     "name": "stdout",
     "output_type": "stream",
     "text": [
      "R2 Score corresponding to  42  is  0.08972180296579235\n",
      "R2 Score corresponding to  43  is  0.07095243300401533\n",
      "R2 Score corresponding to  44  is  0.0905510941206481\n",
      "R2 Score corresponding to  45  is  0.08394686596999235\n",
      "R2 Score corresponding to  46  is  0.0870359992020695\n",
      "R2 Score corresponding to  47  is  0.06769693399183152\n",
      "R2 Score corresponding to  48  is  0.09340713175580939\n",
      "R2 Score corresponding to  49  is  0.08902403078822063\n",
      "R2 Score corresponding to  50  is  0.0941891174615771\n",
      "R2 Score corresponding to  51  is  0.09216123020022993\n",
      "R2 Score corresponding to  52  is  0.08430718313833307\n",
      "R2 Score corresponding to  53  is  0.09603694841765387\n",
      "R2 Score corresponding to  54  is  0.08959231631063869\n",
      "R2 Score corresponding to  55  is  0.08932835873098022\n",
      "R2 Score corresponding to  56  is  0.08526427055650976\n",
      "R2 Score corresponding to  57  is  0.0928839613139355\n",
      "R2 Score corresponding to  58  is  0.08158603722763147\n",
      "R2 Score corresponding to  59  is  0.09180430960230412\n",
      "R2 Score corresponding to  60  is  0.10557092787273126\n",
      "R2 Score corresponding to  61  is  0.09611036553690766\n",
      "R2 Score corresponding to  62  is  0.08494815938907807\n",
      "R2 Score corresponding to  63  is  0.09759470407805959\n",
      "R2 Score corresponding to  64  is  0.10098019037318873\n",
      "R2 Score corresponding to  65  is  0.09651913706692716\n",
      "R2 Score corresponding to  66  is  0.10667863848834047\n",
      "R2 Score corresponding to  67  is  0.08759625233806168\n",
      "R2 Score corresponding to  68  is  0.10487229798509135\n",
      "R2 Score corresponding to  69  is  0.10092974215999984\n",
      "R2 Score corresponding to  70  is  0.09129222426685335\n",
      "R2 Score corresponding to  71  is  0.09201291924899435\n",
      "R2 Score corresponding to  72  is  0.11431831499460665\n",
      "R2 Score corresponding to  73  is  0.10026841101626904\n",
      "R2 Score corresponding to  74  is  0.07924574421810493\n",
      "R2 Score corresponding to  75  is  0.06382655682572347\n",
      "R2 Score corresponding to  76  is  0.09398607923489166\n",
      "R2 Score corresponding to  77  is  0.07704297829546292\n",
      "R2 Score corresponding to  78  is  0.11152627181626373\n",
      "R2 Score corresponding to  79  is  0.09872373766851761\n",
      "R2 Score corresponding to  80  is  0.10353608224383315\n",
      "R2 Score corresponding to  81  is  0.08528775697664881\n",
      "R2 Score corresponding to  82  is  0.10150530661734547\n",
      "R2 Score corresponding to  83  is  0.09258928503505992\n",
      "R2 Score corresponding to  84  is  0.0923032129018535\n",
      "R2 Score corresponding to  85  is  0.08607163156089515\n",
      "R2 Score corresponding to  86  is  0.09113795189058227\n",
      "R2 Score corresponding to  87  is  0.10621249210075057\n",
      "R2 Score corresponding to  88  is  0.08988311909466074\n",
      "R2 Score corresponding to  89  is  0.08640950430625838\n",
      "R2 Score corresponding to  90  is  0.11565167919841368\n",
      "R2 Score corresponding to  91  is  0.09091120554108423\n",
      "R2 Score corresponding to  92  is  0.1091184374866152\n",
      "R2 Score corresponding to  93  is  0.09929697854534592\n",
      "R2 Score corresponding to  94  is  0.08295648473402994\n",
      "R2 Score corresponding to  95  is  0.09058218721082945\n",
      "R2 Score corresponding to  96  is  0.08597142355976206\n",
      "R2 Score corresponding to  97  is  0.08996267442394146\n",
      "R2 Score corresponding to  98  is  0.10391461996645279\n",
      "R2 Score corresponding to  99  is  0.08455183083673867\n",
      "R2 Score corresponding to  100  is  0.09855712357307189\n",
      "Maximum R2 Score corresponds to  90  is  0.11565167919841368\n"
     ]
    }
   ],
   "source": [
    "enr=ElasticNet(alpha=0.001)\n",
    "r_state=maxr2_score(enr,x,y)"
   ]
  },
  {
   "cell_type": "code",
   "execution_count": 40,
   "metadata": {},
   "outputs": [
    {
     "name": "stdout",
     "output_type": "stream",
     "text": [
      "Mean R2 Score for Elastic Net Regression is  0.0938010915518405\n",
      "Standard Deviation in R2 Score for Elastic Net Regression is  0.00976149030232977\n"
     ]
    }
   ],
   "source": [
    "print(\"Mean R2 Score for Elastic Net Regression is \",cross_val_score(enr,x,y,cv=5,scoring=\"r2\").mean())\n",
    "print(\"Standard Deviation in R2 Score for Elastic Net Regression is \",cross_val_score(enr,x,y,cv=5,scoring=\"r2\").std())"
   ]
  },
  {
   "cell_type": "markdown",
   "metadata": {},
   "source": [
    "GRADIENT BOOSTING REGRESSOR"
   ]
  },
  {
   "cell_type": "code",
   "execution_count": 41,
   "metadata": {},
   "outputs": [
    {
     "data": {
      "text/plain": [
       "{'learning_rate': 0.01, 'n_estimators': 1000}"
      ]
     },
     "execution_count": 41,
     "metadata": {},
     "output_type": "execute_result"
    }
   ],
   "source": [
    "gbr=GradientBoostingRegressor()\n",
    "parameters={\"learning_rate\":[0.001,0.01,0.1,1],\"n_estimators\":[10,100,500,1000]}\n",
    "clf=GridSearchCV(gbr,parameters,cv=5)\n",
    "clf.fit(x,y)\n",
    "clf.best_params_"
   ]
  },
  {
   "cell_type": "code",
   "execution_count": 42,
   "metadata": {},
   "outputs": [
    {
     "name": "stdout",
     "output_type": "stream",
     "text": [
      "R2 Score corresponding to  42  is  0.18349791057061993\n",
      "R2 Score corresponding to  43  is  0.16318886158695778\n",
      "R2 Score corresponding to  44  is  0.1933663885686152\n",
      "R2 Score corresponding to  45  is  0.20133333099657724\n",
      "R2 Score corresponding to  46  is  0.2071181941665693\n",
      "R2 Score corresponding to  47  is  0.1667609603221467\n",
      "R2 Score corresponding to  48  is  0.1959827844860912\n",
      "R2 Score corresponding to  49  is  0.20280833536827603\n",
      "R2 Score corresponding to  50  is  0.19735134832675205\n",
      "R2 Score corresponding to  51  is  0.16909515889708837\n",
      "R2 Score corresponding to  52  is  0.19402698337505153\n",
      "R2 Score corresponding to  53  is  0.19069749908964906\n",
      "R2 Score corresponding to  54  is  0.17795438183443035\n",
      "R2 Score corresponding to  55  is  0.19671642697713343\n",
      "R2 Score corresponding to  56  is  0.1984901024850907\n",
      "R2 Score corresponding to  57  is  0.1977138192319876\n",
      "R2 Score corresponding to  58  is  0.18331634022725585\n",
      "R2 Score corresponding to  59  is  0.21024113425160884\n",
      "R2 Score corresponding to  60  is  0.20692521429362565\n",
      "R2 Score corresponding to  61  is  0.19396436434790165\n",
      "R2 Score corresponding to  62  is  0.18287154714511678\n",
      "R2 Score corresponding to  63  is  0.19877521159252654\n",
      "R2 Score corresponding to  64  is  0.2052077583041363\n",
      "R2 Score corresponding to  65  is  0.20256033945417806\n",
      "R2 Score corresponding to  66  is  0.20400380203639545\n",
      "R2 Score corresponding to  67  is  0.20914666444694885\n",
      "R2 Score corresponding to  68  is  0.20597419463409627\n",
      "R2 Score corresponding to  69  is  0.19530262315043012\n",
      "R2 Score corresponding to  70  is  0.2020891024981849\n",
      "R2 Score corresponding to  71  is  0.1860276973947218\n",
      "R2 Score corresponding to  72  is  0.21331816928233716\n",
      "R2 Score corresponding to  73  is  0.1871608913867836\n",
      "R2 Score corresponding to  74  is  0.18385007923335261\n",
      "R2 Score corresponding to  75  is  0.16934275748959549\n",
      "R2 Score corresponding to  76  is  0.211827778645314\n",
      "R2 Score corresponding to  77  is  0.1641562960125903\n",
      "R2 Score corresponding to  78  is  0.2089746318354132\n",
      "R2 Score corresponding to  79  is  0.21420576339365993\n",
      "R2 Score corresponding to  80  is  0.20961746779539692\n",
      "R2 Score corresponding to  81  is  0.17821112789914595\n",
      "R2 Score corresponding to  82  is  0.1940987769371736\n",
      "R2 Score corresponding to  83  is  0.20231883727366284\n",
      "R2 Score corresponding to  84  is  0.19234609440143058\n",
      "R2 Score corresponding to  85  is  0.18887900049228235\n",
      "R2 Score corresponding to  86  is  0.16972883105790537\n",
      "R2 Score corresponding to  87  is  0.19524116460485208\n",
      "R2 Score corresponding to  88  is  0.18286727177624063\n",
      "R2 Score corresponding to  89  is  0.19275804031029142\n",
      "R2 Score corresponding to  90  is  0.21898311621779976\n",
      "R2 Score corresponding to  91  is  0.1676904649159785\n",
      "R2 Score corresponding to  92  is  0.20703450277868773\n",
      "R2 Score corresponding to  93  is  0.20421231168432963\n",
      "R2 Score corresponding to  94  is  0.20519035563591914\n",
      "R2 Score corresponding to  95  is  0.18733628075928777\n",
      "R2 Score corresponding to  96  is  0.1832740897922126\n",
      "R2 Score corresponding to  97  is  0.1861970217639588\n",
      "R2 Score corresponding to  98  is  0.19447788202424254\n",
      "R2 Score corresponding to  99  is  0.1910042127237387\n",
      "R2 Score corresponding to  100  is  0.19754843977720826\n",
      "Maximum R2 Score corresponds to  90  is  0.21898311621779976\n"
     ]
    }
   ],
   "source": [
    "gbr=GradientBoostingRegressor(learning_rate=0.01,n_estimators=1000)\n",
    "r_state=maxr2_score(gbr,x,y)"
   ]
  },
  {
   "cell_type": "code",
   "execution_count": 43,
   "metadata": {},
   "outputs": [
    {
     "name": "stdout",
     "output_type": "stream",
     "text": [
      "Mean R2 Score for Gradient Boosting Regressor is  0.19967014372367814\n",
      "Standard Deviation in R2 Score for Gradient Boosting Regressor is  0.011682731093596098\n"
     ]
    }
   ],
   "source": [
    "print(\"Mean R2 Score for Gradient Boosting Regressor is \",cross_val_score(gbr,x,y,cv=5,scoring=\"r2\").mean())\n",
    "print(\"Standard Deviation in R2 Score for Gradient Boosting Regressor is \",cross_val_score(gbr,x,y,cv=5,scoring=\"r2\").std())"
   ]
  },
  {
   "cell_type": "markdown",
   "metadata": {},
   "source": [
    "ADA BOOST REGRESSOR"
   ]
  },
  {
   "cell_type": "code",
   "execution_count": 44,
   "metadata": {},
   "outputs": [
    {
     "data": {
      "text/plain": [
       "{'base_estimator': LinearRegression(copy_X=True, fit_intercept=True, n_jobs=None, normalize=False),\n",
       " 'learning_rate': 0.1,\n",
       " 'n_estimators': 10}"
      ]
     },
     "execution_count": 44,
     "metadata": {},
     "output_type": "execute_result"
    }
   ],
   "source": [
    "from sklearn.tree import DecisionTreeRegressor\n",
    "abr=AdaBoostRegressor()\n",
    "dtr=DecisionTreeRegressor()\n",
    "parameters={\"learning_rate\":[0.001,0.01,0.1,1],\"n_estimators\":[10,100,500,1000],\"base_estimator\":[lr,ls,dtr]}\n",
    "clf=GridSearchCV(abr,parameters,cv=5)\n",
    "clf.fit(x,y)\n",
    "clf.best_params_"
   ]
  },
  {
   "cell_type": "code",
   "execution_count": 45,
   "metadata": {},
   "outputs": [
    {
     "name": "stdout",
     "output_type": "stream",
     "text": [
      "R2 Score corresponding to  42  is  0.08954022607897316\n",
      "R2 Score corresponding to  43  is  0.0702510225452434\n",
      "R2 Score corresponding to  44  is  0.0902138816842406\n",
      "R2 Score corresponding to  45  is  0.08471889118572684\n",
      "R2 Score corresponding to  46  is  0.08691076695562516\n",
      "R2 Score corresponding to  47  is  0.06764880089936753\n",
      "R2 Score corresponding to  48  is  0.09151323648228438\n",
      "R2 Score corresponding to  49  is  0.08873727709203671\n",
      "R2 Score corresponding to  50  is  0.09351987368665005\n",
      "R2 Score corresponding to  51  is  0.09001515299801177\n",
      "R2 Score corresponding to  52  is  0.08253121031849442\n",
      "R2 Score corresponding to  53  is  0.09607075429599587\n",
      "R2 Score corresponding to  54  is  0.08978938045499463\n",
      "R2 Score corresponding to  55  is  0.08898129144135802\n",
      "R2 Score corresponding to  56  is  0.08438782524569222\n",
      "R2 Score corresponding to  57  is  0.09285482652048227\n",
      "R2 Score corresponding to  58  is  0.0810185216164675\n",
      "R2 Score corresponding to  59  is  0.0918908471065163\n",
      "R2 Score corresponding to  60  is  0.10657271022008963\n",
      "R2 Score corresponding to  61  is  0.09604336386422074\n",
      "R2 Score corresponding to  62  is  0.08352756294776076\n",
      "R2 Score corresponding to  63  is  0.09709605340855876\n",
      "R2 Score corresponding to  64  is  0.10105725888277828\n",
      "R2 Score corresponding to  65  is  0.09584231299532164\n",
      "R2 Score corresponding to  66  is  0.10459742579076237\n",
      "R2 Score corresponding to  67  is  0.08774549638109075\n",
      "R2 Score corresponding to  68  is  0.1050863278178652\n",
      "R2 Score corresponding to  69  is  0.1000607643528012\n",
      "R2 Score corresponding to  70  is  0.09137306616150365\n",
      "R2 Score corresponding to  71  is  0.09196355068249784\n",
      "R2 Score corresponding to  72  is  0.11394057055628215\n",
      "R2 Score corresponding to  73  is  0.09983842113465169\n",
      "R2 Score corresponding to  74  is  0.07911726598049873\n",
      "R2 Score corresponding to  75  is  0.06321103969045772\n",
      "R2 Score corresponding to  76  is  0.09323583090124477\n",
      "R2 Score corresponding to  77  is  0.07574991575374734\n",
      "R2 Score corresponding to  78  is  0.1126722879950115\n",
      "R2 Score corresponding to  79  is  0.09881081077828335\n",
      "R2 Score corresponding to  80  is  0.10321724192623138\n",
      "R2 Score corresponding to  81  is  0.08397566049491811\n",
      "R2 Score corresponding to  82  is  0.10138698230908338\n",
      "R2 Score corresponding to  83  is  0.09245655938042441\n",
      "R2 Score corresponding to  84  is  0.09095542011831503\n",
      "R2 Score corresponding to  85  is  0.08429742306787424\n",
      "R2 Score corresponding to  86  is  0.09087253306302878\n",
      "R2 Score corresponding to  87  is  0.10487914741762283\n",
      "R2 Score corresponding to  88  is  0.08936492223251091\n",
      "R2 Score corresponding to  89  is  0.08686931330089254\n",
      "R2 Score corresponding to  90  is  0.11619309294234115\n",
      "R2 Score corresponding to  91  is  0.09135994106912226\n",
      "R2 Score corresponding to  92  is  0.10965673383143637\n",
      "R2 Score corresponding to  93  is  0.09934818739486906\n",
      "R2 Score corresponding to  94  is  0.08303595063811531\n",
      "R2 Score corresponding to  95  is  0.09056340779150374\n",
      "R2 Score corresponding to  96  is  0.0861080046703937\n",
      "R2 Score corresponding to  97  is  0.09071971077943675\n",
      "R2 Score corresponding to  98  is  0.10310199088825522\n",
      "R2 Score corresponding to  99  is  0.08401602729440905\n",
      "R2 Score corresponding to  100  is  0.09798656294999308\n",
      "Maximum R2 Score corresponds to  90  is  0.11619309294234115\n"
     ]
    }
   ],
   "source": [
    "abr=AdaBoostRegressor(base_estimator=lr,learning_rate=0.01,n_estimators=10)\n",
    "r_state=maxr2_score(abr,x,y)"
   ]
  },
  {
   "cell_type": "code",
   "execution_count": 46,
   "metadata": {},
   "outputs": [
    {
     "name": "stdout",
     "output_type": "stream",
     "text": [
      "Mean R2 Score for ADA Boost Regressor is  0.09431728663711196\n",
      "Standard Deviation in R2 Score for ADA Boost Regressor is  0.01061057572958457\n"
     ]
    }
   ],
   "source": [
    "print(\"Mean R2 Score for ADA Boost Regressor is \",cross_val_score(abr,x,y,cv=5,scoring=\"r2\").mean())\n",
    "print(\"Standard Deviation in R2 Score for ADA Boost Regressor is \",cross_val_score(abr,x,y,cv=5,scoring=\"r2\").std())"
   ]
  },
  {
   "cell_type": "markdown",
   "metadata": {},
   "source": [
    "# BEST MODEL"
   ]
  },
  {
   "cell_type": "markdown",
   "metadata": {},
   "source": [
    "R2 SCORE AND RMSE"
   ]
  },
  {
   "cell_type": "code",
   "execution_count": 47,
   "metadata": {},
   "outputs": [
    {
     "name": "stdout",
     "output_type": "stream",
     "text": [
      "R2 Score is  0.21683397227747903\n",
      "RMSE is  0.5911409227929747\n"
     ]
    }
   ],
   "source": [
    "x_train,x_test,y_train,y_test=train_test_split(x,y,random_state=90,test_size=0.30)\n",
    "gbr=GradientBoostingRegressor()\n",
    "gbr.fit(x_train,y_train)\n",
    "y_pred=gbr.predict(x_test)\n",
    "print(\"R2 Score is \",r2_score(y_test,y_pred))\n",
    "print(\"RMSE is \",np.sqrt(mean_squared_error(y_test,y_pred)))"
   ]
  },
  {
   "cell_type": "markdown",
   "metadata": {},
   "source": [
    "CROSS VALIDATION"
   ]
  },
  {
   "cell_type": "code",
   "execution_count": 48,
   "metadata": {},
   "outputs": [
    {
     "name": "stdout",
     "output_type": "stream",
     "text": [
      "Score is  [0.18479292 0.18738632 0.20852752 0.19902647 0.21790704]\n",
      "Mean Score is  0.199528054141107\n",
      "Standard Deviation is  0.012518586727901768\n"
     ]
    }
   ],
   "source": [
    "score=cross_val_score(gbr,x,y,cv=5)\n",
    "print('Score is ',score)\n",
    "print('Mean Score is ', score.mean())\n",
    "print('Standard Deviation is ',score.std())"
   ]
  },
  {
   "cell_type": "markdown",
   "metadata": {},
   "source": [
    "# PICKLE "
   ]
  },
  {
   "cell_type": "code",
   "execution_count": 49,
   "metadata": {},
   "outputs": [
    {
     "data": {
      "text/plain": [
       "['doctor.pkl']"
      ]
     },
     "execution_count": 49,
     "metadata": {},
     "output_type": "execute_result"
    }
   ],
   "source": [
    "joblib.dump(gbr,'doctor.pkl')"
   ]
  },
  {
   "cell_type": "code",
   "execution_count": null,
   "metadata": {},
   "outputs": [],
   "source": []
  }
 ],
 "metadata": {
  "kernelspec": {
   "display_name": "Python 3",
   "language": "python",
   "name": "python3"
  },
  "language_info": {
   "codemirror_mode": {
    "name": "ipython",
    "version": 3
   },
   "file_extension": ".py",
   "mimetype": "text/x-python",
   "name": "python",
   "nbconvert_exporter": "python",
   "pygments_lexer": "ipython3",
   "version": "3.7.4"
  }
 },
 "nbformat": 4,
 "nbformat_minor": 2
}
