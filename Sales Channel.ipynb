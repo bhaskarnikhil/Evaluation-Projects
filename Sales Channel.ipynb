{
 "cells": [
  {
   "cell_type": "markdown",
   "metadata": {},
   "source": [
    "# IMPORTING PYTHON PACKAGES"
   ]
  },
  {
   "cell_type": "code",
   "execution_count": 1,
   "metadata": {},
   "outputs": [],
   "source": [
    "import numpy as np\n",
    "import pandas as pd\n",
    "import seaborn as sns\n",
    "import matplotlib.pyplot as plt\n",
    "import warnings\n",
    "warnings.filterwarnings('ignore')"
   ]
  },
  {
   "cell_type": "markdown",
   "metadata": {},
   "source": [
    "# IMPORTING DATASET"
   ]
  },
  {
   "cell_type": "code",
   "execution_count": 2,
   "metadata": {},
   "outputs": [
    {
     "data": {
      "text/html": [
       "<div>\n",
       "<style scoped>\n",
       "    .dataframe tbody tr th:only-of-type {\n",
       "        vertical-align: middle;\n",
       "    }\n",
       "\n",
       "    .dataframe tbody tr th {\n",
       "        vertical-align: top;\n",
       "    }\n",
       "\n",
       "    .dataframe thead th {\n",
       "        text-align: right;\n",
       "    }\n",
       "</style>\n",
       "<table border=\"1\" class=\"dataframe\">\n",
       "  <thead>\n",
       "    <tr style=\"text-align: right;\">\n",
       "      <th></th>\n",
       "      <th>Unnamed: 0</th>\n",
       "      <th>TV</th>\n",
       "      <th>radio</th>\n",
       "      <th>newspaper</th>\n",
       "      <th>sales</th>\n",
       "    </tr>\n",
       "  </thead>\n",
       "  <tbody>\n",
       "    <tr>\n",
       "      <td>0</td>\n",
       "      <td>1</td>\n",
       "      <td>230.1</td>\n",
       "      <td>37.8</td>\n",
       "      <td>69.2</td>\n",
       "      <td>22.1</td>\n",
       "    </tr>\n",
       "    <tr>\n",
       "      <td>1</td>\n",
       "      <td>2</td>\n",
       "      <td>44.5</td>\n",
       "      <td>39.3</td>\n",
       "      <td>45.1</td>\n",
       "      <td>10.4</td>\n",
       "    </tr>\n",
       "    <tr>\n",
       "      <td>2</td>\n",
       "      <td>3</td>\n",
       "      <td>17.2</td>\n",
       "      <td>45.9</td>\n",
       "      <td>69.3</td>\n",
       "      <td>9.3</td>\n",
       "    </tr>\n",
       "    <tr>\n",
       "      <td>3</td>\n",
       "      <td>4</td>\n",
       "      <td>151.5</td>\n",
       "      <td>41.3</td>\n",
       "      <td>58.5</td>\n",
       "      <td>18.5</td>\n",
       "    </tr>\n",
       "    <tr>\n",
       "      <td>4</td>\n",
       "      <td>5</td>\n",
       "      <td>180.8</td>\n",
       "      <td>10.8</td>\n",
       "      <td>58.4</td>\n",
       "      <td>12.9</td>\n",
       "    </tr>\n",
       "    <tr>\n",
       "      <td>...</td>\n",
       "      <td>...</td>\n",
       "      <td>...</td>\n",
       "      <td>...</td>\n",
       "      <td>...</td>\n",
       "      <td>...</td>\n",
       "    </tr>\n",
       "    <tr>\n",
       "      <td>195</td>\n",
       "      <td>196</td>\n",
       "      <td>38.2</td>\n",
       "      <td>3.7</td>\n",
       "      <td>13.8</td>\n",
       "      <td>7.6</td>\n",
       "    </tr>\n",
       "    <tr>\n",
       "      <td>196</td>\n",
       "      <td>197</td>\n",
       "      <td>94.2</td>\n",
       "      <td>4.9</td>\n",
       "      <td>8.1</td>\n",
       "      <td>9.7</td>\n",
       "    </tr>\n",
       "    <tr>\n",
       "      <td>197</td>\n",
       "      <td>198</td>\n",
       "      <td>177.0</td>\n",
       "      <td>9.3</td>\n",
       "      <td>6.4</td>\n",
       "      <td>12.8</td>\n",
       "    </tr>\n",
       "    <tr>\n",
       "      <td>198</td>\n",
       "      <td>199</td>\n",
       "      <td>283.6</td>\n",
       "      <td>42.0</td>\n",
       "      <td>66.2</td>\n",
       "      <td>25.5</td>\n",
       "    </tr>\n",
       "    <tr>\n",
       "      <td>199</td>\n",
       "      <td>200</td>\n",
       "      <td>232.1</td>\n",
       "      <td>8.6</td>\n",
       "      <td>8.7</td>\n",
       "      <td>13.4</td>\n",
       "    </tr>\n",
       "  </tbody>\n",
       "</table>\n",
       "<p>200 rows × 5 columns</p>\n",
       "</div>"
      ],
      "text/plain": [
       "     Unnamed: 0     TV  radio  newspaper  sales\n",
       "0             1  230.1   37.8       69.2   22.1\n",
       "1             2   44.5   39.3       45.1   10.4\n",
       "2             3   17.2   45.9       69.3    9.3\n",
       "3             4  151.5   41.3       58.5   18.5\n",
       "4             5  180.8   10.8       58.4   12.9\n",
       "..          ...    ...    ...        ...    ...\n",
       "195         196   38.2    3.7       13.8    7.6\n",
       "196         197   94.2    4.9        8.1    9.7\n",
       "197         198  177.0    9.3        6.4   12.8\n",
       "198         199  283.6   42.0       66.2   25.5\n",
       "199         200  232.1    8.6        8.7   13.4\n",
       "\n",
       "[200 rows x 5 columns]"
      ]
     },
     "execution_count": 2,
     "metadata": {},
     "output_type": "execute_result"
    }
   ],
   "source": [
    "df_sales=pd.read_csv('Advertising.csv')\n",
    "df_sales"
   ]
  },
  {
   "cell_type": "code",
   "execution_count": 3,
   "metadata": {},
   "outputs": [],
   "source": [
    "df_sales.drop(df_sales.columns[[0]],axis=1,inplace=True)"
   ]
  },
  {
   "cell_type": "markdown",
   "metadata": {},
   "source": [
    "# EXPLORATORY DATA ANALYSIS"
   ]
  },
  {
   "cell_type": "code",
   "execution_count": 4,
   "metadata": {},
   "outputs": [
    {
     "data": {
      "text/html": [
       "<div>\n",
       "<style scoped>\n",
       "    .dataframe tbody tr th:only-of-type {\n",
       "        vertical-align: middle;\n",
       "    }\n",
       "\n",
       "    .dataframe tbody tr th {\n",
       "        vertical-align: top;\n",
       "    }\n",
       "\n",
       "    .dataframe thead th {\n",
       "        text-align: right;\n",
       "    }\n",
       "</style>\n",
       "<table border=\"1\" class=\"dataframe\">\n",
       "  <thead>\n",
       "    <tr style=\"text-align: right;\">\n",
       "      <th></th>\n",
       "      <th>TV</th>\n",
       "      <th>radio</th>\n",
       "      <th>newspaper</th>\n",
       "      <th>sales</th>\n",
       "    </tr>\n",
       "  </thead>\n",
       "  <tbody>\n",
       "    <tr>\n",
       "      <td>0</td>\n",
       "      <td>230.1</td>\n",
       "      <td>37.8</td>\n",
       "      <td>69.2</td>\n",
       "      <td>22.1</td>\n",
       "    </tr>\n",
       "    <tr>\n",
       "      <td>1</td>\n",
       "      <td>44.5</td>\n",
       "      <td>39.3</td>\n",
       "      <td>45.1</td>\n",
       "      <td>10.4</td>\n",
       "    </tr>\n",
       "    <tr>\n",
       "      <td>2</td>\n",
       "      <td>17.2</td>\n",
       "      <td>45.9</td>\n",
       "      <td>69.3</td>\n",
       "      <td>9.3</td>\n",
       "    </tr>\n",
       "    <tr>\n",
       "      <td>3</td>\n",
       "      <td>151.5</td>\n",
       "      <td>41.3</td>\n",
       "      <td>58.5</td>\n",
       "      <td>18.5</td>\n",
       "    </tr>\n",
       "    <tr>\n",
       "      <td>4</td>\n",
       "      <td>180.8</td>\n",
       "      <td>10.8</td>\n",
       "      <td>58.4</td>\n",
       "      <td>12.9</td>\n",
       "    </tr>\n",
       "  </tbody>\n",
       "</table>\n",
       "</div>"
      ],
      "text/plain": [
       "      TV  radio  newspaper  sales\n",
       "0  230.1   37.8       69.2   22.1\n",
       "1   44.5   39.3       45.1   10.4\n",
       "2   17.2   45.9       69.3    9.3\n",
       "3  151.5   41.3       58.5   18.5\n",
       "4  180.8   10.8       58.4   12.9"
      ]
     },
     "execution_count": 4,
     "metadata": {},
     "output_type": "execute_result"
    }
   ],
   "source": [
    "df_sales.head()"
   ]
  },
  {
   "cell_type": "code",
   "execution_count": 5,
   "metadata": {},
   "outputs": [
    {
     "data": {
      "text/html": [
       "<div>\n",
       "<style scoped>\n",
       "    .dataframe tbody tr th:only-of-type {\n",
       "        vertical-align: middle;\n",
       "    }\n",
       "\n",
       "    .dataframe tbody tr th {\n",
       "        vertical-align: top;\n",
       "    }\n",
       "\n",
       "    .dataframe thead th {\n",
       "        text-align: right;\n",
       "    }\n",
       "</style>\n",
       "<table border=\"1\" class=\"dataframe\">\n",
       "  <thead>\n",
       "    <tr style=\"text-align: right;\">\n",
       "      <th></th>\n",
       "      <th>TV</th>\n",
       "      <th>radio</th>\n",
       "      <th>newspaper</th>\n",
       "      <th>sales</th>\n",
       "    </tr>\n",
       "  </thead>\n",
       "  <tbody>\n",
       "    <tr>\n",
       "      <td>195</td>\n",
       "      <td>38.2</td>\n",
       "      <td>3.7</td>\n",
       "      <td>13.8</td>\n",
       "      <td>7.6</td>\n",
       "    </tr>\n",
       "    <tr>\n",
       "      <td>196</td>\n",
       "      <td>94.2</td>\n",
       "      <td>4.9</td>\n",
       "      <td>8.1</td>\n",
       "      <td>9.7</td>\n",
       "    </tr>\n",
       "    <tr>\n",
       "      <td>197</td>\n",
       "      <td>177.0</td>\n",
       "      <td>9.3</td>\n",
       "      <td>6.4</td>\n",
       "      <td>12.8</td>\n",
       "    </tr>\n",
       "    <tr>\n",
       "      <td>198</td>\n",
       "      <td>283.6</td>\n",
       "      <td>42.0</td>\n",
       "      <td>66.2</td>\n",
       "      <td>25.5</td>\n",
       "    </tr>\n",
       "    <tr>\n",
       "      <td>199</td>\n",
       "      <td>232.1</td>\n",
       "      <td>8.6</td>\n",
       "      <td>8.7</td>\n",
       "      <td>13.4</td>\n",
       "    </tr>\n",
       "  </tbody>\n",
       "</table>\n",
       "</div>"
      ],
      "text/plain": [
       "        TV  radio  newspaper  sales\n",
       "195   38.2    3.7       13.8    7.6\n",
       "196   94.2    4.9        8.1    9.7\n",
       "197  177.0    9.3        6.4   12.8\n",
       "198  283.6   42.0       66.2   25.5\n",
       "199  232.1    8.6        8.7   13.4"
      ]
     },
     "execution_count": 5,
     "metadata": {},
     "output_type": "execute_result"
    }
   ],
   "source": [
    "df_sales.tail()"
   ]
  },
  {
   "cell_type": "code",
   "execution_count": 6,
   "metadata": {},
   "outputs": [
    {
     "data": {
      "text/plain": [
       "(200, 4)"
      ]
     },
     "execution_count": 6,
     "metadata": {},
     "output_type": "execute_result"
    }
   ],
   "source": [
    "df_sales.shape"
   ]
  },
  {
   "cell_type": "code",
   "execution_count": 7,
   "metadata": {},
   "outputs": [
    {
     "data": {
      "text/plain": [
       "TV           float64\n",
       "radio        float64\n",
       "newspaper    float64\n",
       "sales        float64\n",
       "dtype: object"
      ]
     },
     "execution_count": 7,
     "metadata": {},
     "output_type": "execute_result"
    }
   ],
   "source": [
    "df_sales.dtypes"
   ]
  },
  {
   "cell_type": "code",
   "execution_count": 8,
   "metadata": {},
   "outputs": [
    {
     "data": {
      "text/plain": [
       "Index(['TV', 'radio', 'newspaper', 'sales'], dtype='object')"
      ]
     },
     "execution_count": 8,
     "metadata": {},
     "output_type": "execute_result"
    }
   ],
   "source": [
    "df_sales.columns"
   ]
  },
  {
   "cell_type": "code",
   "execution_count": 9,
   "metadata": {},
   "outputs": [
    {
     "name": "stdout",
     "output_type": "stream",
     "text": [
      "<class 'pandas.core.frame.DataFrame'>\n",
      "RangeIndex: 200 entries, 0 to 199\n",
      "Data columns (total 4 columns):\n",
      "TV           200 non-null float64\n",
      "radio        200 non-null float64\n",
      "newspaper    200 non-null float64\n",
      "sales        200 non-null float64\n",
      "dtypes: float64(4)\n",
      "memory usage: 6.4 KB\n"
     ]
    }
   ],
   "source": [
    "df_sales.info()"
   ]
  },
  {
   "cell_type": "code",
   "execution_count": 10,
   "metadata": {},
   "outputs": [
    {
     "data": {
      "text/html": [
       "<div>\n",
       "<style scoped>\n",
       "    .dataframe tbody tr th:only-of-type {\n",
       "        vertical-align: middle;\n",
       "    }\n",
       "\n",
       "    .dataframe tbody tr th {\n",
       "        vertical-align: top;\n",
       "    }\n",
       "\n",
       "    .dataframe thead th {\n",
       "        text-align: right;\n",
       "    }\n",
       "</style>\n",
       "<table border=\"1\" class=\"dataframe\">\n",
       "  <thead>\n",
       "    <tr style=\"text-align: right;\">\n",
       "      <th></th>\n",
       "      <th>TV</th>\n",
       "      <th>radio</th>\n",
       "      <th>newspaper</th>\n",
       "      <th>sales</th>\n",
       "    </tr>\n",
       "  </thead>\n",
       "  <tbody>\n",
       "    <tr>\n",
       "      <td>count</td>\n",
       "      <td>200.000000</td>\n",
       "      <td>200.000000</td>\n",
       "      <td>200.000000</td>\n",
       "      <td>200.000000</td>\n",
       "    </tr>\n",
       "    <tr>\n",
       "      <td>mean</td>\n",
       "      <td>147.042500</td>\n",
       "      <td>23.264000</td>\n",
       "      <td>30.554000</td>\n",
       "      <td>14.022500</td>\n",
       "    </tr>\n",
       "    <tr>\n",
       "      <td>std</td>\n",
       "      <td>85.854236</td>\n",
       "      <td>14.846809</td>\n",
       "      <td>21.778621</td>\n",
       "      <td>5.217457</td>\n",
       "    </tr>\n",
       "    <tr>\n",
       "      <td>min</td>\n",
       "      <td>0.700000</td>\n",
       "      <td>0.000000</td>\n",
       "      <td>0.300000</td>\n",
       "      <td>1.600000</td>\n",
       "    </tr>\n",
       "    <tr>\n",
       "      <td>25%</td>\n",
       "      <td>74.375000</td>\n",
       "      <td>9.975000</td>\n",
       "      <td>12.750000</td>\n",
       "      <td>10.375000</td>\n",
       "    </tr>\n",
       "    <tr>\n",
       "      <td>50%</td>\n",
       "      <td>149.750000</td>\n",
       "      <td>22.900000</td>\n",
       "      <td>25.750000</td>\n",
       "      <td>12.900000</td>\n",
       "    </tr>\n",
       "    <tr>\n",
       "      <td>75%</td>\n",
       "      <td>218.825000</td>\n",
       "      <td>36.525000</td>\n",
       "      <td>45.100000</td>\n",
       "      <td>17.400000</td>\n",
       "    </tr>\n",
       "    <tr>\n",
       "      <td>max</td>\n",
       "      <td>296.400000</td>\n",
       "      <td>49.600000</td>\n",
       "      <td>114.000000</td>\n",
       "      <td>27.000000</td>\n",
       "    </tr>\n",
       "  </tbody>\n",
       "</table>\n",
       "</div>"
      ],
      "text/plain": [
       "               TV       radio   newspaper       sales\n",
       "count  200.000000  200.000000  200.000000  200.000000\n",
       "mean   147.042500   23.264000   30.554000   14.022500\n",
       "std     85.854236   14.846809   21.778621    5.217457\n",
       "min      0.700000    0.000000    0.300000    1.600000\n",
       "25%     74.375000    9.975000   12.750000   10.375000\n",
       "50%    149.750000   22.900000   25.750000   12.900000\n",
       "75%    218.825000   36.525000   45.100000   17.400000\n",
       "max    296.400000   49.600000  114.000000   27.000000"
      ]
     },
     "execution_count": 10,
     "metadata": {},
     "output_type": "execute_result"
    }
   ],
   "source": [
    "df_sales.describe()"
   ]
  },
  {
   "cell_type": "markdown",
   "metadata": {},
   "source": [
    "The mean is very close to 50% percentile. Therefore, it appears that there is a normal distribution of data."
   ]
  },
  {
   "cell_type": "code",
   "execution_count": 11,
   "metadata": {},
   "outputs": [
    {
     "data": {
      "text/plain": [
       "<matplotlib.axes._subplots.AxesSubplot at 0x1dd982bdd48>"
      ]
     },
     "execution_count": 11,
     "metadata": {},
     "output_type": "execute_result"
    },
    {
     "data": {
      "image/png": "[encoded data removed]",
      "text/plain": [
       "<Figure size 432x288 with 2 Axes>"
      ]
     },
     "metadata": {
      "needs_background": "light"
     },
     "output_type": "display_data"
    }
   ],
   "source": [
    "sns.heatmap(df_sales.isnull(),annot=True)"
   ]
  },
  {
   "cell_type": "code",
   "execution_count": 12,
   "metadata": {},
   "outputs": [
    {
     "data": {
      "text/plain": [
       "TV           0\n",
       "radio        0\n",
       "newspaper    0\n",
       "sales        0\n",
       "dtype: int64"
      ]
     },
     "execution_count": 12,
     "metadata": {},
     "output_type": "execute_result"
    }
   ],
   "source": [
    "df_sales.isnull().sum()"
   ]
  },
  {
   "cell_type": "markdown",
   "metadata": {},
   "source": [
    "CHECKING DATA SKEWNESS"
   ]
  },
  {
   "cell_type": "code",
   "execution_count": 13,
   "metadata": {},
   "outputs": [
    {
     "data": {
      "text/plain": [
       "TV          -0.069853\n",
       "radio        0.094175\n",
       "newspaper   -0.799875\n",
       "sales        0.407571\n",
       "dtype: float64"
      ]
     },
     "execution_count": 13,
     "metadata": {},
     "output_type": "execute_result"
    }
   ],
   "source": [
    "for col in df_sales.columns:\n",
    "    if df_sales.skew().loc[col]>0.55:\n",
    "        df_sales[col]=np.log1p(df_sales[col])\n",
    "df_sales.skew()"
   ]
  },
  {
   "cell_type": "markdown",
   "metadata": {},
   "source": [
    "CHECKING OUTLIERS"
   ]
  },
  {
   "cell_type": "code",
   "execution_count": 14,
   "metadata": {},
   "outputs": [
    {
     "name": "stdout",
     "output_type": "stream",
     "text": [
      "(200, 4)\n",
      "(array([33], dtype=int64), array([2], dtype=int64))\n"
     ]
    }
   ],
   "source": [
    "from scipy.stats import zscore\n",
    "z=np.abs(zscore(df_sales))\n",
    "print(z.shape)\n",
    "print(np.where(z>3))"
   ]
  },
  {
   "cell_type": "code",
   "execution_count": 15,
   "metadata": {},
   "outputs": [
    {
     "name": "stdout",
     "output_type": "stream",
     "text": [
      "TV           265.600000\n",
      "radio         20.000000\n",
      "newspaper      0.262364\n",
      "sales         17.400000\n",
      "Name: 33, dtype: float64\n"
     ]
    }
   ],
   "source": [
    "print(df_sales.iloc[33,])"
   ]
  },
  {
   "cell_type": "markdown",
   "metadata": {},
   "source": [
    "This outlier may be ignored."
   ]
  },
  {
   "cell_type": "code",
   "execution_count": 16,
   "metadata": {},
   "outputs": [],
   "source": [
    "df_final=df_sales"
   ]
  },
  {
   "cell_type": "markdown",
   "metadata": {},
   "source": [
    "CORRELATION"
   ]
  },
  {
   "cell_type": "code",
   "execution_count": 17,
   "metadata": {},
   "outputs": [
    {
     "data": {
      "text/html": [
       "<div>\n",
       "<style scoped>\n",
       "    .dataframe tbody tr th:only-of-type {\n",
       "        vertical-align: middle;\n",
       "    }\n",
       "\n",
       "    .dataframe tbody tr th {\n",
       "        vertical-align: top;\n",
       "    }\n",
       "\n",
       "    .dataframe thead th {\n",
       "        text-align: right;\n",
       "    }\n",
       "</style>\n",
       "<table border=\"1\" class=\"dataframe\">\n",
       "  <thead>\n",
       "    <tr style=\"text-align: right;\">\n",
       "      <th></th>\n",
       "      <th>TV</th>\n",
       "      <th>radio</th>\n",
       "      <th>newspaper</th>\n",
       "      <th>sales</th>\n",
       "    </tr>\n",
       "  </thead>\n",
       "  <tbody>\n",
       "    <tr>\n",
       "      <td>TV</td>\n",
       "      <td>1.000000</td>\n",
       "      <td>0.054809</td>\n",
       "      <td>0.030951</td>\n",
       "      <td>0.782224</td>\n",
       "    </tr>\n",
       "    <tr>\n",
       "      <td>radio</td>\n",
       "      <td>0.054809</td>\n",
       "      <td>1.000000</td>\n",
       "      <td>0.251909</td>\n",
       "      <td>0.576223</td>\n",
       "    </tr>\n",
       "    <tr>\n",
       "      <td>newspaper</td>\n",
       "      <td>0.030951</td>\n",
       "      <td>0.251909</td>\n",
       "      <td>1.000000</td>\n",
       "      <td>0.164501</td>\n",
       "    </tr>\n",
       "    <tr>\n",
       "      <td>sales</td>\n",
       "      <td>0.782224</td>\n",
       "      <td>0.576223</td>\n",
       "      <td>0.164501</td>\n",
       "      <td>1.000000</td>\n",
       "    </tr>\n",
       "  </tbody>\n",
       "</table>\n",
       "</div>"
      ],
      "text/plain": [
       "                 TV     radio  newspaper     sales\n",
       "TV         1.000000  0.054809   0.030951  0.782224\n",
       "radio      0.054809  1.000000   0.251909  0.576223\n",
       "newspaper  0.030951  0.251909   1.000000  0.164501\n",
       "sales      0.782224  0.576223   0.164501  1.000000"
      ]
     },
     "execution_count": 17,
     "metadata": {},
     "output_type": "execute_result"
    }
   ],
   "source": [
    "df_final.corr()"
   ]
  },
  {
   "cell_type": "code",
   "execution_count": 18,
   "metadata": {},
   "outputs": [
    {
     "data": {
      "text/plain": [
       "TV          -0.069853\n",
       "radio        0.094175\n",
       "newspaper   -0.799875\n",
       "sales        0.407571\n",
       "dtype: float64"
      ]
     },
     "execution_count": 18,
     "metadata": {},
     "output_type": "execute_result"
    }
   ],
   "source": [
    "df_final.skew()"
   ]
  },
  {
   "cell_type": "markdown",
   "metadata": {},
   "source": [
    "# DATAFRAME"
   ]
  },
  {
   "cell_type": "code",
   "execution_count": 19,
   "metadata": {},
   "outputs": [
    {
     "name": "stdout",
     "output_type": "stream",
     "text": [
      "        TV  radio  newspaper\n",
      "0    230.1   37.8   4.251348\n",
      "1     44.5   39.3   3.830813\n",
      "2     17.2   45.9   4.252772\n",
      "3    151.5   41.3   4.085976\n",
      "4    180.8   10.8   4.084294\n",
      "..     ...    ...        ...\n",
      "195   38.2    3.7   2.694627\n",
      "196   94.2    4.9   2.208274\n",
      "197  177.0    9.3   2.001480\n",
      "198  283.6   42.0   4.207673\n",
      "199  232.1    8.6   2.272126\n",
      "\n",
      "[200 rows x 3 columns]\n",
      "0      22.1\n",
      "1      10.4\n",
      "2       9.3\n",
      "3      18.5\n",
      "4      12.9\n",
      "       ... \n",
      "195     7.6\n",
      "196     9.7\n",
      "197    12.8\n",
      "198    25.5\n",
      "199    13.4\n",
      "Name: sales, Length: 200, dtype: float64\n",
      "\n",
      "(200, 3)\n",
      "(200,)\n"
     ]
    }
   ],
   "source": [
    "df_x=df_final.iloc[:,:-1]\n",
    "print(df_x)\n",
    "y=df_final.iloc[:,-1]\n",
    "print(y)\n",
    "print()\n",
    "print(df_x.shape)\n",
    "print(y.shape)"
   ]
  },
  {
   "cell_type": "code",
   "execution_count": 20,
   "metadata": {},
   "outputs": [],
   "source": [
    "x=df_x"
   ]
  },
  {
   "cell_type": "code",
   "execution_count": 21,
   "metadata": {},
   "outputs": [
    {
     "data": {
      "text/plain": [
       "<seaborn.axisgrid.PairGrid at 0x1dd99d5db88>"
      ]
     },
     "execution_count": 21,
     "metadata": {},
     "output_type": "execute_result"
    },
    {
     "data": {
      "image/png": "[encoded data removed]",
      "text/plain": [
       "<Figure size 720x720 with 20 Axes>"
      ]
     },
     "metadata": {
      "needs_background": "light"
     },
     "output_type": "display_data"
    }
   ],
   "source": [
    "sns.pairplot(df_final)"
   ]
  },
  {
   "cell_type": "markdown",
   "metadata": {},
   "source": [
    "# TRAINING AND TESTING - VARIOUS MODELS"
   ]
  },
  {
   "cell_type": "code",
   "execution_count": 22,
   "metadata": {},
   "outputs": [],
   "source": [
    "from sklearn.model_selection import train_test_split\n",
    "from sklearn.metrics import mean_absolute_error,mean_squared_error\n",
    "from sklearn.metrics import r2_score\n",
    "from sklearn import linear_model\n",
    "from sklearn.model_selection import cross_val_score"
   ]
  },
  {
   "cell_type": "markdown",
   "metadata": {},
   "source": [
    "FUNCTION DECLARATION"
   ]
  },
  {
   "cell_type": "code",
   "execution_count": 23,
   "metadata": {},
   "outputs": [],
   "source": [
    "def maxr2_score(regr,x,y):\n",
    "    max_r_score=0\n",
    "    for r_state in range(42,101):\n",
    "        x_train,x_test,y_train,y_test=train_test_split(x,y,random_state=r_state,test_size=0.20)\n",
    "        regr.fit(x_train,y_train)\n",
    "        y_pred=regr.predict(x_test)\n",
    "        r2_scr=r2_score(y_test,y_pred)\n",
    "        print(\"R2 Score corresponding to \",r_state,\" is \",r2_scr)\n",
    "        if r2_scr>max_r_score:\n",
    "            max_r_score=r2_scr\n",
    "            final_r_state=r_state\n",
    "    print(\"Maximum R2 Score corresponds to \",final_r_state,\" is \",max_r_score)\n",
    "    return(final_r_state)"
   ]
  },
  {
   "cell_type": "markdown",
   "metadata": {},
   "source": [
    "LINEAR REGRESSION"
   ]
  },
  {
   "cell_type": "code",
   "execution_count": 24,
   "metadata": {},
   "outputs": [
    {
     "name": "stdout",
     "output_type": "stream",
     "text": [
      "R2 Score corresponding to  42  is  0.8996743470591734\n",
      "R2 Score corresponding to  43  is  0.9278006427530694\n",
      "R2 Score corresponding to  44  is  0.8307354623475127\n",
      "R2 Score corresponding to  45  is  0.8951874656511892\n",
      "R2 Score corresponding to  46  is  0.8502747923160441\n",
      "R2 Score corresponding to  47  is  0.8861535196315131\n",
      "R2 Score corresponding to  48  is  0.9199526417276469\n",
      "R2 Score corresponding to  49  is  0.8249642083513499\n",
      "R2 Score corresponding to  50  is  0.8469693454551068\n",
      "R2 Score corresponding to  51  is  0.9049819936668557\n",
      "R2 Score corresponding to  52  is  0.8813753894105311\n",
      "R2 Score corresponding to  53  is  0.9256875638861686\n",
      "R2 Score corresponding to  54  is  0.9182888279066231\n",
      "R2 Score corresponding to  55  is  0.9038303226842745\n",
      "R2 Score corresponding to  56  is  0.8895696209473444\n",
      "R2 Score corresponding to  57  is  0.9412101362997594\n",
      "R2 Score corresponding to  58  is  0.8406697298254625\n",
      "R2 Score corresponding to  59  is  0.9251717743473579\n",
      "R2 Score corresponding to  60  is  0.9108160996624977\n",
      "R2 Score corresponding to  61  is  0.879476577388556\n",
      "R2 Score corresponding to  62  is  0.841939878567755\n",
      "R2 Score corresponding to  63  is  0.9034840224356186\n",
      "R2 Score corresponding to  64  is  0.8809291043951979\n",
      "R2 Score corresponding to  65  is  0.893923950651847\n",
      "R2 Score corresponding to  66  is  0.8898308695791404\n",
      "R2 Score corresponding to  67  is  0.8819441298862538\n",
      "R2 Score corresponding to  68  is  0.8704653542954975\n",
      "R2 Score corresponding to  69  is  0.9216776498850787\n",
      "R2 Score corresponding to  70  is  0.9261982408644344\n",
      "R2 Score corresponding to  71  is  0.8244307287113819\n",
      "R2 Score corresponding to  72  is  0.9077970688868611\n",
      "R2 Score corresponding to  73  is  0.8412869530942428\n",
      "R2 Score corresponding to  74  is  0.8808708650198234\n",
      "R2 Score corresponding to  75  is  0.9076829446185093\n",
      "R2 Score corresponding to  76  is  0.7484557154824745\n",
      "R2 Score corresponding to  77  is  0.937201692384729\n",
      "R2 Score corresponding to  78  is  0.9020604713155667\n",
      "R2 Score corresponding to  79  is  0.9041000753051541\n",
      "R2 Score corresponding to  80  is  0.8069323264841433\n",
      "R2 Score corresponding to  81  is  0.8617863049896288\n",
      "R2 Score corresponding to  82  is  0.8032224248948872\n",
      "R2 Score corresponding to  83  is  0.9380758007668363\n",
      "R2 Score corresponding to  84  is  0.9029102137164361\n",
      "R2 Score corresponding to  85  is  0.8453165844985739\n",
      "R2 Score corresponding to  86  is  0.9106266908076494\n",
      "R2 Score corresponding to  87  is  0.7649322265192882\n",
      "R2 Score corresponding to  88  is  0.8398246441932474\n",
      "R2 Score corresponding to  89  is  0.8750313366277597\n",
      "R2 Score corresponding to  90  is  0.8510656295223845\n",
      "R2 Score corresponding to  91  is  0.9043801574456358\n",
      "R2 Score corresponding to  92  is  0.9511630103558467\n",
      "R2 Score corresponding to  93  is  0.9127107178281293\n",
      "R2 Score corresponding to  94  is  0.8576368723789923\n",
      "R2 Score corresponding to  95  is  0.8929975361454908\n",
      "R2 Score corresponding to  96  is  0.8601305211939273\n",
      "R2 Score corresponding to  97  is  0.9109310575356078\n",
      "R2 Score corresponding to  98  is  0.9399975659740445\n",
      "R2 Score corresponding to  99  is  0.9176279816370709\n",
      "R2 Score corresponding to  100  is  0.9136553540338037\n",
      "Maximum R2 Score corresponds to  92  is  0.9511630103558467\n"
     ]
    }
   ],
   "source": [
    "from sklearn.linear_model import LinearRegression\n",
    "lr=LinearRegression()\n",
    "r_state=maxr2_score(lr,x,y)"
   ]
  },
  {
   "cell_type": "code",
   "execution_count": 25,
   "metadata": {},
   "outputs": [
    {
     "name": "stdout",
     "output_type": "stream",
     "text": [
      "Mean R2 Score for Linear Regression is  0.8859185174991563\n",
      "Standard Deviation in R2 Score for Linear Regression is  0.052038274360016276\n"
     ]
    }
   ],
   "source": [
    "print(\"Mean R2 Score for Linear Regression is \",cross_val_score(linear_model.LinearRegression(),x,y,cv=10,scoring='r2').mean())\n",
    "print(\"Standard Deviation in R2 Score for Linear Regression is \",cross_val_score(linear_model.LinearRegression(),x,y,cv=10,scoring='r2').std())"
   ]
  },
  {
   "cell_type": "markdown",
   "metadata": {},
   "source": [
    "KNEIGHBORS REGRESSOR"
   ]
  },
  {
   "cell_type": "code",
   "execution_count": 26,
   "metadata": {},
   "outputs": [
    {
     "data": {
      "text/plain": [
       "{'n_neighbors': 3}"
      ]
     },
     "execution_count": 26,
     "metadata": {},
     "output_type": "execute_result"
    }
   ],
   "source": [
    "from sklearn.model_selection import GridSearchCV\n",
    "from sklearn.neighbors import KNeighborsRegressor\n",
    "neighbors={\"n_neighbors\":range(1,30)}\n",
    "knr=KNeighborsRegressor()\n",
    "gknr=GridSearchCV(knr,neighbors,cv=10)\n",
    "gknr.fit(x,y)\n",
    "gknr.best_params_"
   ]
  },
  {
   "cell_type": "code",
   "execution_count": 27,
   "metadata": {},
   "outputs": [
    {
     "name": "stdout",
     "output_type": "stream",
     "text": [
      "R2 Score corresponding to  42  is  0.9727006159852547\n",
      "R2 Score corresponding to  43  is  0.9629275483402363\n",
      "R2 Score corresponding to  44  is  0.9162285540595307\n",
      "R2 Score corresponding to  45  is  0.9483852326393578\n",
      "R2 Score corresponding to  46  is  0.9534315429034935\n",
      "R2 Score corresponding to  47  is  0.9670642534580132\n",
      "R2 Score corresponding to  48  is  0.9695352866320163\n",
      "R2 Score corresponding to  49  is  0.9509874210401206\n",
      "R2 Score corresponding to  50  is  0.9532955428937098\n",
      "R2 Score corresponding to  51  is  0.9564349229126627\n",
      "R2 Score corresponding to  52  is  0.9650797434327518\n",
      "R2 Score corresponding to  53  is  0.9790566285719587\n",
      "R2 Score corresponding to  54  is  0.9687215697191763\n",
      "R2 Score corresponding to  55  is  0.9621472514943892\n",
      "R2 Score corresponding to  56  is  0.9703495491849609\n",
      "R2 Score corresponding to  57  is  0.961978985976665\n",
      "R2 Score corresponding to  58  is  0.9583095007918982\n",
      "R2 Score corresponding to  59  is  0.9731401900207539\n",
      "R2 Score corresponding to  60  is  0.9653450775592232\n",
      "R2 Score corresponding to  61  is  0.9575263412933236\n",
      "R2 Score corresponding to  62  is  0.9388524077411032\n",
      "R2 Score corresponding to  63  is  0.9522383045209702\n",
      "R2 Score corresponding to  64  is  0.9527610991557155\n",
      "R2 Score corresponding to  65  is  0.9651524715533013\n",
      "R2 Score corresponding to  66  is  0.9573338961350698\n",
      "R2 Score corresponding to  67  is  0.9491179766354749\n",
      "R2 Score corresponding to  68  is  0.9652102402524579\n",
      "R2 Score corresponding to  69  is  0.9796785893822056\n",
      "R2 Score corresponding to  70  is  0.9535366405763357\n",
      "R2 Score corresponding to  71  is  0.952804228257361\n",
      "R2 Score corresponding to  72  is  0.9629098219234842\n",
      "R2 Score corresponding to  73  is  0.928219480481508\n",
      "R2 Score corresponding to  74  is  0.9567413557451611\n",
      "R2 Score corresponding to  75  is  0.9568815150989096\n",
      "R2 Score corresponding to  76  is  0.925477451787134\n",
      "R2 Score corresponding to  77  is  0.9715786089995675\n",
      "R2 Score corresponding to  78  is  0.9426670520503092\n",
      "R2 Score corresponding to  79  is  0.9565099388441329\n",
      "R2 Score corresponding to  80  is  0.9503461323173122\n",
      "R2 Score corresponding to  81  is  0.9444602203399607\n",
      "R2 Score corresponding to  82  is  0.9173809583553277\n",
      "R2 Score corresponding to  83  is  0.9612077801812501\n",
      "R2 Score corresponding to  84  is  0.9599184779526104\n",
      "R2 Score corresponding to  85  is  0.94524004665615\n",
      "R2 Score corresponding to  86  is  0.9712106960937381\n",
      "R2 Score corresponding to  87  is  0.9435815807869737\n",
      "R2 Score corresponding to  88  is  0.9374242835399409\n",
      "R2 Score corresponding to  89  is  0.9714114411373567\n",
      "R2 Score corresponding to  90  is  0.9246347808014375\n",
      "R2 Score corresponding to  91  is  0.9615628447488356\n",
      "R2 Score corresponding to  92  is  0.9694101502531995\n",
      "R2 Score corresponding to  93  is  0.9777776601893057\n",
      "R2 Score corresponding to  94  is  0.9581262628920997\n",
      "R2 Score corresponding to  95  is  0.949993137566287\n",
      "R2 Score corresponding to  96  is  0.9512921549565511\n",
      "R2 Score corresponding to  97  is  0.9763113826779969\n",
      "R2 Score corresponding to  98  is  0.9690093057974298\n",
      "R2 Score corresponding to  99  is  0.9776567150787427\n",
      "R2 Score corresponding to  100  is  0.9673543910255751\n",
      "Maximum R2 Score corresponds to  69  is  0.9796785893822056\n"
     ]
    }
   ],
   "source": [
    "knr=KNeighborsRegressor(n_neighbors=3)\n",
    "r_state=maxr2_score(knr,x,y)"
   ]
  },
  {
   "cell_type": "code",
   "execution_count": 28,
   "metadata": {},
   "outputs": [
    {
     "name": "stdout",
     "output_type": "stream",
     "text": [
      "Mean R2 Score for KNN Regression is  0.9620765050266311\n",
      "Standard Deviation in R2 Score for KNN Regression is  0.014049408190840561\n"
     ]
    }
   ],
   "source": [
    "print(\"Mean R2 Score for KNN Regression is \",cross_val_score(knr,x,y,cv=5,scoring=\"r2\").mean())\n",
    "print(\"Standard Deviation in R2 Score for KNN Regression is \",cross_val_score(knr,x,y,cv=10,scoring='r2').std())"
   ]
  },
  {
   "cell_type": "markdown",
   "metadata": {},
   "source": [
    "LASSO REGRESSION"
   ]
  },
  {
   "cell_type": "code",
   "execution_count": 29,
   "metadata": {},
   "outputs": [
    {
     "data": {
      "text/plain": [
       "{'alpha': 0.1}"
      ]
     },
     "execution_count": 29,
     "metadata": {},
     "output_type": "execute_result"
    }
   ],
   "source": [
    "from sklearn.linear_model import Lasso\n",
    "ls=Lasso()\n",
    "parameters={\"alpha\":[0.001,0.01,0.1,1]}\n",
    "clf=GridSearchCV(ls,parameters,cv=10)\n",
    "clf.fit(x,y)\n",
    "clf.best_params_"
   ]
  },
  {
   "cell_type": "code",
   "execution_count": 30,
   "metadata": {},
   "outputs": [
    {
     "name": "stdout",
     "output_type": "stream",
     "text": [
      "R2 Score corresponding to  42  is  0.9006342487124841\n",
      "R2 Score corresponding to  43  is  0.9285048530794857\n",
      "R2 Score corresponding to  44  is  0.8311816716527916\n",
      "R2 Score corresponding to  45  is  0.8985188597068807\n",
      "R2 Score corresponding to  46  is  0.8534392432347682\n",
      "R2 Score corresponding to  47  is  0.8860945492399546\n",
      "R2 Score corresponding to  48  is  0.9202286516592186\n",
      "R2 Score corresponding to  49  is  0.825528329793284\n",
      "R2 Score corresponding to  50  is  0.8517580769022559\n",
      "R2 Score corresponding to  51  is  0.9079164322338624\n",
      "R2 Score corresponding to  52  is  0.8830081542110533\n",
      "R2 Score corresponding to  53  is  0.9255806538314634\n",
      "R2 Score corresponding to  54  is  0.9182392811133391\n",
      "R2 Score corresponding to  55  is  0.9067905171609926\n",
      "R2 Score corresponding to  56  is  0.8895002588169769\n",
      "R2 Score corresponding to  57  is  0.9414751378851532\n",
      "R2 Score corresponding to  58  is  0.8407163848528237\n",
      "R2 Score corresponding to  59  is  0.9249808317364414\n",
      "R2 Score corresponding to  60  is  0.9166042033185566\n",
      "R2 Score corresponding to  61  is  0.8801382072722748\n",
      "R2 Score corresponding to  62  is  0.8419182700834743\n",
      "R2 Score corresponding to  63  is  0.9078927738429773\n",
      "R2 Score corresponding to  64  is  0.8814600098331903\n",
      "R2 Score corresponding to  65  is  0.8943443405626871\n",
      "R2 Score corresponding to  66  is  0.8898534551989199\n",
      "R2 Score corresponding to  67  is  0.8836415907820733\n",
      "R2 Score corresponding to  68  is  0.8721301853696433\n",
      "R2 Score corresponding to  69  is  0.9239055242084948\n",
      "R2 Score corresponding to  70  is  0.9273778177202896\n",
      "R2 Score corresponding to  71  is  0.8280190570222691\n",
      "R2 Score corresponding to  72  is  0.9082738948023216\n",
      "R2 Score corresponding to  73  is  0.8413550655690898\n",
      "R2 Score corresponding to  74  is  0.8807078211859929\n",
      "R2 Score corresponding to  75  is  0.9086856388198552\n",
      "R2 Score corresponding to  76  is  0.755334163983574\n",
      "R2 Score corresponding to  77  is  0.9378689824267612\n",
      "R2 Score corresponding to  78  is  0.9028270461853224\n",
      "R2 Score corresponding to  79  is  0.9044952965877661\n",
      "R2 Score corresponding to  80  is  0.8072452915004658\n",
      "R2 Score corresponding to  81  is  0.8622121142281262\n",
      "R2 Score corresponding to  82  is  0.8064191078582951\n",
      "R2 Score corresponding to  83  is  0.9388509743783104\n",
      "R2 Score corresponding to  84  is  0.9037958083974378\n",
      "R2 Score corresponding to  85  is  0.8462387599231695\n",
      "R2 Score corresponding to  86  is  0.9106264968438067\n",
      "R2 Score corresponding to  87  is  0.7650592053477634\n",
      "R2 Score corresponding to  88  is  0.8456057666235764\n",
      "R2 Score corresponding to  89  is  0.8802489896783543\n",
      "R2 Score corresponding to  90  is  0.8512927605484475\n",
      "R2 Score corresponding to  91  is  0.9037534454747467\n",
      "R2 Score corresponding to  92  is  0.9521691133545633\n",
      "R2 Score corresponding to  93  is  0.9126613710744315\n",
      "R2 Score corresponding to  94  is  0.8579351474303694\n",
      "R2 Score corresponding to  95  is  0.8948471705072955\n",
      "R2 Score corresponding to  96  is  0.859748710717198\n",
      "R2 Score corresponding to  97  is  0.9158452310752898\n",
      "R2 Score corresponding to  98  is  0.9398970480624377\n",
      "R2 Score corresponding to  99  is  0.9203069397827184\n",
      "R2 Score corresponding to  100  is  0.9193673811094246\n",
      "Maximum R2 Score corresponds to  92  is  0.9521691133545633\n"
     ]
    }
   ],
   "source": [
    "ls=Lasso(alpha=0.1)\n",
    "r_state=maxr2_score(ls,x,y)"
   ]
  },
  {
   "cell_type": "code",
   "execution_count": 31,
   "metadata": {},
   "outputs": [
    {
     "name": "stdout",
     "output_type": "stream",
     "text": [
      "Mean R2 Score for Lasso Regression is  0.8892843289533665\n",
      "Standard Deviation in R2 Score for Lasso Regression is  0.03768017769770806\n"
     ]
    }
   ],
   "source": [
    "print(\"Mean R2 Score for Lasso Regression is \",cross_val_score(ls,x,y,cv=5,scoring=\"r2\").mean())\n",
    "print(\"Standard Deviation in R2 Score for Lasso Regression is \",cross_val_score(ls,x,y,cv=5,scoring=\"r2\").std())"
   ]
  },
  {
   "cell_type": "markdown",
   "metadata": {},
   "source": [
    "RIDGE REGRESSION"
   ]
  },
  {
   "cell_type": "code",
   "execution_count": 32,
   "metadata": {},
   "outputs": [
    {
     "data": {
      "text/plain": [
       "{'alpha': 1}"
      ]
     },
     "execution_count": 32,
     "metadata": {},
     "output_type": "execute_result"
    }
   ],
   "source": [
    "from sklearn.linear_model import Ridge\n",
    "rd=Ridge()\n",
    "parameters={\"alpha\":[0.001,0.01,0.1,1]}\n",
    "clf=GridSearchCV(rd,parameters,cv=10)\n",
    "clf.fit(x,y)\n",
    "clf.best_params_"
   ]
  },
  {
   "cell_type": "code",
   "execution_count": 33,
   "metadata": {},
   "outputs": [
    {
     "name": "stdout",
     "output_type": "stream",
     "text": [
      "R2 Score corresponding to  42  is  0.8996870313810141\n",
      "R2 Score corresponding to  43  is  0.9278085208260827\n",
      "R2 Score corresponding to  44  is  0.8307397637220755\n",
      "R2 Score corresponding to  45  is  0.8952203514881625\n",
      "R2 Score corresponding to  46  is  0.8503055272203818\n",
      "R2 Score corresponding to  47  is  0.8861534437526013\n",
      "R2 Score corresponding to  48  is  0.9199552092908552\n",
      "R2 Score corresponding to  49  is  0.8249704969022288\n",
      "R2 Score corresponding to  50  is  0.847014025486959\n",
      "R2 Score corresponding to  51  is  0.9050147216881842\n",
      "R2 Score corresponding to  52  is  0.8813912399073488\n",
      "R2 Score corresponding to  53  is  0.9256866992129503\n",
      "R2 Score corresponding to  54  is  0.9182883134290646\n",
      "R2 Score corresponding to  55  is  0.9038596083062195\n",
      "R2 Score corresponding to  56  is  0.8895694133414119\n",
      "R2 Score corresponding to  57  is  0.9412131724136369\n",
      "R2 Score corresponding to  58  is  0.8406707244472749\n",
      "R2 Score corresponding to  59  is  0.925169821650778\n",
      "R2 Score corresponding to  60  is  0.9108755007179441\n",
      "R2 Score corresponding to  61  is  0.8794833584170512\n",
      "R2 Score corresponding to  62  is  0.8419405812139074\n",
      "R2 Score corresponding to  63  is  0.9035274506956557\n",
      "R2 Score corresponding to  64  is  0.88093480059165\n",
      "R2 Score corresponding to  65  is  0.8939289937053841\n",
      "R2 Score corresponding to  66  is  0.8898318000255611\n",
      "R2 Score corresponding to  67  is  0.8819593125096158\n",
      "R2 Score corresponding to  68  is  0.8704826847217151\n",
      "R2 Score corresponding to  69  is  0.9217000458581718\n",
      "R2 Score corresponding to  70  is  0.9262107021025213\n",
      "R2 Score corresponding to  71  is  0.8244642511849254\n",
      "R2 Score corresponding to  72  is  0.9078016552356762\n",
      "R2 Score corresponding to  73  is  0.841288020412951\n",
      "R2 Score corresponding to  74  is  0.8808702654567911\n",
      "R2 Score corresponding to  75  is  0.907693350712857\n",
      "R2 Score corresponding to  76  is  0.7485239008034956\n",
      "R2 Score corresponding to  77  is  0.9372084304435205\n",
      "R2 Score corresponding to  78  is  0.9020702009036301\n",
      "R2 Score corresponding to  79  is  0.9041043940520082\n",
      "R2 Score corresponding to  80  is  0.8069366864621985\n",
      "R2 Score corresponding to  81  is  0.8617906447909751\n",
      "R2 Score corresponding to  82  is  0.8032529894340767\n",
      "R2 Score corresponding to  83  is  0.9380836312961773\n",
      "R2 Score corresponding to  84  is  0.9029193831615552\n",
      "R2 Score corresponding to  85  is  0.8453269168272016\n",
      "R2 Score corresponding to  86  is  0.9106270600425864\n",
      "R2 Score corresponding to  87  is  0.764934773699885\n",
      "R2 Score corresponding to  88  is  0.8398832690005557\n",
      "R2 Score corresponding to  89  is  0.8750948797944862\n",
      "R2 Score corresponding to  90  is  0.851068420957952\n",
      "R2 Score corresponding to  91  is  0.9043744496124941\n",
      "R2 Score corresponding to  92  is  0.9511734609411115\n",
      "R2 Score corresponding to  93  is  0.9127102241299947\n",
      "R2 Score corresponding to  94  is  0.8576396402751556\n",
      "R2 Score corresponding to  95  is  0.8930170514838215\n",
      "R2 Score corresponding to  96  is  0.8601271260430263\n",
      "R2 Score corresponding to  97  is  0.911002051288247\n",
      "R2 Score corresponding to  98  is  0.9399969113046048\n",
      "R2 Score corresponding to  99  is  0.9176553089894942\n",
      "R2 Score corresponding to  100  is  0.9137245637292846\n",
      "Maximum R2 Score corresponds to  92  is  0.9511734609411115\n"
     ]
    }
   ],
   "source": [
    "rd=Ridge(alpha=1)\n",
    "r_state=maxr2_score(rd,x,y)"
   ]
  },
  {
   "cell_type": "code",
   "execution_count": 34,
   "metadata": {},
   "outputs": [
    {
     "name": "stdout",
     "output_type": "stream",
     "text": [
      "Mean R2 Score for Ridge Regression is  0.8878358703003292\n",
      "Standard Deviation in R2 Score for Ridge Regression is  0.03921308406859007\n"
     ]
    }
   ],
   "source": [
    "print(\"Mean R2 Score for Ridge Regression is \",cross_val_score(rd,x,y,cv=5,scoring=\"r2\").mean())\n",
    "print(\"Standard Deviation in R2 Score for Ridge Regression is \",cross_val_score(rd,x,y,cv=5,scoring=\"r2\").std())"
   ]
  },
  {
   "cell_type": "markdown",
   "metadata": {},
   "source": [
    "ELASTIC NET REGRESSION"
   ]
  },
  {
   "cell_type": "code",
   "execution_count": 35,
   "metadata": {},
   "outputs": [
    {
     "data": {
      "text/plain": [
       "{'alpha': 1}"
      ]
     },
     "execution_count": 35,
     "metadata": {},
     "output_type": "execute_result"
    }
   ],
   "source": [
    "from sklearn.linear_model import ElasticNet\n",
    "enr=ElasticNet()\n",
    "parameters={\"alpha\":[0.001,0.01,0.1,1]}\n",
    "clf=GridSearchCV(enr,parameters,cv=10)\n",
    "clf.fit(x,y)\n",
    "clf.best_params_"
   ]
  },
  {
   "cell_type": "code",
   "execution_count": 36,
   "metadata": {},
   "outputs": [
    {
     "name": "stdout",
     "output_type": "stream",
     "text": [
      "R2 Score corresponding to  42  is  0.9008651979619743\n",
      "R2 Score corresponding to  43  is  0.9281328440899317\n",
      "R2 Score corresponding to  44  is  0.8306957018254346\n",
      "R2 Score corresponding to  45  is  0.8970807282398718\n",
      "R2 Score corresponding to  46  is  0.8538570820738893\n",
      "R2 Score corresponding to  47  is  0.8861523539126819\n",
      "R2 Score corresponding to  48  is  0.9199742826895415\n",
      "R2 Score corresponding to  49  is  0.8269555572603635\n",
      "R2 Score corresponding to  50  is  0.8522384946941736\n",
      "R2 Score corresponding to  51  is  0.9062861272469005\n",
      "R2 Score corresponding to  52  is  0.8837795183144087\n",
      "R2 Score corresponding to  53  is  0.9250480287159948\n",
      "R2 Score corresponding to  54  is  0.9175786981215053\n",
      "R2 Score corresponding to  55  is  0.9075076713038289\n",
      "R2 Score corresponding to  56  is  0.8896251022141355\n",
      "R2 Score corresponding to  57  is  0.9414094785574106\n",
      "R2 Score corresponding to  58  is  0.8410203171399109\n",
      "R2 Score corresponding to  59  is  0.9244360227578198\n",
      "R2 Score corresponding to  60  is  0.9164297064636896\n",
      "R2 Score corresponding to  61  is  0.8801968942270222\n",
      "R2 Score corresponding to  62  is  0.8422770914965623\n",
      "R2 Score corresponding to  63  is  0.908728793804487\n",
      "R2 Score corresponding to  64  is  0.8797674655915667\n",
      "R2 Score corresponding to  65  is  0.8952697881810712\n",
      "R2 Score corresponding to  66  is  0.8898180071843306\n",
      "R2 Score corresponding to  67  is  0.8838081996716303\n",
      "R2 Score corresponding to  68  is  0.8742099839883537\n",
      "R2 Score corresponding to  69  is  0.9223924610201923\n",
      "R2 Score corresponding to  70  is  0.9262857219378873\n",
      "R2 Score corresponding to  71  is  0.8286873429875781\n",
      "R2 Score corresponding to  72  is  0.907513123149837\n",
      "R2 Score corresponding to  73  is  0.840317267904594\n",
      "R2 Score corresponding to  74  is  0.8806216975720913\n",
      "R2 Score corresponding to  75  is  0.9087339835078189\n",
      "R2 Score corresponding to  76  is  0.7588688896640484\n",
      "R2 Score corresponding to  77  is  0.9378880540949991\n",
      "R2 Score corresponding to  78  is  0.9035550088063458\n",
      "R2 Score corresponding to  79  is  0.9032434756083397\n",
      "R2 Score corresponding to  80  is  0.8086366993092088\n",
      "R2 Score corresponding to  81  is  0.8622593602398663\n",
      "R2 Score corresponding to  82  is  0.8059739234908377\n",
      "R2 Score corresponding to  83  is  0.9392862073621561\n",
      "R2 Score corresponding to  84  is  0.9031323429322843\n",
      "R2 Score corresponding to  85  is  0.8471341117339759\n",
      "R2 Score corresponding to  86  is  0.9108700781398245\n",
      "R2 Score corresponding to  87  is  0.7659991104259318\n",
      "R2 Score corresponding to  88  is  0.8466802158978093\n",
      "R2 Score corresponding to  89  is  0.8829109821867234\n",
      "R2 Score corresponding to  90  is  0.8500048183448023\n",
      "R2 Score corresponding to  91  is  0.9013303552578831\n",
      "R2 Score corresponding to  92  is  0.9518169549600947\n",
      "R2 Score corresponding to  93  is  0.9122418379755589\n",
      "R2 Score corresponding to  94  is  0.8573942735632037\n",
      "R2 Score corresponding to  95  is  0.8924228396716621\n",
      "R2 Score corresponding to  96  is  0.8585516159145536\n",
      "R2 Score corresponding to  97  is  0.9175596115186828\n",
      "R2 Score corresponding to  98  is  0.939270053544264\n",
      "R2 Score corresponding to  99  is  0.9203321561438476\n",
      "R2 Score corresponding to  100  is  0.9195184820526492\n",
      "Maximum R2 Score corresponds to  92  is  0.9518169549600947\n"
     ]
    }
   ],
   "source": [
    "enr=ElasticNet(alpha=1)\n",
    "r_state=maxr2_score(enr,x,y)"
   ]
  },
  {
   "cell_type": "code",
   "execution_count": 37,
   "metadata": {},
   "outputs": [
    {
     "name": "stdout",
     "output_type": "stream",
     "text": [
      "Mean R2 Score for Elastic Net Regression is  0.8892438945462988\n",
      "Standard Deviation in R2 Score for Elastic Net Regression is  0.037278740405920226\n"
     ]
    }
   ],
   "source": [
    "print(\"Mean R2 Score for Elastic Net Regression is \",cross_val_score(enr,x,y,cv=5,scoring=\"r2\").mean())\n",
    "print(\"Standard Deviation in R2 Score for Elastic Net Regression is \",cross_val_score(enr,x,y,cv=5,scoring=\"r2\").std())"
   ]
  },
  {
   "cell_type": "markdown",
   "metadata": {},
   "source": [
    "GRADIENT BOOSTING REGRESSOR"
   ]
  },
  {
   "cell_type": "code",
   "execution_count": 38,
   "metadata": {},
   "outputs": [
    {
     "data": {
      "text/plain": [
       "{'learning_rate': 0.01, 'n_estimators': 1000}"
      ]
     },
     "execution_count": 38,
     "metadata": {},
     "output_type": "execute_result"
    }
   ],
   "source": [
    "from sklearn.ensemble import GradientBoostingRegressor\n",
    "import warnings\n",
    "warnings.filterwarnings('ignore')\n",
    "gbr=GradientBoostingRegressor()\n",
    "parameters={\"learning_rate\":[0.001,0.01,0.1,1],\"n_estimators\":[10,100,500,1000]}\n",
    "clf=GridSearchCV(gbr,parameters,cv=5)\n",
    "clf.fit(x,y)\n",
    "clf.best_params_"
   ]
  },
  {
   "cell_type": "code",
   "execution_count": 39,
   "metadata": {},
   "outputs": [
    {
     "name": "stdout",
     "output_type": "stream",
     "text": [
      "R2 Score corresponding to  42  is  0.9834005309961641\n",
      "R2 Score corresponding to  43  is  0.988117454484719\n",
      "R2 Score corresponding to  44  is  0.9583415439104074\n",
      "R2 Score corresponding to  45  is  0.9771722433547484\n",
      "R2 Score corresponding to  46  is  0.9798925943721816\n",
      "R2 Score corresponding to  47  is  0.9846575011576746\n",
      "R2 Score corresponding to  48  is  0.9908137897629343\n",
      "R2 Score corresponding to  49  is  0.9720333889890358\n",
      "R2 Score corresponding to  50  is  0.9829953697910263\n",
      "R2 Score corresponding to  51  is  0.9841582815462467\n",
      "R2 Score corresponding to  52  is  0.9785667311702381\n",
      "R2 Score corresponding to  53  is  0.9795147871716187\n",
      "R2 Score corresponding to  54  is  0.982665512317183\n",
      "R2 Score corresponding to  55  is  0.9842595867919022\n",
      "R2 Score corresponding to  56  is  0.9760058015366303\n",
      "R2 Score corresponding to  57  is  0.9872688263991339\n",
      "R2 Score corresponding to  58  is  0.9724666609737087\n",
      "R2 Score corresponding to  59  is  0.9883793435198382\n",
      "R2 Score corresponding to  60  is  0.981005753478115\n",
      "R2 Score corresponding to  61  is  0.980033510896407\n",
      "R2 Score corresponding to  62  is  0.9545638644024175\n",
      "R2 Score corresponding to  63  is  0.9794161944357739\n",
      "R2 Score corresponding to  64  is  0.9751717508823584\n",
      "R2 Score corresponding to  65  is  0.9677027786619778\n",
      "R2 Score corresponding to  66  is  0.9656763487648913\n",
      "R2 Score corresponding to  67  is  0.9873934161945344\n",
      "R2 Score corresponding to  68  is  0.9866521508032577\n",
      "R2 Score corresponding to  69  is  0.9903454593999502\n",
      "R2 Score corresponding to  70  is  0.9814089370003918\n",
      "R2 Score corresponding to  71  is  0.9750472865674146\n",
      "R2 Score corresponding to  72  is  0.9851183353056115\n",
      "R2 Score corresponding to  73  is  0.9748090414910684\n",
      "R2 Score corresponding to  74  is  0.9704491241661134\n",
      "R2 Score corresponding to  75  is  0.9878670312346349\n",
      "R2 Score corresponding to  76  is  0.9758404424582757\n",
      "R2 Score corresponding to  77  is  0.9840468601358269\n",
      "R2 Score corresponding to  78  is  0.973322110356511\n",
      "R2 Score corresponding to  79  is  0.988924450096439\n",
      "R2 Score corresponding to  80  is  0.9619984266595482\n",
      "R2 Score corresponding to  81  is  0.9845808242191775\n",
      "R2 Score corresponding to  82  is  0.9588034887064842\n",
      "R2 Score corresponding to  83  is  0.9798510597790699\n",
      "R2 Score corresponding to  84  is  0.9848606709831996\n",
      "R2 Score corresponding to  85  is  0.9660682606339437\n",
      "R2 Score corresponding to  86  is  0.9886660874343313\n",
      "R2 Score corresponding to  87  is  0.9576806929504373\n",
      "R2 Score corresponding to  88  is  0.9678848287413272\n",
      "R2 Score corresponding to  89  is  0.979692226792496\n",
      "R2 Score corresponding to  90  is  0.9584603799433109\n",
      "R2 Score corresponding to  91  is  0.9759437199174664\n",
      "R2 Score corresponding to  92  is  0.9873487977334017\n",
      "R2 Score corresponding to  93  is  0.9818230493516038\n",
      "R2 Score corresponding to  94  is  0.9694038270683725\n",
      "R2 Score corresponding to  95  is  0.9806280841939452\n",
      "R2 Score corresponding to  96  is  0.9810258927611111\n",
      "R2 Score corresponding to  97  is  0.9869755444591847\n",
      "R2 Score corresponding to  98  is  0.9836172531385017\n",
      "R2 Score corresponding to  99  is  0.9834315932413891\n",
      "R2 Score corresponding to  100  is  0.9831124397640799\n",
      "Maximum R2 Score corresponds to  48  is  0.9908137897629343\n"
     ]
    }
   ],
   "source": [
    "gbr=GradientBoostingRegressor(learning_rate=0.01,n_estimators=1000)\n",
    "r_state=maxr2_score(gbr,x,y)"
   ]
  },
  {
   "cell_type": "code",
   "execution_count": 40,
   "metadata": {},
   "outputs": [
    {
     "name": "stdout",
     "output_type": "stream",
     "text": [
      "Mean R2 Score for Gradient Boosting Regressor is  0.9781941748875707\n",
      "Standard Deviation in R2 Score for Gradient Boosting Regressor is  0.008585510731668052\n"
     ]
    }
   ],
   "source": [
    "print(\"Mean R2 Score for Gradient Boosting Regressor is \",cross_val_score(gbr,x,y,cv=5,scoring=\"r2\").mean())\n",
    "print(\"Standard Deviation in R2 Score for Gradient Boosting Regressor is \",cross_val_score(gbr,x,y,cv=5,scoring=\"r2\").std())"
   ]
  },
  {
   "cell_type": "markdown",
   "metadata": {},
   "source": [
    "ADA BOOST REGRESSOR"
   ]
  },
  {
   "cell_type": "code",
   "execution_count": 41,
   "metadata": {},
   "outputs": [
    {
     "data": {
      "text/plain": [
       "{'base_estimator': DecisionTreeRegressor(criterion='mse', max_depth=None, max_features=None,\n",
       "                       max_leaf_nodes=None, min_impurity_decrease=0.0,\n",
       "                       min_impurity_split=None, min_samples_leaf=1,\n",
       "                       min_samples_split=2, min_weight_fraction_leaf=0.0,\n",
       "                       presort=False, random_state=None, splitter='best'),\n",
       " 'learning_rate': 1,\n",
       " 'n_estimators': 1000}"
      ]
     },
     "execution_count": 41,
     "metadata": {},
     "output_type": "execute_result"
    }
   ],
   "source": [
    "from sklearn.ensemble import AdaBoostRegressor\n",
    "from sklearn.tree import DecisionTreeRegressor\n",
    "abr=AdaBoostRegressor()\n",
    "dtr=DecisionTreeRegressor()\n",
    "parameters={\"learning_rate\":[0.001,0.01,0.1,1],\"n_estimators\":[10,100,500,1000],\"base_estimator\":[lr,ls,dtr]}\n",
    "clf=GridSearchCV(abr,parameters,cv=5)\n",
    "clf.fit(x,y)\n",
    "clf.best_params_"
   ]
  },
  {
   "cell_type": "code",
   "execution_count": 43,
   "metadata": {},
   "outputs": [
    {
     "name": "stdout",
     "output_type": "stream",
     "text": [
      "R2 Score corresponding to  42  is  0.9771889092952224\n",
      "R2 Score corresponding to  43  is  0.9830386151589445\n",
      "R2 Score corresponding to  44  is  0.9463429324086999\n",
      "R2 Score corresponding to  45  is  0.9730467497185381\n",
      "R2 Score corresponding to  46  is  0.9679268918766926\n",
      "R2 Score corresponding to  47  is  0.9790943748834481\n",
      "R2 Score corresponding to  48  is  0.9719970332551401\n",
      "R2 Score corresponding to  49  is  0.9710593651990471\n",
      "R2 Score corresponding to  50  is  0.9742587991536659\n",
      "R2 Score corresponding to  51  is  0.9757626480857852\n",
      "R2 Score corresponding to  52  is  0.9725933400673299\n",
      "R2 Score corresponding to  53  is  0.9817199239064303\n",
      "R2 Score corresponding to  54  is  0.9773680465166618\n",
      "R2 Score corresponding to  55  is  0.9700134740780384\n",
      "R2 Score corresponding to  56  is  0.9674248832170897\n",
      "R2 Score corresponding to  57  is  0.9811800969547371\n",
      "R2 Score corresponding to  58  is  0.9650092096499325\n",
      "R2 Score corresponding to  59  is  0.981014069619509\n",
      "R2 Score corresponding to  60  is  0.969086883414148\n",
      "R2 Score corresponding to  61  is  0.9676912473331449\n",
      "R2 Score corresponding to  62  is  0.9563294594188337\n",
      "R2 Score corresponding to  63  is  0.9738725503987005\n",
      "R2 Score corresponding to  64  is  0.9689788531219223\n",
      "R2 Score corresponding to  65  is  0.9669458161122377\n",
      "R2 Score corresponding to  66  is  0.9660364785417181\n",
      "R2 Score corresponding to  67  is  0.9846372394069391\n",
      "R2 Score corresponding to  68  is  0.9758453298555959\n",
      "R2 Score corresponding to  69  is  0.9741107091700553\n",
      "R2 Score corresponding to  70  is  0.9820621012132743\n",
      "R2 Score corresponding to  71  is  0.9754127906005247\n",
      "R2 Score corresponding to  72  is  0.979940041565797\n",
      "R2 Score corresponding to  73  is  0.9656561349322055\n",
      "R2 Score corresponding to  74  is  0.9738398119736486\n",
      "R2 Score corresponding to  75  is  0.9793725369136758\n",
      "R2 Score corresponding to  76  is  0.9599740623186922\n",
      "R2 Score corresponding to  77  is  0.9767956530886588\n",
      "R2 Score corresponding to  78  is  0.9623549975079031\n",
      "R2 Score corresponding to  79  is  0.9850946939664389\n",
      "R2 Score corresponding to  80  is  0.9791417947655056\n",
      "R2 Score corresponding to  81  is  0.9739660749226857\n",
      "R2 Score corresponding to  82  is  0.9465226827213432\n",
      "R2 Score corresponding to  83  is  0.9802535309835857\n",
      "R2 Score corresponding to  84  is  0.9840935357272664\n",
      "R2 Score corresponding to  85  is  0.9713562975182538\n",
      "R2 Score corresponding to  86  is  0.9815906887056653\n",
      "R2 Score corresponding to  87  is  0.9710216980186258\n",
      "R2 Score corresponding to  88  is  0.9786924666011002\n",
      "R2 Score corresponding to  89  is  0.9801059902293823\n",
      "R2 Score corresponding to  90  is  0.9372473299945695\n",
      "R2 Score corresponding to  91  is  0.9768378700824153\n",
      "R2 Score corresponding to  92  is  0.9770690794991864\n",
      "R2 Score corresponding to  93  is  0.9729922797288645\n",
      "R2 Score corresponding to  94  is  0.9697673500539516\n",
      "R2 Score corresponding to  95  is  0.9657982346868655\n",
      "R2 Score corresponding to  96  is  0.9639405690337086\n",
      "R2 Score corresponding to  97  is  0.98137746151474\n",
      "R2 Score corresponding to  98  is  0.9802805643959173\n",
      "R2 Score corresponding to  99  is  0.9833620060778416\n",
      "R2 Score corresponding to  100  is  0.9743893727072709\n",
      "Maximum R2 Score corresponds to  79  is  0.9850946939664389\n"
     ]
    }
   ],
   "source": [
    "abr=AdaBoostRegressor(base_estimator=dtr,learning_rate=1,n_estimators=1000)\n",
    "r_state=maxr2_score(abr,x,y)"
   ]
  },
  {
   "cell_type": "code",
   "execution_count": 44,
   "metadata": {},
   "outputs": [
    {
     "name": "stdout",
     "output_type": "stream",
     "text": [
      "Mean R2 Score for ADA Boost Regressor is  0.9736784371286588\n",
      "Standard Deviation in R2 Score for ADA Boost Regressor is  0.006625058365087769\n"
     ]
    }
   ],
   "source": [
    "print(\"Mean R2 Score for ADA Boost Regressor is \",cross_val_score(abr,x,y,cv=5,scoring=\"r2\").mean())\n",
    "print(\"Standard Deviation in R2 Score for ADA Boost Regressor is \",cross_val_score(abr,x,y,cv=5,scoring=\"r2\").std())"
   ]
  },
  {
   "cell_type": "markdown",
   "metadata": {},
   "source": [
    "# BEST MODEL"
   ]
  },
  {
   "cell_type": "code",
   "execution_count": 45,
   "metadata": {},
   "outputs": [
    {
     "name": "stdout",
     "output_type": "stream",
     "text": [
      "R2 Score is  0.9895661327259082\n",
      "RMSE is  0.5499608572811082\n"
     ]
    }
   ],
   "source": [
    "x_train,x_test,y_train,y_test=train_test_split(x,y,random_state=48,test_size=0.20)\n",
    "gbr=GradientBoostingRegressor()\n",
    "gbr.fit(x_train,y_train)\n",
    "y_pred=gbr.predict(x_test)\n",
    "print(\"R2 Score is \",r2_score(y_test,y_pred))\n",
    "print(\"RMSE is \",np.sqrt(mean_squared_error(y_test,y_pred)))"
   ]
  },
  {
   "cell_type": "markdown",
   "metadata": {},
   "source": [
    "I will use Gradient Boost Regressor for this dataset."
   ]
  },
  {
   "cell_type": "markdown",
   "metadata": {},
   "source": [
    "# PICKLE"
   ]
  },
  {
   "cell_type": "code",
   "execution_count": 46,
   "metadata": {},
   "outputs": [
    {
     "data": {
      "text/plain": [
       "['sales.pkl']"
      ]
     },
     "execution_count": 46,
     "metadata": {},
     "output_type": "execute_result"
    }
   ],
   "source": [
    "from sklearn.externals import joblib\n",
    "joblib.dump(gbr,'sales.pkl')"
   ]
  },
  {
   "cell_type": "code",
   "execution_count": null,
   "metadata": {},
   "outputs": [],
   "source": []
  }
 ],
 "metadata": {
  "kernelspec": {
   "display_name": "Python 3",
   "language": "python",
   "name": "python3"
  },
  "language_info": {
   "codemirror_mode": {
    "name": "ipython",
    "version": 3
   },
   "file_extension": ".py",
   "mimetype": "text/x-python",
   "name": "python",
   "nbconvert_exporter": "python",
   "pygments_lexer": "ipython3",
   "version": "3.7.4"
  }
 },
 "nbformat": 4,
 "nbformat_minor": 2
}
